{
 "cells": [
  {
   "cell_type": "markdown",
   "id": "7eff2402",
   "metadata": {},
   "source": [
    "__We start by importint the required libraries for our assignment, which is Numpy and Pandas__"
   ]
  },
  {
   "cell_type": "code",
   "execution_count": 1,
   "id": "8642aeaa",
   "metadata": {},
   "outputs": [],
   "source": [
    "import pandas as pd \n",
    "import numpy as np"
   ]
  },
  {
   "cell_type": "code",
   "execution_count": 14,
   "id": "8544976e",
   "metadata": {},
   "outputs": [],
   "source": [
    "#assigning the link to our dataset to chipo variable\n",
    "url = \"https://raw.githubusercontent.com/justmarkham/DAT8/master/data/chipotle.tsv\"\n",
    "chipo = pd.read_csv(url, sep='\\t')"
   ]
  },
  {
   "cell_type": "code",
   "execution_count": 15,
   "id": "4abaef5c",
   "metadata": {},
   "outputs": [
    {
     "name": "stdout",
     "output_type": "stream",
     "text": [
      "   order_id  quantity                              item_name  \\\n",
      "0         1         1           Chips and Fresh Tomato Salsa   \n",
      "1         1         1                                   Izze   \n",
      "2         1         1                       Nantucket Nectar   \n",
      "3         1         1  Chips and Tomatillo-Green Chili Salsa   \n",
      "4         2         2                           Chicken Bowl   \n",
      "5         3         1                           Chicken Bowl   \n",
      "6         3         1                          Side of Chips   \n",
      "7         4         1                          Steak Burrito   \n",
      "8         4         1                       Steak Soft Tacos   \n",
      "9         5         1                          Steak Burrito   \n",
      "\n",
      "                                  choice_description item_price  \n",
      "0                                                NaN     $2.39   \n",
      "1                                       [Clementine]     $3.39   \n",
      "2                                            [Apple]     $3.39   \n",
      "3                                                NaN     $2.39   \n",
      "4  [Tomatillo-Red Chili Salsa (Hot), [Black Beans...    $16.98   \n",
      "5  [Fresh Tomato Salsa (Mild), [Rice, Cheese, Sou...    $10.98   \n",
      "6                                                NaN     $1.69   \n",
      "7  [Tomatillo Red Chili Salsa, [Fajita Vegetables...    $11.75   \n",
      "8  [Tomatillo Green Chili Salsa, [Pinto Beans, Ch...     $9.25   \n",
      "9  [Fresh Tomato Salsa, [Rice, Black Beans, Pinto...     $9.25   \n"
     ]
    }
   ],
   "source": [
    "print(chipo.head(10))"
   ]
  },
  {
   "cell_type": "code",
   "execution_count": 18,
   "id": "4026ae4b",
   "metadata": {},
   "outputs": [
    {
     "name": "stdout",
     "output_type": "stream",
     "text": [
      "4622\n",
      "(4622, 5)\n"
     ]
    }
   ],
   "source": [
    "#Step 5. What is the number of observations in the dataset?\n",
    "print(chipo.shape[0])\n",
    "print(chipo.shape)"
   ]
  },
  {
   "cell_type": "code",
   "execution_count": 19,
   "id": "5e1a58ba",
   "metadata": {},
   "outputs": [
    {
     "name": "stdout",
     "output_type": "stream",
     "text": [
      "<class 'pandas.core.frame.DataFrame'>\n",
      "RangeIndex: 4622 entries, 0 to 4621\n",
      "Data columns (total 5 columns):\n",
      " #   Column              Non-Null Count  Dtype \n",
      "---  ------              --------------  ----- \n",
      " 0   order_id            4622 non-null   int64 \n",
      " 1   quantity            4622 non-null   int64 \n",
      " 2   item_name           4622 non-null   object\n",
      " 3   choice_description  3376 non-null   object\n",
      " 4   item_price          4622 non-null   object\n",
      "dtypes: int64(2), object(3)\n",
      "memory usage: 180.7+ KB\n"
     ]
    }
   ],
   "source": [
    "#To get more information about the dataset\n",
    "chipo.info()"
   ]
  },
  {
   "cell_type": "code",
   "execution_count": 20,
   "id": "1392b24a",
   "metadata": {},
   "outputs": [
    {
     "data": {
      "text/plain": [
       "5"
      ]
     },
     "execution_count": 20,
     "metadata": {},
     "output_type": "execute_result"
    }
   ],
   "source": [
    "#To get the number of columns\n",
    "chipo.shape[1]"
   ]
  },
  {
   "cell_type": "code",
   "execution_count": 24,
   "id": "f86405b1",
   "metadata": {},
   "outputs": [
    {
     "name": "stdout",
     "output_type": "stream",
     "text": [
      "Index(['order_id', 'quantity', 'item_name', 'choice_description',\n",
      "       'item_price'],\n",
      "      dtype='object')\n"
     ]
    }
   ],
   "source": [
    "#To print the names of the columns\n",
    "print(chipo.columns)\n"
   ]
  },
  {
   "cell_type": "code",
   "execution_count": 25,
   "id": "7b72f735",
   "metadata": {},
   "outputs": [
    {
     "data": {
      "text/plain": [
       "RangeIndex(start=0, stop=4622, step=1)"
      ]
     },
     "execution_count": 25,
     "metadata": {},
     "output_type": "execute_result"
    }
   ],
   "source": [
    "# How is the dataset indexed?\n",
    "chipo.index"
   ]
  },
  {
   "cell_type": "code",
   "execution_count": 27,
   "id": "c77fa563",
   "metadata": {},
   "outputs": [
    {
     "data": {
      "application/vnd.microsoft.datawrangler.viewer.v0+json": {
       "columns": [
        {
         "name": "item_name",
         "rawType": "object",
         "type": "string"
        },
        {
         "name": "order_id",
         "rawType": "int64",
         "type": "integer"
        },
        {
         "name": "quantity",
         "rawType": "int64",
         "type": "integer"
        },
        {
         "name": "choice_description",
         "rawType": "object",
         "type": "string"
        },
        {
         "name": "item_price",
         "rawType": "object",
         "type": "string"
        }
       ],
       "ref": "3287ce01-3f7e-4cd0-b5eb-fc31a3ebc230",
       "rows": [
        [
         "Chicken Bowl",
         "713926",
         "761",
         "[Tomatillo-Red Chili Salsa (Hot), [Black Beans, Rice, Cheese, Sour Cream]][Fresh Tomato Salsa (Mild), [Rice, Cheese, Sour Cream, Guacamole, Lettuce]][Fresh Tomato Salsa, [Fajita Vegetables, Rice, Cheese, Sour Cream, Guacamole]][Tomatillo Red Chili Salsa, [Fajita Vegetables, Black Beans, Sour Cream, Cheese, Lettuce]][Roasted Chili Corn Salsa (Medium), [Pinto Beans, Rice, Fajita Veggies, Cheese, Sour Cream, Lettuce]][Roasted Chili Corn Salsa, [Rice, Black Beans, Cheese, Sour Cream, Guacamole, Lettuce]][Fresh Tomato Salsa, [Rice, Black Beans, Pinto Beans, Cheese, Lettuce]][Fresh Tomato Salsa, [Rice, Black Beans, Cheese, Sour Cream, Lettuce]][Tomatillo Red Chili Salsa, [Rice, Fajita Vegetables, Sour Cream, Lettuce]][Tomatillo Red Chili Salsa, [Rice, Black Beans, Cheese, Sour Cream, Lettuce]][Fresh Tomato Salsa, [Guacamole, Cheese, Sour Cream, Fajita Vegetables, Rice]][Fresh Tomato Salsa, [Rice, Fajita Vegetables, Sour Cream, Cheese, Guacamole]][Tomatillo Green Chili Salsa, [Rice, Sour Cream, Cheese, Guacamole]][Fresh Tomato Salsa, [Fajita Vegetables, Rice, Black Beans, Cheese, Guacamole, Lettuce]][Fresh Tomato Salsa, [Fajita Vegetables, Rice, Lettuce]][Fresh Tomato Salsa (Mild), [Black Beans, Rice, Fajita Veggies, Cheese, Sour Cream, Lettuce]][Roasted Chili Corn Salsa (Medium), [Black Beans, Rice, Fajita Veggies, Cheese, Sour Cream, Guacamole, Lettuce]][Fresh Tomato Salsa, [Rice, Black Beans, Sour Cream]][Fresh Tomato Salsa, [Rice, Cheese, Sour Cream]][[Roasted Chili Corn Salsa (Medium), Tomatillo-Red Chili Salsa (Hot)], [Black Beans, Rice, Fajita Veggies, Guacamole, Lettuce]][Fresh Tomato Salsa, [Rice, Cheese, Lettuce]][Roasted Chili Corn Salsa, [Fajita Vegetables, Rice, Black Beans, Cheese, Sour Cream, Guacamole, Lettuce]][Roasted Chili Corn Salsa, [Fajita Vegetables, Rice, Black Beans, Pinto Beans, Cheese, Sour Cream, Guacamole, Lettuce]][Tomatillo Green Chili Salsa, [Rice, Black Beans, Cheese, Sour Cream]][Roasted Chili Corn Salsa, [Rice, Black Beans, Cheese, Sour Cream]][Tomatillo Green Chili Salsa, [Rice, Pinto Beans, Sour Cream, Lettuce]][Fresh Tomato Salsa, [Fajita Vegetables, Rice, Black Beans, Cheese, Sour Cream, Lettuce]][Tomatillo Red Chili Salsa, [Rice, Cheese, Lettuce]][Fresh Tomato Salsa, [Rice, Black Beans, Cheese]][Fresh Tomato Salsa, [Rice, Black Beans, Cheese, Sour Cream]][Fresh Tomato Salsa, [Rice, Cheese, Sour Cream]][Roasted Chili Corn Salsa, [Fajita Vegetables, Rice, Black Beans, Guacamole, Lettuce]][Tomatillo Green Chili Salsa, [Rice, Sour Cream, Guacamole, Lettuce]][Fresh Tomato Salsa (Mild), [Rice, Fajita Veggies, Cheese, Sour Cream, Lettuce]][Fresh Tomato Salsa, [Rice, Black Beans, Cheese, Sour Cream, Guacamole, Lettuce]][Fresh Tomato Salsa, [Rice, Black Beans, Cheese, Sour Cream, Lettuce]][Fresh Tomato Salsa, [Rice, Black Beans, Cheese, Sour Cream]][Fresh Tomato Salsa, [Fajita Vegetables, Rice, Black Beans, Sour Cream]][Tomatillo Red Chili Salsa, [Rice, Cheese]][Tomatillo-Red Chili Salsa (Hot), [Rice, Fajita Veggies, Cheese, Sour Cream, Lettuce]][Fresh Tomato Salsa, [Rice, Cheese, Sour Cream]][Fresh Tomato Salsa, [Rice, Black Beans, Cheese, Sour Cream, Guacamole]][Tomatillo Red Chili Salsa, [Rice, Black Beans, Cheese, Sour Cream, Guacamole, Lettuce]][[Fresh Tomato Salsa (Mild), Tomatillo-Green Chili Salsa (Medium), Roasted Chili Corn Salsa (Medium)], [Black Beans, Rice, Fajita Veggies, Cheese, Guacamole, Lettuce]][Tomatillo Green Chili Salsa, [Sour Cream, Cheese, Guacamole]][Tomatillo Red Chili Salsa][Roasted Chili Corn Salsa, [Rice, Lettuce]][Fresh Tomato Salsa, [Rice, Black Beans, Cheese, Lettuce]][Fresh Tomato Salsa, [Rice, Black Beans, Cheese, Sour Cream, Guacamole, Lettuce]][Fresh Tomato Salsa, [Rice, Black Beans, Cheese]][Fresh Tomato Salsa (Mild), [Black Beans, Rice, Fajita Veggies, Cheese, Sour Cream, Lettuce]][Tomatillo Green Chili Salsa, [Rice, Black Beans, Cheese]][Roasted Chili Corn Salsa, [Rice, Fajita Vegetables, Black Beans, Sour Cream, Cheese, Lettuce]][Fresh Tomato Salsa, [Fajita Vegetables, Rice, Black Beans, Cheese]][Fresh Tomato Salsa, [Rice, Black Beans, Cheese, Sour Cream, Guacamole, Lettuce]][Fresh Tomato Salsa, [Fajita Vegetables, Rice, Black Beans, Cheese]][Fresh Tomato Salsa, [Rice, Black Beans, Cheese, Sour Cream, Lettuce]][Fresh Tomato Salsa, [Fajita Vegetables, Rice, Cheese, Sour Cream, Guacamole]][Roasted Chili Corn Salsa, [Fajita Vegetables, Rice, Black Beans, Guacamole]][Tomatillo-Red Chili Salsa (Hot), Rice][Fresh Tomato Salsa, [Rice, Black Beans, Sour Cream, Cheese]][Fresh Tomato Salsa, [Rice, Cheese, Lettuce]][Tomatillo Green Chili Salsa, [Rice, Black Beans, Cheese]][Roasted Chili Corn Salsa, [Rice, Pinto Beans, Lettuce, Guacamole]][Roasted Chili Corn Salsa (Medium), [Black Beans, Fajita Veggies, Cheese, Guacamole, Lettuce]][Fresh Tomato Salsa, [Rice, Cheese, Lettuce]][Roasted Chili Corn Salsa, [Rice, Black Beans, Cheese, Sour Cream, Guacamole, Lettuce]][Fresh Tomato Salsa (Mild), [Rice, Cheese, Sour Cream, Lettuce]][Fresh Tomato Salsa, [Rice, Pinto Beans, Sour Cream, Cheese, Lettuce]][Tomatillo Green Chili Salsa, [Rice, Black Beans, Sour Cream, Lettuce]][Roasted Chili Corn Salsa, [Rice, Cheese, Lettuce]][Fresh Tomato Salsa, [Rice, Pinto Beans, Cheese, Sour Cream, Lettuce]][Tomatillo-Red Chili Salsa (Hot), [Black Beans, Rice, Fajita Veggies, Cheese, Lettuce]][Fresh Tomato Salsa, [Fajita Vegetables, Rice, Lettuce]][Tomatillo-Red Chili Salsa (Hot), [Black Beans, Rice, Cheese, Sour Cream, Lettuce]][Fresh Tomato Salsa, [Rice, Black Beans, Cheese, Sour Cream, Guacamole, Lettuce]][Fresh Tomato Salsa, [Fajita Vegetables, Rice, Cheese, Sour Cream, Guacamole]][Tomatillo Green Chili Salsa, [Rice, Sour Cream, Cheese, Guacamole]][Tomatillo Green Chili Salsa, [Fajita Vegetables, Rice, Black Beans, Cheese, Sour Cream, Guacamole, Lettuce]][Roasted Chili Corn Salsa, [Rice, Black Beans, Cheese, Sour Cream, Lettuce]][Fresh Tomato Salsa, [Rice, Black Beans, Sour Cream, Cheese]][Roasted Chili Corn Salsa, [Fajita Vegetables, Rice, Black Beans, Cheese, Sour Cream, Guacamole, Lettuce]][Tomatillo-Green Chili Salsa (Medium), Black Beans][Tomatillo-Green Chili Salsa (Medium), Black Beans][Fresh Tomato Salsa, [Rice, Black Beans, Cheese, Sour Cream, Lettuce]][Roasted Chili Corn Salsa, [Fajita Vegetables, Rice, Black Beans, Cheese, Lettuce]][Tomatillo Red Chili Salsa, [Fajita Vegetables, Rice, Black Beans, Cheese, Sour Cream, Lettuce]][[Fresh Tomato Salsa (Mild), Roasted Chili Corn Salsa (Medium)], [Rice, Sour Cream, Guacamole, Lettuce]][Tomatillo Red Chili Salsa, [Rice, Fajita Vegetables, Black Beans, Sour Cream, Cheese]][Tomatillo Red Chili Salsa, [Rice, Cheese, Sour Cream, Lettuce]][[Roasted Chili Corn Salsa (Medium), Fresh Tomato Salsa (Mild)], [Rice, Black Beans, Fajita Veggies, Cheese, Sour Cream, Guacamole]][Tomatillo Red Chili Salsa, [Rice, Black Beans, Cheese, Sour Cream, Lettuce]][Fresh Tomato Salsa, [Rice, Guacamole]][Fresh Tomato Salsa, [Rice, Black Beans, Cheese, Sour Cream, Guacamole]][Tomatillo Green Chili Salsa, [Rice, Pinto Beans, Sour Cream, Lettuce]][Tomatillo Red Chili Salsa, [Rice, Sour Cream, Cheese, Guacamole]][Roasted Chili Corn Salsa, [Fajita Vegetables, Pinto Beans, Sour Cream, Guacamole]][Tomatillo Green Chili Salsa, [Rice, Cheese, Sour Cream, Lettuce]][Tomatillo-Red Chili Salsa (Hot), [Pinto Beans, Rice, Fajita Veggies, Cheese, Sour Cream, Lettuce]][Fresh Tomato Salsa (Mild), [Rice, Fajita Veggies, Sour Cream, Guacamole]][Fresh Tomato Salsa, [Rice, Cheese, Sour Cream]][Roasted Chili Corn Salsa, [Fajita Vegetables, Rice, Cheese, Sour Cream, Guacamole, Lettuce]][Roasted Chili Corn Salsa, [Rice, Cheese, Sour Cream, Lettuce]][Tomatillo Green Chili Salsa, [Rice, Cheese, Sour Cream, Lettuce]][Fresh Tomato Salsa, [Rice, Black Beans, Cheese, Sour Cream]][Fresh Tomato Salsa, [Fajita Vegetables, Rice, Cheese, Sour Cream, Lettuce]][Fresh Tomato Salsa (Mild), [Pinto Beans, Rice, Cheese, Sour Cream, Lettuce]][Tomatillo-Red Chili Salsa (Hot), [Rice, Fajita Veggies, Cheese, Sour Cream, Lettuce]][Fresh Tomato Salsa, [Fajita Vegetables, Rice, Black Beans, Sour Cream]][Roasted Chili Corn Salsa, [Fajita Vegetables, Rice, Black Beans, Cheese, Sour Cream]][Tomatillo Red Chili Salsa, [Rice, Black Beans, Cheese, Lettuce, Guacamole]][Fresh Tomato Salsa, [Fajita Vegetables, Rice, Lettuce]][Fresh Tomato Salsa, [Rice, Black Beans, Cheese, Lettuce]][Fresh Tomato Salsa, [Fajita Vegetables, Rice, Black Beans, Cheese, Sour Cream, Lettuce]][Tomatillo Green Chili Salsa, [Fajita Vegetables, Rice, Black Beans, Cheese, Sour Cream, Lettuce]][Tomatillo Green Chili Salsa, [Rice, Sour Cream, Cheese, Guacamole]][Fresh Tomato Salsa, [Rice, Fajita Vegetables, Pinto Beans, Sour Cream, Cheese, Lettuce, Guacamole]][[Fresh Tomato Salsa (Mild), Tomatillo-Red Chili Salsa (Hot)], [Black Beans, Rice, Cheese, Sour Cream]][Roasted Chili Corn Salsa (Medium), [Black Beans, Rice, Sour Cream, Guacamole]][Roasted Chili Corn Salsa (Medium), [Rice, Cheese]][Roasted Chili Corn Salsa (Medium), [Black Beans, Rice, Cheese, Sour Cream, Lettuce]][Fresh Tomato Salsa, [Rice, Sour Cream, Cheese, Lettuce]][Fresh Tomato Salsa][Fresh Tomato Salsa, [Rice, Cheese, Black Beans]][Fresh Tomato Salsa, [Rice, Cheese, Sour Cream, Lettuce]][Fresh Tomato Salsa, [Rice, Cheese, Sour Cream, Lettuce]][Fresh Tomato Salsa, [Fajita Vegetables, Rice]][[Fresh Tomato Salsa (Mild), Tomatillo-Red Chili Salsa (Hot)], [Black Beans, Rice, Cheese, Sour Cream]][Fresh Tomato Salsa, [Fajita Vegetables, Rice]][[Tomatillo-Green Chili Salsa (Medium), Roasted Chili Corn Salsa (Medium)], [Black Beans, Rice, Cheese, Sour Cream, Lettuce]][Fresh Tomato Salsa, [Fajita Vegetables, Rice, Black Beans, Cheese, Guacamole, Lettuce]][Tomatillo Green Chili Salsa, [Fajita Vegetables, Rice, Cheese, Lettuce]][Fresh Tomato Salsa, [Rice, Fajita Vegetables]][Tomatillo Red Chili Salsa, [Fajita Vegetables, Rice, Black Beans, Cheese, Sour Cream, Guacamole, Lettuce]][Fresh Tomato Salsa, [Fajita Vegetables, Rice, Lettuce]][Fresh Tomato Salsa, [Rice, Black Beans, Cheese]][Fresh Tomato Salsa, [Rice, Cheese, Sour Cream, Lettuce]][Tomatillo Red Chili Salsa, [Rice, Black Beans, Cheese, Sour Cream, Lettuce]][Roasted Chili Corn Salsa, [Rice, Pinto Beans, Cheese, Sour Cream, Guacamole, Lettuce]][Roasted Chili Corn Salsa, [Rice, Cheese, Lettuce]][Fresh Tomato Salsa, [Fajita Vegetables, Rice]][Roasted Chili Corn Salsa, [Fajita Vegetables, Rice, Pinto Beans, Cheese, Sour Cream, Lettuce]][[Roasted Chili Corn Salsa (Medium), Tomatillo-Red Chili Salsa (Hot)], [Pinto Beans, Rice, Fajita Veggies]][Roasted Chili Corn Salsa, [Fajita Vegetables, Rice, Black Beans, Cheese]][Fresh Tomato Salsa, [Fajita Vegetables, Rice, Black Beans, Cheese, Guacamole, Lettuce]][Roasted Chili Corn Salsa, [Rice, Black Beans, Cheese, Guacamole]][Fresh Tomato Salsa, [Rice, Black Beans, Cheese, Sour Cream, Lettuce]][Roasted Chili Corn Salsa, [Rice, Black Beans, Cheese, Sour Cream, Guacamole]][Fresh Tomato Salsa, [Rice, Black Beans, Cheese, Guacamole]][[Fresh Tomato Salsa (Mild), Tomatillo-Red Chili Salsa (Hot)], [Black Beans, Rice, Cheese, Sour Cream, Guacamole]][Tomatillo-Red Chili Salsa (Hot), [Pinto Beans, Rice, Cheese, Sour Cream, Guacamole]][Roasted Chili Corn Salsa, [Rice, Black Beans, Sour Cream, Guacamole]][Tomatillo Green Chili Salsa, [Rice, Cheese, Guacamole, Lettuce]][Fresh Tomato Salsa, [Fajita Vegetables, Rice]][Fresh Tomato Salsa, [Rice, Black Beans]][Fresh Tomato Salsa, [Fajita Vegetables, Rice]][Fresh Tomato Salsa, [Fajita Vegetables, Rice, Cheese, Sour Cream, Guacamole, Lettuce]][Fresh Tomato Salsa (Mild), [Rice, Black Beans, Fajita Veggies, Cheese, Guacamole, Lettuce]][Roasted Chili Corn Salsa, [Rice, Black Beans, Cheese, Sour Cream, Lettuce]][Roasted Chili Corn Salsa, [Fajita Vegetables, Black Beans, Guacamole]][Tomatillo Green Chili Salsa, [Rice, Pinto Beans, Sour Cream, Lettuce]][[Fresh Tomato Salsa (Mild), Tomatillo-Red Chili Salsa (Hot)], [Black Beans, Rice, Cheese, Sour Cream]][Fresh Tomato Salsa (Mild), [Black Beans, Rice, Cheese]][Tomatillo Red Chili Salsa, [Black Beans, Cheese, Sour Cream]][Fresh Tomato Salsa, [Rice, Cheese, Sour Cream, Lettuce]][Fresh Tomato Salsa, [Rice, Fajita Vegetables]][Tomatillo Red Chili Salsa, [Rice, Cheese, Lettuce]][Tomatillo Green Chili Salsa, [Rice, Black Beans, Pinto Beans, Guacamole, Lettuce]][Roasted Chili Corn Salsa, [Rice, Black Beans, Sour Cream]][Tomatillo Red Chili Salsa, [Fajita Vegetables, Rice, Black Beans, Cheese, Sour Cream]][Tomatillo-Green Chili Salsa (Medium), [Fajita Veggies, Cheese, Guacamole, Lettuce]][Roasted Chili Corn Salsa, [Rice, Black Beans, Cheese, Lettuce, Guacamole]][Roasted Chili Corn Salsa (Medium), [Rice, Cheese]][Fresh Tomato Salsa, [Rice, Lettuce]][Roasted Chili Corn Salsa, [Rice, Black Beans, Cheese]][Tomatillo Red Chili Salsa, [Fajita Vegetables, Rice, Cheese, Guacamole]][Fresh Tomato Salsa, [Rice, Sour Cream, Guacamole]][[Fresh Tomato Salsa (Mild), Roasted Chili Corn Salsa (Medium)], [Rice, Fajita Veggies]][Roasted Chili Corn Salsa, [Fajita Vegetables, Rice, Sour Cream, Lettuce]][Fresh Tomato Salsa, [Fajita Vegetables, Rice, Black Beans, Pinto Beans, Cheese, Sour Cream, Guacamole]][[Roasted Chili Corn Salsa (Medium), Tomatillo-Red Chili Salsa (Hot)], [Pinto Beans, Rice, Fajita Veggies, Cheese, Lettuce]][Fresh Tomato Salsa (Mild), [Black Beans, Rice, Sour Cream, Guacamole]][Fresh Tomato Salsa, [Fajita Vegetables, Rice]][Fresh Tomato Salsa, [Rice, Black Beans, Cheese, Sour Cream, Guacamole, Lettuce]][Fresh Tomato Salsa, [Rice, Black Beans, Cheese, Sour Cream, Lettuce]][Fresh Tomato Salsa, [Fajita Vegetables, Pinto Beans, Guacamole, Lettuce]][Fresh Tomato Salsa, [Rice, Cheese, Sour Cream, Lettuce]][Tomatillo Red Chili Salsa, [Fajita Vegetables, Rice, Black Beans, Cheese, Sour Cream]][Fresh Tomato Salsa, [Rice, Black Beans, Cheese]][Fresh Tomato Salsa, [Rice, Black Beans, Cheese, Sour Cream, Lettuce]][Fresh Tomato Salsa, [Sour Cream, Lettuce, Rice, Cheese]][Roasted Chili Corn Salsa, [Rice, Fajita Vegetables, Black Beans, Sour Cream, Cheese, Lettuce]][Roasted Chili Corn Salsa, [Fajita Vegetables, Rice, Black Beans, Pinto Beans, Cheese, Guacamole, Lettuce]][Tomatillo Green Chili Salsa, [Rice, Sour Cream, Cheese, Guacamole]][Fresh Tomato Salsa (Mild), [Black Beans, Rice, Fajita Veggies, Cheese, Sour Cream, Lettuce]][[Fresh Tomato Salsa (Mild), Roasted Chili Corn Salsa (Medium), Tomatillo-Red Chili Salsa (Hot)], [Black Beans, Rice, Fajita Veggies, Cheese, Sour Cream, Lettuce]][Fresh Tomato Salsa (Mild), [Black Beans, Rice, Cheese, Sour Cream, Lettuce]][Fresh Tomato Salsa, [Rice, Cheese, Lettuce]][Fresh Tomato Salsa, [Rice, Cheese, Sour Cream, Lettuce]][Fresh Tomato Salsa, [Fajita Vegetables, Rice, Cheese, Guacamole]][Fresh Tomato Salsa, [Rice, Guacamole, Lettuce]][Roasted Chili Corn Salsa, [Fajita Vegetables, Lettuce, Black Beans]][Roasted Chili Corn Salsa, [Fajita Vegetables, Cheese, Lettuce]][Roasted Chili Corn Salsa, [Rice, Fajita Vegetables, Cheese, Lettuce]][Fresh Tomato Salsa, [Fajita Vegetables, Rice]][Fresh Tomato Salsa, [Fajita Vegetables, Rice, Sour Cream, Lettuce]][Fresh Tomato Salsa, [Fajita Vegetables, Rice, Cheese, Sour Cream, Guacamole, Lettuce]][Fresh Tomato Salsa, [Rice, Fajita Vegetables, Cheese, Lettuce, Guacamole]][Tomatillo Green Chili Salsa, [Rice, Pinto Beans, Sour Cream, Lettuce]][Tomatillo Green Chili Salsa, [Rice, Cheese, Sour Cream, Lettuce]][Fresh Tomato Salsa, [Rice, Cheese, Sour Cream, Guacamole, Lettuce]][Tomatillo Green Chili Salsa, [Fajita Vegetables, Rice, Black Beans]][Tomatillo-Red Chili Salsa (Hot), [Rice, Cheese, Sour Cream, Lettuce]][Tomatillo-Red Chili Salsa (Hot), [Rice, Fajita Veggies, Sour Cream, Lettuce]][Fresh Tomato Salsa, [Rice, Fajita Vegetables, Sour Cream, Cheese, Guacamole]][Tomatillo Red Chili Salsa, [Rice, Black Beans, Cheese, Sour Cream, Lettuce]][[Fresh Tomato Salsa (Mild), Tomatillo-Red Chili Salsa (Hot)], [Black Beans, Rice, Cheese, Sour Cream]][Tomatillo-Red Chili Salsa (Hot), [Black Beans, Rice, Cheese, Lettuce]][Roasted Chili Corn Salsa (Medium), [Rice, Cheese, Lettuce]][Tomatillo-Red Chili Salsa (Hot), [Black Beans, Rice, Cheese, Lettuce]][Tomatillo Red Chili Salsa, [Rice, Pinto Beans, Cheese, Lettuce]][Fresh Tomato Salsa, [Rice, Cheese, Sour Cream, Guacamole]][Roasted Chili Corn Salsa, [Rice, Cheese, Sour Cream, Guacamole]][Fresh Tomato Salsa, [Fajita Vegetables, Rice]][[Fresh Tomato Salsa (Mild), Roasted Chili Corn Salsa (Medium)], [Rice, Fajita Veggies]][Tomatillo Red Chili Salsa, [Rice, Black Beans, Cheese, Sour Cream, Guacamole, Lettuce]][[Fresh Tomato Salsa (Mild), Roasted Chili Corn Salsa (Medium), Tomatillo-Red Chili Salsa (Hot)], [Black Beans, Rice, Cheese, Sour Cream]][Tomatillo-Red Chili Salsa (Hot), [Pinto Beans, Rice, Fajita Veggies, Cheese, Sour Cream]][Fresh Tomato Salsa, [Rice, Black Beans, Cheese, Sour Cream, Guacamole]][Roasted Chili Corn Salsa, [Fajita Vegetables, Rice, Pinto Beans, Cheese, Guacamole, Lettuce]][Fresh Tomato Salsa (Mild), [Pinto Beans, Rice, Fajita Veggies, Cheese, Sour Cream, Guacamole, Lettuce]][Fresh Tomato Salsa, [Sour Cream, Cheese]][Fresh Tomato Salsa, [Rice, Cheese, Lettuce]][Tomatillo-Green Chili Salsa (Medium), [Pinto Beans, Rice, Fajita Veggies, Lettuce]][Fresh Tomato Salsa, [Rice, Black Beans, Cheese]][Roasted Chili Corn Salsa (Medium), [Rice, Fajita Veggies, Cheese]][Fresh Tomato Salsa (Mild), [Black Beans, Rice, Fajita Veggies, Cheese]][[Roasted Chili Corn Salsa (Medium), Tomatillo-Red Chili Salsa (Hot)], [Pinto Beans, Rice, Fajita Veggies, Cheese]][Roasted Chili Corn Salsa, [Rice, Black Beans, Cheese]][Tomatillo-Red Chili Salsa (Hot), [Rice, Cheese, Sour Cream, Lettuce]][[Fresh Tomato Salsa (Mild), Roasted Chili Corn Salsa (Medium)], [Black Beans, Rice, Fajita Veggies, Cheese, Sour Cream, Guacamole, Lettuce]][Roasted Chili Corn Salsa, [Rice, Black Beans, Cheese, Sour Cream, Lettuce]][Fresh Tomato Salsa, [Rice, Fajita Vegetables, Sour Cream, Cheese, Guacamole]][[Fresh Tomato Salsa (Mild), Tomatillo-Red Chili Salsa (Hot)], [Black Beans, Rice, Cheese, Sour Cream]][Tomatillo Red Chili Salsa, [Rice, Black Beans, Cheese, Sour Cream, Lettuce]][[Tomatillo-Green Chili Salsa (Medium), Roasted Chili Corn Salsa (Medium)], [Black Beans, Rice, Fajita Veggies, Cheese, Sour Cream, Lettuce]][Tomatillo Red Chili Salsa, [Rice, Black Beans, Cheese, Lettuce, Guacamole]][[Fresh Tomato Salsa (Mild), Tomatillo-Red Chili Salsa (Hot)], [Black Beans, Rice, Cheese, Sour Cream]][Tomatillo Green Chili Salsa, [Rice, Cheese, Lettuce]][Fresh Tomato Salsa, [Fajita Vegetables, Rice]][Tomatillo-Red Chili Salsa (Hot), [Sour Cream, Cheese, Fajita Veggies, Guacamole, Rice, Pinto Beans]][[Roasted Chili Corn Salsa (Medium), Tomatillo-Red Chili Salsa (Hot), Fresh Tomato Salsa (Mild), Tomatillo-Green Chili Salsa (Medium)], [Rice, Black Beans, Fajita Veggies, Cheese, Sour Cream]][Tomatillo Green Chili Salsa, [Rice, Black Beans, Sour Cream, Cheese]][Roasted Chili Corn Salsa, [Rice, Cheese, Sour Cream, Lettuce]][Fresh Tomato Salsa, [Fajita Vegetables, Rice]][Tomatillo-Red Chili Salsa (Hot), [Black Beans, Rice, Cheese, Lettuce]][Roasted Chili Corn Salsa (Medium), [Rice, Cheese, Lettuce]][Fresh Tomato Salsa, [Rice, Black Beans, Pinto Beans, Guacamole, Lettuce]][Tomatillo Green Chili Salsa, [Rice, Black Beans, Cheese, Sour Cream, Lettuce]][Fresh Tomato Salsa, [Fajita Vegetables, Rice, Guacamole, Lettuce]][Fresh Tomato Salsa, [Rice, Fajita Vegetables]][Fresh Tomato Salsa, [Rice, Black Beans, Cheese]][[Fresh Tomato Salsa (Mild), Tomatillo-Red Chili Salsa (Hot)], [Black Beans, Rice, Cheese, Sour Cream]][Roasted Chili Corn Salsa, [Rice, Black Beans, Cheese, Lettuce]][Tomatillo Red Chili Salsa, [Rice, Black Beans, Sour Cream, Cheese, Lettuce]][Tomatillo Green Chili Salsa, [Rice, Black Beans, Sour Cream, Cheese]][[Fresh Tomato Salsa (Mild), Roasted Chili Corn Salsa (Medium), Tomatillo-Red Chili Salsa (Hot)], [Pinto Beans, Rice, Fajita Veggies, Cheese, Sour Cream, Lettuce]][Fresh Tomato Salsa (Mild), [Rice, Black Beans, Fajita Veggies, Cheese, Guacamole, Lettuce]][Fresh Tomato Salsa, [Rice, Black Beans, Cheese, Sour Cream]][Tomatillo Green Chili Salsa, [Rice, Cheese, Guacamole]][Tomatillo-Green Chili Salsa (Medium), [Black Beans, Rice, Cheese, Sour Cream]][Fresh Tomato Salsa (Mild), [Pinto Beans, Rice, Sour Cream, Guacamole]][Fresh Tomato Salsa (Mild), [Black Beans, Rice, Cheese, Sour Cream, Guacamole, Lettuce]][Tomatillo Red Chili Salsa, [Rice, Black Beans, Sour Cream, Cheese, Lettuce]][Fresh Tomato Salsa (Mild), [Rice, Pinto Beans, Cheese, Guacamole, Lettuce]][Fresh Tomato Salsa, [Rice, Black Beans, Cheese, Guacamole, Lettuce]][Tomatillo Green Chili Salsa, [Rice, Black Beans, Cheese, Guacamole]][Tomatillo Red Chili Salsa, [Fajita Vegetables, Rice, Black Beans, Cheese, Guacamole, Lettuce]][Fresh Tomato Salsa, [Fajita Vegetables, Rice, Pinto Beans, Cheese, Guacamole, Lettuce]][Tomatillo Red Chili Salsa, [Rice, Pinto Beans, Guacamole, Lettuce]][Fresh Tomato Salsa, [Rice, Black Beans, Cheese]][Fresh Tomato Salsa, [Fajita Vegetables, Rice, Sour Cream, Lettuce]][Fresh Tomato Salsa (Mild), [Rice, Black Beans, Fajita Veggies, Cheese, Sour Cream, Lettuce]][Tomatillo Green Chili Salsa, [Rice, Sour Cream, Guacamole]][Tomatillo Red Chili Salsa, [Rice, Black Beans, Sour Cream, Cheese, Lettuce]][Fresh Tomato Salsa, [Rice, Black Beans, Cheese, Guacamole, Lettuce]][Roasted Chili Corn Salsa, [Fajita Vegetables, Rice, Pinto Beans, Cheese, Sour Cream, Guacamole, Lettuce]][Roasted Chili Corn Salsa, [Rice, Pinto Beans, Cheese, Sour Cream, Guacamole, Lettuce]][Roasted Chili Corn Salsa, [Rice, Black Beans, Cheese, Sour Cream, Lettuce]][[Fresh Tomato Salsa (Mild), Tomatillo-Red Chili Salsa (Hot)], [Black Beans, Rice, Cheese, Sour Cream, Guacamole]][[Fresh Tomato Salsa (Mild), Roasted Chili Corn Salsa (Medium)], [Black Beans, Guacamole]][Fresh Tomato Salsa, [Rice, Black Beans, Lettuce]][[Fresh Tomato Salsa (Mild), Roasted Chili Corn Salsa (Medium)], [Rice, Fajita Veggies]][Fresh Tomato Salsa, [Sour Cream, Guacamole, Lettuce]][Fresh Tomato Salsa, Cheese][Tomatillo-Red Chili Salsa (Hot), [Pinto Beans, Cheese, Sour Cream, Rice, Fajita Veggies, Guacamole]][Fresh Tomato Salsa, [Fajita Vegetables, Rice]][Tomatillo Red Chili Salsa, [Rice, Black Beans]][Fresh Tomato Salsa, [Black Beans, Cheese, Sour Cream]][Tomatillo Green Chili Salsa, [Fajita Vegetables, Rice, Cheese, Guacamole, Lettuce]][Fresh Tomato Salsa, [Fajita Vegetables, Rice]][[Fresh Tomato Salsa (Mild), Tomatillo-Red Chili Salsa (Hot)], [Guacamole, Rice, Black Beans, Cheese, Sour Cream]][Roasted Chili Corn Salsa (Medium), [Black Beans, Rice, Cheese, Sour Cream, Lettuce]][Fresh Tomato Salsa, [Fajita Vegetables, Rice, Guacamole, Lettuce]][Fresh Tomato Salsa, [Rice, Black Beans, Cheese]][[Fresh Tomato Salsa (Mild), Roasted Chili Corn Salsa (Medium)], [Black Beans, Cheese, Guacamole]][Fresh Tomato Salsa, [Rice, Black Beans, Lettuce]][Fresh Tomato Salsa, [Rice, Pinto Beans, Sour Cream, Cheese, Lettuce]][Fresh Tomato Salsa, [Rice, Cheese, Lettuce]][Fresh Tomato Salsa, [Fajita Vegetables, Rice, Black Beans, Cheese, Guacamole]][Tomatillo Red Chili Salsa, [Rice, Black Beans, Cheese, Sour Cream]][Fresh Tomato Salsa, [Rice, Black Beans, Sour Cream, Cheese, Guacamole]][Roasted Chili Corn Salsa, [Fajita Vegetables, Rice, Black Beans, Lettuce]][Roasted Chili Corn Salsa, [Fajita Vegetables, Black Beans, Pinto Beans, Cheese, Lettuce]][Tomatillo Red Chili Salsa, [Rice, Black Beans, Sour Cream, Cheese, Lettuce]][Tomatillo Red Chili Salsa, [Rice, Cheese, Sour Cream, Lettuce]][Roasted Chili Corn Salsa, [Rice, Black Beans, Guacamole]][Fresh Tomato Salsa, [Fajita Vegetables, Rice]][Fresh Tomato Salsa, [Rice, Black Beans, Cheese, Sour Cream, Guacamole]][Tomatillo Green Chili Salsa, [Rice, Pinto Beans, Sour Cream, Lettuce]][Fresh Tomato Salsa][Fresh Tomato Salsa, [Fajita Vegetables, Rice, Lettuce]][Roasted Chili Corn Salsa, [Rice, Black Beans, Cheese, Sour Cream, Lettuce]][Fresh Tomato Salsa, [Fajita Vegetables, Rice, Lettuce]][Fresh Tomato Salsa, [Rice, Pinto Beans, Cheese, Sour Cream, Lettuce]][Roasted Chili Corn Salsa, [Cheese, Lettuce, Fajita Vegetables, Rice]][Roasted Chili Corn Salsa, [Fajita Vegetables, Rice, Cheese, Sour Cream, Lettuce]][Roasted Chili Corn Salsa, [Fajita Vegetables, Rice, Cheese, Sour Cream]][Roasted Chili Corn Salsa, [Fajita Vegetables, Rice, Cheese, Sour Cream, Lettuce]][Fresh Tomato Salsa, [Rice, Black Beans, Cheese, Sour Cream, Lettuce]][Fresh Tomato Salsa, [Rice, Lettuce]][Fresh Tomato Salsa, [Rice, Cheese, Sour Cream, Lettuce]][Roasted Chili Corn Salsa, [Fajita Vegetables, Rice, Cheese, Sour Cream, Lettuce]][Roasted Chili Corn Salsa, [Rice, Pinto Beans, Cheese, Sour Cream, Lettuce]][Roasted Chili Corn Salsa, [Rice, Cheese]][Fresh Tomato Salsa, [Rice, Black Beans, Cheese, Sour Cream, Lettuce]][Fresh Tomato Salsa, [Rice, Black Beans, Sour Cream, Guacamole, Lettuce]][Fresh Tomato Salsa, [Rice, Black Beans, Cheese, Sour Cream, Guacamole]][Fresh Tomato Salsa, [Rice, Cheese, Lettuce]][[Fresh Tomato Salsa (Mild), Roasted Chili Corn Salsa (Medium)], [Rice, Fajita Veggies]][Fresh Tomato Salsa, [Rice, Pinto Beans, Cheese, Sour Cream, Lettuce]][Fresh Tomato Salsa, [Fajita Vegetables, Rice, Black Beans, Cheese, Guacamole, Lettuce]][Fresh Tomato Salsa, [Rice, Fajita Vegetables]][Roasted Chili Corn Salsa (Medium), [Black Beans, Rice, Cheese, Guacamole, Lettuce]][Fresh Tomato Salsa, [Rice, Black Beans, Cheese, Sour Cream]][Tomatillo Green Chili Salsa, [Rice, Cheese, Sour Cream, Guacamole]][Tomatillo Green Chili Salsa, [Fajita Vegetables, Rice, Pinto Beans, Cheese, Sour Cream, Lettuce]][Fresh Tomato Salsa (Mild), [Black Beans, Rice, Fajita Veggies, Cheese, Sour Cream, Lettuce]][Fresh Tomato Salsa, [Rice, Black Beans, Cheese, Lettuce]][Fresh Tomato Salsa, [Fajita Vegetables, Rice, Black Beans, Pinto Beans, Cheese, Sour Cream, Guacamole, Lettuce]][Fresh Tomato Salsa, [Rice, Cheese, Sour Cream, Lettuce]][Fresh Tomato Salsa, [Rice, Black Beans, Cheese, Sour Cream, Lettuce]][Roasted Chili Corn Salsa, [Rice, Black Beans, Cheese, Sour Cream, Lettuce]][Tomatillo-Red Chili Salsa (Hot), [Black Beans, Rice, Cheese, Lettuce]][Fresh Tomato Salsa, [Rice, Black Beans, Cheese, Sour Cream, Guacamole, Lettuce]][Fresh Tomato Salsa, [Rice, Black Beans, Cheese, Sour Cream, Guacamole]][[Fresh Tomato Salsa (Mild), Roasted Chili Corn Salsa (Medium)], [Black Beans, Rice, Fajita Veggies, Lettuce]][Fresh Tomato Salsa, [Rice, Pinto Beans, Cheese]][Tomatillo Red Chili Salsa, [Rice, Black Beans, Sour Cream, Cheese, Lettuce]][Tomatillo Red Chili Salsa, [Rice, Black Beans, Sour Cream, Cheese, Lettuce]][Tomatillo Green Chili Salsa, [Rice, Cheese, Sour Cream, Lettuce]][Tomatillo Red Chili Salsa, [Rice, Black Beans, Sour Cream, Guacamole, Lettuce]][Tomatillo Green Chili Salsa, [Rice, Black Beans, Sour Cream, Lettuce]][Roasted Chili Corn Salsa, [Rice, Black Beans, Cheese, Guacamole]][[Fresh Tomato Salsa (Mild), Roasted Chili Corn Salsa (Medium)], [Rice, Cheese, Sour Cream, Guacamole, Lettuce]][Roasted Chili Corn Salsa (Medium), [Pinto Beans, Rice, Cheese, Sour Cream, Lettuce]][Roasted Chili Corn Salsa, [Fajita Vegetables, Rice, Pinto Beans, Cheese, Sour Cream, Lettuce]][Fresh Tomato Salsa, [Fajita Vegetables, Rice, Pinto Beans, Cheese, Sour Cream, Lettuce]][Tomatillo-Red Chili Salsa (Hot), [Black Beans, Cheese, Lettuce]][Fresh Tomato Salsa, [Guacamole, Cheese, Sour Cream, Fajita Vegetables, Rice]][Fresh Tomato Salsa, Cheese][Fresh Tomato Salsa, [Rice, Black Beans, Guacamole, Lettuce]][Roasted Chili Corn Salsa, [Rice, Black Beans, Cheese, Guacamole]][Tomatillo-Red Chili Salsa (Hot), [Rice, Cheese, Sour Cream, Lettuce]][Fresh Tomato Salsa, [Black Beans, Cheese, Guacamole, Lettuce]][Tomatillo-Red Chili Salsa (Hot), [Rice, Fajita Veggies, Pinto Beans, Sour Cream, Cheese, Guacamole]][Fresh Tomato Salsa, [Fajita Vegetables, Rice, Black Beans, Cheese, Sour Cream, Lettuce]][Fresh Tomato Salsa, [Fajita Vegetables, Rice]][Tomatillo-Red Chili Salsa (Hot), [Black Beans, Rice, Cheese, Lettuce]][Tomatillo-Red Chili Salsa (Hot), [Rice, Black Beans, Cheese, Lettuce]][Tomatillo Red Chili Salsa, [Fajita Vegetables, Rice, Black Beans, Cheese, Sour Cream, Guacamole, Lettuce]][Fresh Tomato Salsa, [Fajita Vegetables, Rice, Black Beans, Cheese, Sour Cream, Guacamole, Lettuce]][Fresh Tomato Salsa, [Fajita Vegetables, Rice, Sour Cream, Guacamole]][Fresh Tomato Salsa, [Rice, Black Beans, Cheese]][Tomatillo Red Chili Salsa, [Rice, Fajita Vegetables, Black Beans, Cheese, Lettuce, Guacamole]][[Roasted Chili Corn Salsa (Medium), Fresh Tomato Salsa (Mild)], [Rice, Fajita Veggies]][[Tomatillo-Green Chili Salsa (Medium), Roasted Chili Corn Salsa (Medium)], [Black Beans, Rice, Fajita Veggies, Cheese, Sour Cream, Guacamole]][Fresh Tomato Salsa, [Rice, Cheese, Sour Cream, Lettuce]][Fresh Tomato Salsa, [Rice, Black Beans, Cheese, Sour Cream]][Tomatillo Red Chili Salsa, Fajita Vegetables][Fresh Tomato Salsa, [Fajita Vegetables, Rice, Guacamole, Lettuce]][Fresh Tomato Salsa, [Sour Cream, Fajita Vegetables, Rice, Guacamole, Cheese]][Fresh Tomato Salsa, [Fajita Vegetables, Rice, Black Beans, Cheese, Sour Cream, Guacamole, Lettuce]][Fresh Tomato Salsa (Mild), [Black Beans, Rice, Fajita Veggies, Cheese, Sour Cream, Guacamole, Lettuce]][Fresh Tomato Salsa, [Rice, Black Beans, Sour Cream, Guacamole, Lettuce]][Fresh Tomato Salsa (Mild), [Rice, Fajita Veggies, Cheese, Lettuce]][Tomatillo Red Chili Salsa, Rice][Roasted Chili Corn Salsa, [Rice, Black Beans, Sour Cream, Cheese, Guacamole]][Fresh Tomato Salsa, [Rice, Cheese, Lettuce]][Fresh Tomato Salsa, [Fajita Vegetables, Rice, Cheese, Sour Cream, Guacamole, Lettuce]][Tomatillo Red Chili Salsa, [Fajita Vegetables, Rice, Black Beans, Cheese, Lettuce]][Tomatillo Red Chili Salsa, [Rice, Black Beans, Cheese, Sour Cream, Guacamole, Lettuce]][Fresh Tomato Salsa (Mild), [Rice, Black Beans, Sour Cream, Guacamole]][Roasted Chili Corn Salsa, [Fajita Vegetables, Rice, Pinto Beans, Cheese, Sour Cream, Lettuce]][Fresh Tomato Salsa, [Fajita Vegetables, Rice, Lettuce]][Fresh Tomato Salsa, [Fajita Vegetables, Rice, Sour Cream, Lettuce]][Tomatillo Green Chili Salsa, [Rice, Pinto Beans, Sour Cream, Lettuce]][Tomatillo Red Chili Salsa, [Rice, Black Beans, Sour Cream, Cheese, Lettuce, Guacamole]][Fresh Tomato Salsa, [Rice, Black Beans, Cheese, Guacamole, Lettuce]][Fresh Tomato Salsa, [Rice, Black Beans, Cheese, Guacamole, Lettuce]][Roasted Chili Corn Salsa, [Rice, Pinto Beans, Cheese, Sour Cream, Lettuce]][Fresh Tomato Salsa, [Pinto Beans, Cheese, Guacamole]][Fresh Tomato Salsa, [Rice, Black Beans, Cheese]][Fresh Tomato Salsa, [Rice, Cheese, Sour Cream]][Fresh Tomato Salsa, [Rice, Black Beans, Guacamole, Lettuce]][Fresh Tomato Salsa (Mild), [Pinto Beans, Rice, Cheese, Sour Cream, Guacamole, Lettuce]][[Roasted Chili Corn Salsa (Medium), Fresh Tomato Salsa (Mild)], [Rice, Fajita Veggies]][Fresh Tomato Salsa, [Rice, Fajita Vegetables, Black Beans]][Fresh Tomato Salsa, [Cheese, Guacamole, Sour Cream, Fajita Vegetables, Rice]][Fresh Tomato Salsa, [Rice, Cheese, Lettuce]][Fresh Tomato Salsa, [Rice, Black Beans, Cheese, Sour Cream, Lettuce]][Fresh Tomato Salsa, [Rice, Cheese, Sour Cream, Lettuce]][Roasted Chili Corn Salsa, [Rice, Black Beans, Sour Cream, Cheese, Guacamole]][Tomatillo-Red Chili Salsa (Hot), [Black Beans, Rice, Cheese, Lettuce]][Fresh Tomato Salsa (Mild), [Rice, Cheese, Sour Cream, Guacamole, Lettuce]][Fresh Tomato Salsa, [Fajita Vegetables, Rice, Cheese, Sour Cream, Lettuce]][Tomatillo Green Chili Salsa, [Rice, Pinto Beans, Cheese, Lettuce]][Fresh Tomato Salsa, [Fajita Vegetables, Rice, Sour Cream, Guacamole, Lettuce]][Tomatillo Red Chili Salsa, [Rice, Black Beans, Pinto Beans, Cheese, Sour Cream]][Fresh Tomato Salsa, [Fajita Vegetables, Rice, Cheese, Lettuce]][Fresh Tomato Salsa, [Rice, Cheese, Sour Cream]][Fresh Tomato Salsa, [Fajita Vegetables, Rice, Black Beans, Cheese, Guacamole, Lettuce]][Fresh Tomato Salsa, [Fajita Vegetables, Rice, Pinto Beans, Cheese, Sour Cream, Guacamole, Lettuce]][Fresh Tomato (Mild), [Rice, Sour Cream, Cheese]][Fresh Tomato (Mild), [Guacamole, Rice]][Roasted Chili Corn Salsa, [Rice, Cheese, Sour Cream, Guacamole, Lettuce]][Tomatillo Green Chili Salsa, [Rice, Pinto Beans, Sour Cream, Lettuce]][Tomatillo Red Chili Salsa, [Rice, Black Beans, Cheese, Lettuce]][Tomatillo-Green Chili Salsa (Medium), [Black Beans, Rice, Fajita Veggies, Cheese, Sour Cream, Guacamole, Lettuce]][[Fresh Tomato Salsa (Mild), Tomatillo-Green Chili Salsa (Medium)], [Rice, Fajita Veggies, Cheese, Sour Cream, Lettuce]][Roasted Chili Corn Salsa (Medium), [Rice, Fajita Veggies, Cheese, Sour Cream, Lettuce]][Roasted Chili Corn Salsa, [Fajita Vegetables, Rice, Pinto Beans, Cheese, Lettuce]][Roasted Chili Corn Salsa, [Fajita Vegetables, Rice, Black Beans, Cheese, Guacamole, Lettuce]][Fresh Tomato Salsa, [Rice, Black Beans, Guacamole]][Fresh Tomato Salsa (Mild), [Black Beans, Rice, Cheese]][Tomatillo-Red Chili Salsa (Hot), [Rice, Black Beans, Cheese, Lettuce]][Tomatillo-Red Chili Salsa (Hot), [Rice, Black Beans, Cheese, Lettuce]][Fresh Tomato Salsa, [Rice, Black Beans, Cheese, Sour Cream, Lettuce]][Fresh Tomato Salsa, [Sour Cream, Fajita Vegetables, Rice, Guacamole, Cheese]][Fresh Tomato Salsa, [Rice, Black Beans, Guacamole]][Fresh Tomato Salsa, [Fajita Vegetables, Rice, Black Beans, Cheese, Guacamole, Lettuce]][[Roasted Chili Corn Salsa (Medium), Tomatillo-Red Chili Salsa (Hot), Fresh Tomato Salsa (Mild)], [Rice, Pinto Beans, Fajita Veggies, Cheese, Sour Cream, Lettuce]][Fresh Tomato Salsa, [Sour Cream, Guacamole, Lettuce]][Fresh Tomato Salsa, [Fajita Vegetables, Rice, Cheese, Sour Cream, Guacamole, Lettuce]][Fresh Tomato Salsa, [Fajita Vegetables, Rice, Black Beans, Cheese, Sour Cream, Lettuce]][Tomatillo-Red Chili Salsa (Hot), [Cheese, Lettuce, Rice, Black Beans]][[Fresh Tomato Salsa (Mild), Roasted Chili Corn Salsa (Medium)], [Black Beans, Rice, Fajita Veggies, Cheese, Sour Cream, Lettuce]][Fresh Tomato Salsa, [Rice, Cheese, Lettuce]][Fresh Tomato Salsa, [Fajita Vegetables, Rice, Black Beans, Guacamole, Lettuce]][Fresh Tomato Salsa, [Rice, Pinto Beans, Cheese, Lettuce]][[Tomatillo-Red Chili Salsa (Hot), Tomatillo-Green Chili Salsa (Medium)], [Rice, Black Beans, Lettuce]][Roasted Chili Corn Salsa (Medium), [Rice, Fajita Veggies, Cheese, Sour Cream, Lettuce]][Tomatillo Green Chili Salsa, [Sour Cream, Cheese, Guacamole]][Fresh Tomato Salsa, [Rice, Black Beans, Cheese, Sour Cream, Guacamole, Lettuce]][Fresh Tomato Salsa, [Fajita Vegetables, Rice, Cheese, Sour Cream, Guacamole, Lettuce]][Fresh Tomato Salsa, [Fajita Vegetables, Rice, Black Beans, Guacamole, Lettuce]][Tomatillo Green Chili Salsa, [Rice, Black Beans, Cheese, Sour Cream, Guacamole, Lettuce]][Tomatillo Red Chili Salsa, [Rice, Black Beans, Cheese, Sour Cream, Guacamole, Lettuce]][Fresh Tomato Salsa (Mild), [Black Beans, Rice, Fajita Veggies, Cheese, Sour Cream, Lettuce]][[Roasted Chili Corn Salsa (Medium), Fresh Tomato Salsa (Mild)], [Rice, Fajita Veggies]][[Roasted Chili Corn Salsa (Medium), Fresh Tomato Salsa (Mild)], [Fajita Veggies, Lettuce, Rice, Black Beans]][Tomatillo Red Chili Salsa, [Sour Cream, Cheese, Guacamole, Lettuce, Black Beans, Rice]][Fresh Tomato (Mild), [Lettuce, Fajita Veggies, Black Beans, Rice, Sour Cream, Cheese]][[Fresh Tomato Salsa (Mild), Roasted Chili Corn Salsa (Medium)], [Black Beans, Rice, Cheese, Sour Cream, Lettuce]][Tomatillo Green Chili Salsa, [Rice, Pinto Beans, Sour Cream, Lettuce]][[Fresh Tomato Salsa (Mild), Roasted Chili Corn Salsa (Medium)], [Fajita Veggies, Rice]][Tomatillo-Red Chili Salsa (Hot), [Pinto Beans, Rice, Fajita Veggies, Cheese, Sour Cream, Guacamole]][Fresh Tomato Salsa, [Fajita Vegetables, Rice, Black Beans, Cheese, Sour Cream, Lettuce]][Roasted Chili Corn Salsa, [Rice, Fajita Vegetables, Lettuce, Pinto Beans, Black Beans, Guacamole, Cheese]][Tomatillo Green Chili Salsa, [Rice, Black Beans, Cheese]][Fresh Tomato Salsa (Mild), Lettuce][Fresh Tomato Salsa (Mild), Cheese][Roasted Chili Corn Salsa (Medium), Cheese][Tomatillo Green Chili Salsa, [Rice, Black Beans, Cheese, Lettuce]][Fresh Tomato Salsa, [Fajita Vegetables, Rice, Black Beans, Cheese, Sour Cream, Lettuce]][Fresh Tomato Salsa, [Rice, Cheese, Sour Cream, Guacamole]][Fresh Tomato Salsa, [Rice, Black Beans, Pinto Beans, Cheese, Lettuce]][Fresh Tomato Salsa, [Fajita Vegetables, Rice, Black Beans, Sour Cream, Lettuce]][Fresh Tomato Salsa, [Rice, Black Beans, Cheese, Guacamole, Lettuce]][Fresh Tomato Salsa, [Fajita Vegetables, Rice, Pinto Beans, Cheese, Sour Cream, Guacamole, Lettuce]][Roasted Chili Corn Salsa (Medium), [Rice, Fajita Veggies, Sour Cream]][Fresh Tomato Salsa, [Fajita Vegetables, Rice, Cheese, Sour Cream, Guacamole, Lettuce]][Fresh Tomato Salsa (Mild), [Pinto Beans, Rice, Cheese, Sour Cream]][Fresh Tomato Salsa, [Guacamole, Cheese, Rice, Sour Cream, Fajita Vegetables]][Roasted Chili Corn Salsa, [Rice, Black Beans, Sour Cream, Cheese, Guacamole]][Roasted Chili Corn Salsa, [Rice, Black Beans, Sour Cream, Cheese, Lettuce, Guacamole]][Fresh Tomato Salsa, [Rice, Fajita Vegetables]][Roasted Chili Corn Salsa (Medium), [Black Beans, Rice, Fajita Veggies, Cheese, Sour Cream]][[Tomatillo-Red Chili Salsa (Hot), Tomatillo-Green Chili Salsa (Medium)], [Rice, Black Beans, Cheese, Lettuce]][Roasted Chili Corn Salsa, [Rice, Pinto Beans, Cheese, Sour Cream, Lettuce]][Tomatillo Green Chili Salsa, [Rice, Black Beans, Guacamole, Lettuce]][Fresh Tomato Salsa, [Lettuce, Fajita Vegetables, Guacamole, Rice, Black Beans]][Fresh Tomato Salsa, [Lettuce, Cheese, Pinto Beans, Rice]][Fresh Tomato Salsa, [Rice, Pinto Beans, Sour Cream, Cheese, Lettuce]][Roasted Chili Corn Salsa, [Fajita Vegetables, Rice, Black Beans, Cheese, Sour Cream, Guacamole, Lettuce]][Fresh Tomato Salsa, [Fajita Vegetables, Rice, Black Beans, Cheese, Sour Cream, Guacamole, Lettuce]][Fresh Tomato Salsa, [Rice, Fajita Vegetables]][Fresh Tomato Salsa, [Rice, Cheese, Lettuce]][Fresh Tomato Salsa][Roasted Chili Corn Salsa, [Rice, Black Beans, Sour Cream, Cheese, Guacamole]][Roasted Chili Corn Salsa, [Rice, Pinto Beans, Cheese, Sour Cream, Lettuce]][Fresh Tomato Salsa, [Rice, Cheese, Sour Cream, Lettuce]][Fresh Tomato Salsa, [Rice, Fajita Vegetables]][Roasted Chili Corn Salsa, [Rice, Black Beans, Cheese]][Roasted Chili Corn Salsa, [Fajita Vegetables, Rice]][Tomatillo-Red Chili Salsa (Hot), [Pinto Beans, Rice, Fajita Veggies, Cheese, Sour Cream]][[Fresh Tomato Salsa (Mild), Tomatillo-Green Chili Salsa (Medium)], [Rice, Fajita Veggies, Cheese, Sour Cream, Lettuce]][Roasted Chili Corn Salsa, [Rice, Pinto Beans, Cheese, Sour Cream, Guacamole]][Fresh Tomato Salsa (Mild), [Rice, Black Beans, Fajita Veggies, Cheese, Sour Cream, Lettuce]][Fresh Tomato Salsa, [Fajita Vegetables, Rice, Lettuce]][Fresh Tomato Salsa, [Rice, Black Beans, Cheese, Sour Cream, Guacamole, Lettuce]][Roasted Chili Corn Salsa (Medium), [Pinto Beans, Black Beans, Rice, Cheese, Sour Cream, Guacamole]][Tomatillo-Green Chili Salsa (Medium), [Pinto Beans, Black Beans, Rice, Fajita Veggies, Sour Cream, Lettuce]][Fresh Tomato Salsa, [Fajita Vegetables, Rice, Black Beans, Cheese, Sour Cream, Lettuce]][Fresh Tomato Salsa, [Rice, Cheese, Sour Cream, Lettuce]][[Roasted Chili Corn Salsa (Medium), Tomatillo-Green Chili Salsa (Medium)], [Rice, Fajita Veggies, Cheese, Sour Cream, Lettuce]][Fresh Tomato Salsa, [Cheese, Black Beans, Rice]][Roasted Chili Corn Salsa, [Rice, Black Beans, Sour Cream, Cheese, Guacamole]][Roasted Chili Corn Salsa, [Black Beans, Cheese, Guacamole]][Fresh Tomato Salsa, [Rice, Fajita Vegetables, Sour Cream, Cheese, Guacamole]][Fresh Tomato Salsa, [Rice, Pinto Beans, Cheese, Guacamole, Lettuce]][Fresh Tomato Salsa, [Rice, Cheese]][Tomatillo Green Chili Salsa, [Rice, Cheese]][Roasted Chili Corn Salsa, [Rice, Black Beans, Cheese, Guacamole]][Fresh Tomato Salsa, [Rice, Cheese, Guacamole, Lettuce]][Roasted Chili Corn Salsa, [Rice, Black Beans, Sour Cream, Guacamole]][Fresh Tomato Salsa, [Cheese, Rice, Black Beans]][Fresh Tomato Salsa, [Guacamole, Sour Cream, Cheese, Rice, Fajita Vegetables]][Fresh Tomato Salsa, [Rice, Fajita Vegetables, Black Beans, Sour Cream, Cheese, Lettuce]][Tomatillo Green Chili Salsa, [Rice, Pinto Beans, Sour Cream, Lettuce]][Tomatillo-Red Chili Salsa (Hot), [Black Beans, Rice, Cheese, Lettuce]][Fresh Tomato Salsa (Mild), [Black Beans, Rice, Guacamole, Lettuce]][Tomatillo-Red Chili Salsa (Hot), [Pinto Beans, Rice, Fajita Veggies, Cheese, Sour Cream, Guacamole]][[Roasted Chili Corn Salsa (Medium), Fresh Tomato Salsa (Mild)], [Rice, Black Beans, Fajita Veggies, Guacamole]][[Roasted Chili Corn Salsa (Medium), Tomatillo-Red Chili Salsa (Hot), Fresh Tomato Salsa (Mild)], [Rice, Pinto Beans, Fajita Veggies, Cheese, Sour Cream, Lettuce]][Fresh Tomato Salsa, [Fajita Vegetables, Rice, Pinto Beans, Cheese]][Fresh Tomato Salsa, [Fajita Vegetables, Rice, Black Beans, Cheese, Sour Cream, Guacamole, Lettuce]][Fresh Tomato Salsa, [Fajita Vegetables, Rice, Pinto Beans, Cheese, Sour Cream, Guacamole, Lettuce]][Fresh Tomato Salsa, [Fajita Vegetables, Rice, Black Beans, Cheese, Sour Cream, Lettuce]][Fresh Tomato Salsa, [Rice, Black Beans, Cheese, Sour Cream]][Tomatillo Green Chili Salsa, [Fajita Vegetables, Rice, Black Beans, Cheese, Lettuce]][Fresh Tomato Salsa, [Fajita Vegetables, Rice]][Roasted Chili Corn Salsa (Medium), [Black Beans, Rice, Fajita Veggies, Cheese, Sour Cream]][Fresh Tomato Salsa, [Rice, Cheese, Sour Cream]][[Roasted Chili Corn Salsa (Medium), Tomatillo-Red Chili Salsa (Hot)], [Black Beans, Rice, Fajita Veggies, Guacamole, Lettuce]][Roasted Chili Corn Salsa, [Rice, Pinto Beans, Sour Cream, Cheese, Guacamole]][Fresh Tomato Salsa (Mild), [Black Beans, Rice, Guacamole, Lettuce]][Tomatillo-Red Chili Salsa (Hot), [Cheese, Sour Cream, Fajita Veggies, Pinto Beans, Rice]][Fresh Tomato Salsa (Mild), [Black Beans, Rice, Fajita Veggies, Cheese]][Fresh Tomato Salsa, [Rice, Black Beans, Cheese, Guacamole, Lettuce]][Fresh Tomato Salsa, [Rice, Cheese, Sour Cream, Guacamole, Fajita Vegetables]][Tomatillo Green Chili Salsa, [Rice, Cheese, Guacamole, Lettuce]][Roasted Chili Corn Salsa, [Rice, Black Beans, Sour Cream, Guacamole]][Tomatillo Red Chili Salsa, [Rice, Cheese, Sour Cream, Guacamole]][Fresh Tomato Salsa, [Fajita Vegetables, Rice, Cheese, Sour Cream, Guacamole, Lettuce]][[Roasted Chili Corn Salsa (Medium), Fresh Tomato Salsa (Mild)], [Rice, Fajita Veggies]][Fresh Tomato (Mild), [Lettuce, Fajita Veggies, Pinto Beans, Rice, Sour Cream, Cheese]][Tomatillo-Red Chili Salsa (Hot), [Pinto Beans, Rice, Fajita Veggies, Cheese, Sour Cream, Guacamole]][[Tomatillo-Green Chili Salsa (Medium), Tomatillo-Red Chili Salsa (Hot)], [Pinto Beans, Rice, Fajita Veggies, Cheese, Sour Cream, Guacamole]][Fresh Tomato Salsa, [Fajita Vegetables, Rice, Black Beans, Sour Cream, Guacamole, Lettuce]][Roasted Chili Corn Salsa, [Fajita Vegetables, Rice, Black Beans, Guacamole]][[Roasted Chili Corn Salsa (Medium), Fresh Tomato Salsa (Mild)], [Rice, Black Beans, Fajita Veggies, Guacamole]][[Roasted Chili Corn Salsa (Medium), Tomatillo-Red Chili Salsa (Hot), Fresh Tomato Salsa (Mild)], [Rice, Pinto Beans, Fajita Veggies, Cheese, Sour Cream, Lettuce]][Fresh Tomato Salsa, [Fajita Vegetables, Rice, Cheese, Sour Cream, Lettuce]][Roasted Chili Corn Salsa, [Rice, Black Beans, Cheese, Sour Cream, Lettuce]][Fresh Tomato Salsa, [Rice, Black Beans, Sour Cream]][Roasted Chili Corn Salsa, [Rice, Black Beans, Cheese, Sour Cream, Guacamole, Lettuce]][Tomatillo-Red Chili Salsa (Hot), [Black Beans, Rice, Cheese, Lettuce]][Fresh Tomato Salsa, [Guacamole, Lettuce, Rice, Cheese, Sour Cream, Black Beans]][Fresh Tomato Salsa, [Rice, Fajita Vegetables]][[Fresh Tomato Salsa (Mild), Roasted Chili Corn Salsa (Medium)], [Black Beans, Rice, Cheese, Sour Cream, Lettuce]][Fresh Tomato Salsa, [Rice, Black Beans, Cheese]][[Fresh Tomato Salsa (Mild), Tomatillo-Red Chili Salsa (Hot)], [Black Beans, Rice, Cheese, Sour Cream, Guacamole]][Fresh Tomato Salsa (Mild), [Black Beans, Rice, Fajita Veggies, Guacamole, Lettuce]][Fresh Tomato Salsa, [Rice, Black Beans, Cheese, Sour Cream, Guacamole, Lettuce]][Tomatillo Green Chili Salsa, [Fajita Vegetables, Rice]][Roasted Chili Corn Salsa, [Rice, Black Beans, Sour Cream, Cheese, Guacamole]][Tomatillo Red Chili Salsa, [Rice, Black Beans, Cheese, Sour Cream, Guacamole, Lettuce]][Roasted Chili Corn Salsa, [Rice, Black Beans, Cheese, Sour Cream, Guacamole, Lettuce]][Roasted Chili Corn Salsa (Medium), [Pinto Beans, Black Beans, Rice, Fajita Veggies, Cheese, Lettuce]][Tomatillo-Red Chili Salsa (Hot), [Pinto Beans, Black Beans, Rice, Fajita Veggies, Cheese, Sour Cream, Lettuce]][Fresh Tomato Salsa, [Rice, Pinto Beans, Sour Cream, Cheese, Lettuce]][Fresh Tomato Salsa, [Fajita Vegetables, Rice, Black Beans, Cheese, Guacamole, Lettuce]][Roasted Chili Corn Salsa, [Rice, Black Beans, Cheese, Guacamole, Lettuce]][Tomatillo-Red Chili Salsa (Hot), [Rice, Pinto Beans, Fajita Veggies, Cheese, Sour Cream, Guacamole]][Roasted Chili Corn Salsa, [Rice, Black Beans, Cheese, Sour Cream, Lettuce]][Tomatillo-Red Chili Salsa (Hot), [Pinto Beans, Rice, Cheese, Sour Cream, Lettuce]][Tomatillo Green Chili Salsa, [Rice, Fajita Vegetables, Black Beans, Sour Cream, Cheese, Lettuce]][Fresh Tomato Salsa, [Rice, Cheese, Sour Cream]][Tomatillo Red Chili Salsa, [Rice, Black Beans, Sour Cream, Cheese, Lettuce, Guacamole]][Fresh Tomato Salsa, [Fajita Vegetables, Rice, Pinto Beans, Cheese, Sour Cream, Guacamole, Lettuce]][Fresh Tomato Salsa, Cheese][Fresh Tomato Salsa, [Fajita Vegetables, Rice, Black Beans, Cheese, Sour Cream, Lettuce]][Fresh Tomato Salsa, [Rice, Cheese, Sour Cream]][Tomatillo Red Chili Salsa, [Fajita Vegetables, Rice, Black Beans, Cheese, Sour Cream, Guacamole, Lettuce]][Fresh Tomato Salsa, [Fajita Vegetables, Rice, Black Beans, Cheese, Sour Cream, Guacamole, Lettuce]][[Tomatillo-Green Chili Salsa (Medium), Roasted Chili Corn Salsa (Medium)], [Rice, Fajita Veggies, Guacamole, Lettuce]][Tomatillo Green Chili Salsa, [Rice, Black Beans, Cheese, Sour Cream]][Fresh Tomato Salsa, [Rice, Fajita Vegetables, Pinto Beans, Cheese, Lettuce, Guacamole]][Fresh Tomato Salsa, [Rice, Black Beans, Cheese, Sour Cream]][Fresh Tomato Salsa, [Fajita Vegetables, Rice, Black Beans, Cheese]][Fresh Tomato Salsa, [Rice, Black Beans, Cheese, Lettuce]][Fresh Tomato Salsa, [Rice, Fajita Vegetables, Black Beans, Cheese, Lettuce]][Fresh Tomato Salsa, [Rice, Black Beans, Cheese, Lettuce, Guacamole]][Tomatillo-Red Chili Salsa (Hot), [Black Beans, Rice, Cheese, Lettuce]][Fresh Tomato Salsa, [Fajita Vegetables, Rice]][Fresh Tomato Salsa, [Rice, Cheese, Lettuce]][Fresh Tomato Salsa, [Rice, Black Beans, Fajita Vegetables, Lettuce, Cheese, Sour Cream]][[Roasted Chili Corn Salsa (Medium), Fresh Tomato Salsa (Mild)], [Rice, Fajita Veggies]][Tomatillo Green Chili Salsa, [Rice, Black Beans, Guacamole, Lettuce]][Fresh Tomato Salsa, [Rice, Black Beans, Cheese, Sour Cream]][Fresh Tomato Salsa, [Fajita Vegetables, Rice, Black Beans, Sour Cream, Guacamole, Lettuce]][Fresh Tomato Salsa, [Fajita Vegetables, Rice, Black Beans, Pinto Beans, Cheese, Sour Cream, Guacamole, Lettuce]][Fresh Tomato Salsa, [Fajita Vegetables, Rice, Black Beans, Cheese, Sour Cream, Guacamole, Lettuce]][[Fresh Tomato Salsa (Mild), Tomatillo-Green Chili Salsa (Medium), Roasted Chili Corn Salsa (Medium), Tomatillo-Red Chili Salsa (Hot)], [Black Beans, Rice, Fajita Veggies, Cheese, Sour Cream]][Tomatillo-Green Chili Salsa (Medium), [Rice, Cheese, Sour Cream, Lettuce]][Roasted Chili Corn Salsa, [Rice, Black Beans, Cheese, Sour Cream, Lettuce]][Roasted Chili Corn Salsa, [Rice, Black Beans, Sour Cream, Cheese, Guacamole]][Fresh Tomato Salsa, [Fajita Vegetables, Rice, Pinto Beans, Cheese, Sour Cream, Guacamole, Lettuce]][Tomatillo Green Chili Salsa, [Rice, Fajita Vegetables, Black Beans, Sour Cream, Cheese, Lettuce]][Fresh Tomato Salsa, [Rice, Pinto Beans, Cheese, Lettuce]][Roasted Chili Corn Salsa, [Rice, Black Beans, Guacamole, Lettuce]][Roasted Chili Corn Salsa, [Fajita Vegetables, Rice, Pinto Beans, Cheese, Sour Cream, Lettuce]][Fresh Tomato Salsa, [Rice, Black Beans, Cheese, Sour Cream, Guacamole, Lettuce]][Fresh Tomato Salsa (Mild), [Black Beans, Rice, Cheese]][Roasted Chili Corn Salsa (Medium), [Black Beans, Rice, Fajita Veggies, Cheese, Sour Cream]][Fresh Tomato Salsa (Mild), [Black Beans, Rice, Sour Cream, Guacamole]][[Fresh Tomato Salsa (Mild), Roasted Chili Corn Salsa (Medium)], [Black Beans, Rice, Cheese, Sour Cream, Lettuce]][Roasted Chili Corn Salsa, [Fajita Vegetables, Rice, Cheese, Sour Cream, Lettuce]][Fresh Tomato Salsa, [Rice, Cheese, Sour Cream]][Fresh Tomato Salsa, [Rice, Cheese, Lettuce]][Fresh Tomato Salsa, [Fajita Vegetables, Rice, Sour Cream, Guacamole, Lettuce]][Fresh Tomato Salsa, [Fajita Vegetables, Rice, Cheese, Sour Cream, Guacamole, Lettuce]][Fresh Tomato Salsa, [Fajita Vegetables, Rice, Cheese, Sour Cream, Guacamole, Lettuce]][Tomatillo Red Chili Salsa, [Rice, Cheese, Lettuce]][Tomatillo Green Chili Salsa, [Rice, Pinto Beans, Sour Cream, Lettuce]][Fresh Tomato Salsa, [Fajita Vegetables, Rice, Lettuce]][Fresh Tomato Salsa, [Rice, Black Beans, Cheese, Sour Cream, Guacamole, Lettuce]][Fresh Tomato Salsa, [Fajita Vegetables, Rice, Black Beans, Cheese, Guacamole, Lettuce]][Fresh Tomato Salsa, [Guacamole, Sour Cream, Cheese, Rice, Fajita Vegetables]][Fresh Tomato Salsa, [Rice, Black Beans, Cheese, Sour Cream, Guacamole, Lettuce]][Tomatillo Red Chili Salsa, [Rice, Black Beans, Pinto Beans, Cheese, Sour Cream, Lettuce]][Tomatillo Red Chili Salsa, [Rice, Black Beans, Cheese, Sour Cream, Lettuce]][Fresh Tomato Salsa, [Rice, Cheese, Sour Cream, Guacamole]][Fresh Tomato Salsa, [Rice, Black Beans, Lettuce, Guacamole]][Tomatillo Green Chili Salsa, [Rice, Black Beans, Cheese, Sour Cream, Guacamole, Lettuce]][Fresh Tomato Salsa, [Rice, Black Beans, Pinto Beans, Cheese, Sour Cream]][Tomatillo Red Chili Salsa, [Rice, Black Beans, Cheese, Sour Cream, Lettuce]][Roasted Chili Corn Salsa, [Fajita Vegetables, Rice, Black Beans, Sour Cream, Lettuce]][Fresh Tomato Salsa, [Fajita Vegetables, Rice]][Fresh Tomato Salsa, [Fajita Vegetables, Rice, Lettuce]][Tomatillo Green Chili Salsa, [Fajita Vegetables, Rice, Black Beans, Cheese, Lettuce]][Fresh Tomato Salsa, [Rice, Black Beans, Sour Cream, Cheese]][White Rice][White Rice][Tomatillo Red Chili Salsa, [Rice, Black Beans, Cheese, Sour Cream, Lettuce]][Tomatillo Green Chili Salsa, [Rice, Pinto Beans, Sour Cream, Lettuce]][Fresh Tomato Salsa, [Fajita Vegetables, Rice, Cheese, Guacamole]][Fresh Tomato Salsa, [Rice, Black Beans, Cheese, Guacamole, Lettuce]][Fresh Tomato Salsa, [Pinto Beans, Rice, Lettuce, Cheese]][Fresh Tomato Salsa, [Rice, Black Beans, Cheese, Sour Cream, Lettuce]][Fresh Tomato Salsa, [Fajita Vegetables, Rice, Black Beans, Sour Cream, Lettuce]][Roasted Chili Corn Salsa, [Fajita Vegetables, Rice, Black Beans, Cheese, Guacamole]][Fresh Tomato Salsa, [Fajita Vegetables, Black Beans, Pinto Beans, Guacamole, Lettuce]][Tomatillo Red Chili Salsa, [Rice, Black Beans, Cheese, Guacamole]][Fresh Tomato Salsa, [Guacamole, Lettuce]][Tomatillo Red Chili Salsa, [Fajita Vegetables, Rice, Black Beans, Cheese, Sour Cream]][Fresh Tomato Salsa, [Rice, Black Beans, Cheese, Guacamole, Lettuce]][Fresh Tomato Salsa, [Rice, Black Beans, Cheese, Lettuce]][Roasted Chili Corn Salsa, [Rice, Pinto Beans, Sour Cream, Cheese, Guacamole]][Roasted Chili Corn Salsa, [Rice, Black Beans, Guacamole]][Fresh Tomato Salsa, [Pinto Beans, Rice, Cheese, Lettuce, Guacamole, Sour Cream, Fajita Vegetables]][Fresh Tomato Salsa, [Rice, Black Beans, Guacamole, Lettuce]][Fresh Tomato Salsa, [Rice, Cheese, Sour Cream, Lettuce]][Tomatillo Green Chili Salsa, [Fajita Vegetables, Black Beans, Sour Cream, Lettuce]][Fresh Tomato Salsa, [Fajita Vegetables, Rice, Black Beans, Pinto Beans, Cheese, Sour Cream]][Fresh Tomato Salsa, [Black Beans, Rice, Sour Cream, Cheese, Guacamole, Lettuce]][Fresh Tomato Salsa, [Rice, Black Beans, Pinto Beans, Cheese]][Fresh Tomato Salsa, [Rice, Black Beans, Pinto Beans, Cheese, Sour Cream, Guacamole]][Fresh Tomato Salsa, [Rice, Black Beans, Cheese]][Fresh Tomato Salsa, [Fajita Vegetables, Rice, Black Beans, Guacamole, Lettuce]][Tomatillo Green Chili Salsa, [Rice, Pinto Beans, Sour Cream, Lettuce]][Fresh Tomato Salsa, [Rice, Fajita Vegetables, Black Beans, Sour Cream, Cheese, Lettuce, Guacamole]][Fresh Tomato Salsa, [Rice, Black Beans, Cheese, Sour Cream, Guacamole]][Fresh Tomato Salsa, [Rice, Pinto Beans, Cheese, Lettuce]][Fresh Tomato Salsa, [Rice, Black Beans, Cheese, Sour Cream, Lettuce]][Tomatillo Green Chili Salsa, [Rice, Pinto Beans, Cheese, Sour Cream, Lettuce]][Fresh Tomato Salsa, [Rice, Black Beans, Sour Cream]][Fresh Tomato Salsa, [Rice, Black Beans, Cheese]][Fresh Tomato Salsa, Rice][Fresh Tomato Salsa, [Rice, Pinto Beans, Cheese, Sour Cream, Guacamole, Lettuce]][Fresh Tomato Salsa, [Fajita Vegetables, Rice, Black Beans, Cheese, Sour Cream, Guacamole, Lettuce]][Fresh Tomato Salsa, [Rice, Black Beans, Cheese, Sour Cream, Guacamole, Lettuce]][Fresh Tomato Salsa, [Fajita Vegetables, Rice, Sour Cream, Lettuce]][Fresh Tomato Salsa, [Rice, Pinto Beans, Sour Cream, Cheese, Lettuce, Guacamole]][Tomatillo Green Chili Salsa, [Fajita Vegetables, Rice, Sour Cream, Guacamole]][Fresh Tomato Salsa, [Rice, Cheese, Sour Cream, Guacamole]][Roasted Chili Corn Salsa, [Rice, Fajita Vegetables, Cheese, Lettuce]][Roasted Chili Corn Salsa, [Rice, Black Beans, Cheese, Sour Cream, Lettuce]][Fresh Tomato Salsa, [Rice, Black Beans, Cheese, Sour Cream]][Tomatillo Green Chili Salsa, [Fajita Vegetables, Rice, Pinto Beans, Cheese, Guacamole, Lettuce]][Roasted Chili Corn Salsa, [Black Beans, Sour Cream, Cheese, Guacamole]][Roasted Chili Corn Salsa, [Fajita Vegetables, Rice, Cheese, Sour Cream, Lettuce]][Fresh Tomato Salsa, [Fajita Vegetables, Rice, Pinto Beans, Cheese, Guacamole, Lettuce]][Roasted Chili Corn Salsa, [Rice, Cheese, Lettuce]][Fresh Tomato Salsa, [Rice, Cheese, Sour Cream, Guacamole]][Tomatillo Red Chili Salsa, [Rice, Black Beans, Pinto Beans, Cheese, Sour Cream, Lettuce]][Tomatillo Green Chili Salsa, [Rice, Black Beans, Sour Cream, Lettuce]][Fresh Tomato Salsa, [Rice, Black Beans, Cheese, Sour Cream, Guacamole, Lettuce]][Fresh Tomato Salsa, [Rice, Black Beans, Cheese, Sour Cream, Guacamole]][Fresh Tomato Salsa, [Rice, Black Beans, Sour Cream, Cheese, Lettuce, Guacamole]][Roasted Chili Corn Salsa, [Rice, Black Beans, Cheese, Lettuce, Guacamole]][Tomatillo Red Chili Salsa, [Rice, Black Beans, Sour Cream, Cheese, Lettuce]][Tomatillo Green Chili Salsa, [Rice, Black Beans]][Roasted Chili Corn Salsa, [Cheese, Lettuce]][Fresh Tomato Salsa, [Rice, Black Beans, Cheese, Sour Cream]]",
         "$16.98 $10.98 $11.25 $8.75 $8.49 $11.25 $8.75 $8.75 $8.75 $8.75 $11.25 $11.25 $11.25 $11.25 $17.50 $8.49 $10.98 $8.75 $8.75 $10.98 $8.75 $11.25 $11.25 $8.75 $8.75 $8.75 $8.75 $8.75 $8.75 $17.50 $8.75 $11.25 $11.25 $8.49 $11.25 $8.75 $8.75 $8.75 $8.75 $8.49 $8.75 $11.25 $11.25 $32.94 $11.25 $17.50 $8.75 $8.75 $11.25 $8.75 $8.49 $8.75 $8.75 $8.75 $11.25 $8.75 $8.75 $11.25 $11.25 $8.49 $8.75 $8.75 $8.75 $11.25 $10.98 $8.75 $11.25 $8.49 $8.75 $8.75 $8.75 $8.75 $8.49 $17.50 $8.49 $11.25 $11.25 $11.25 $11.25 $8.75 $8.75 $11.25 $8.49 $8.49 $8.75 $8.75 $8.75 $10.98 $8.75 $8.75 $10.98 $8.75 $11.25 $11.25 $8.75 $11.25 $11.25 $8.75 $8.49 $10.98 $8.75 $11.25 $8.75 $8.75 $8.75 $8.75 $8.49 $8.49 $8.75 $8.75 $11.25 $17.50 $8.75 $8.75 $8.75 $11.25 $11.25 $8.49 $10.98 $8.49 $8.49 $8.75 $8.75 $17.50 $8.75 $8.75 $8.75 $8.49 $8.75 $8.49 $11.25 $8.75 $8.75 $11.25 $17.50 $8.75 $8.75 $8.75 $11.25 $8.75 $8.75 $8.75 $8.49 $8.75 $11.25 $11.25 $8.75 $11.25 $11.25 $10.98 $10.98 $11.25 $11.25 $8.75 $8.75 $8.75 $11.25 $10.98 $8.75 $11.25 $8.75 $8.49 $8.49 $8.75 $8.75 $8.75 $8.75 $11.25 $8.75 $8.75 $10.98 $11.25 $8.49 $8.75 $8.75 $11.25 $22.50 $8.49 $8.75 $11.25 $8.49 $10.98 $8.75 $11.25 $8.75 $11.25 $8.75 $8.75 $8.75 $26.25 $8.75 $8.75 $11.25 $11.25 $8.49 $8.49 $8.49 $8.75 $8.75 $11.25 $11.25 $8.75 $8.75 $8.75 $8.75 $17.50 $11.25 $11.25 $8.75 $8.75 $11.25 $8.75 $8.49 $8.49 $11.25 $8.75 $8.49 $8.49 $8.49 $8.49 $8.75 $11.25 $11.25 $8.75 $8.49 $11.25 $8.49 $8.49 $11.25 $11.25 $10.98 $8.75 $8.75 $8.49 $8.75 $8.49 $8.49 $8.49 $8.75 $8.49 $10.98 $8.75 $11.25 $8.49 $8.75 $8.49 $11.25 $8.49 $8.75 $8.75 $21.96 $8.49 $8.75 $8.75 $8.75 $8.49 $8.49 $11.25 $8.75 $11.25 $8.75 $8.75 $8.49 $8.75 $8.75 $8.75 $8.49 $10.98 $8.75 $11.25 $8.49 $10.98 $10.98 $8.75 $10.98 $11.25 $11.25 $11.25 $11.25 $11.25 $8.75 $8.75 $8.49 $11.25 $8.75 $11.25 $11.25 $11.25 $8.75 $10.98 $10.98 $8.75 $8.49 $11.25 $8.75 $21.96 $8.75 $8.75 $17.50 $11.25 $8.75 $10.98 $8.49 $11.25 $8.75 $10.98 $8.75 $8.75 $8.75 $11.25 $8.75 $11.25 $8.75 $8.75 $8.75 $8.75 $11.25 $8.75 $11.25 $8.75 $8.75 $8.75 $8.75 $8.75 $8.75 $8.75 $8.75 $8.75 $8.75 $8.75 $8.75 $8.75 $8.75 $8.75 $8.75 $8.75 $11.25 $11.25 $8.75 $16.98 $8.75 $11.25 $8.75 $10.98 $8.75 $11.25 $8.75 $8.49 $8.75 $11.25 $8.75 $8.75 $8.75 $8.49 $11.25 $11.25 $8.49 $8.75 $8.75 $8.75 $8.75 $11.25 $8.75 $11.25 $10.98 $8.49 $8.75 $8.75 $8.49 $11.25 $8.75 $11.25 $22.50 $8.49 $11.25 $21.96 $8.75 $8.75 $8.49 $8.49 $11.25 $11.25 $11.25 $8.75 $11.25 $16.98 $10.98 $8.75 $8.75 $8.75 $11.25 $11.25 $11.25 $10.98 $11.25 $8.49 $8.75 $11.25 $8.75 $11.25 $8.75 $11.25 $10.98 $8.75 $8.75 $8.75 $8.75 $11.25 $11.25 $11.25 $8.75 $11.25 $8.75 $8.75 $11.25 $10.98 $16.98 $8.75 $11.25 $8.75 $8.75 $8.75 $11.25 $8.49 $10.98 $8.75 $8.75 $11.25 $8.75 $8.75 $8.75 $11.25 $11.25 $8.19 $10.58 $11.25 $8.75 $8.75 $21.96 $8.49 $8.49 $8.75 $11.25 $11.25 $8.49 $8.49 $8.49 $8.75 $11.25 $11.25 $11.25 $8.49 $11.25 $11.25 $8.75 $8.49 $8.49 $8.75 $11.25 $8.75 $8.49 $8.49 $11.25 $11.25 $11.25 $11.25 $11.25 $11.25 $8.49 $16.98 $8.49 $11.25 $8.19 $8.49 $8.75 $16.98 $21.96 $8.75 $11.25 $8.75 $8.49 $8.49 $8.49 $8.75 $8.75 $11.25 $8.75 $8.75 $11.25 $11.25 $8.49 $11.25 $8.49 $11.25 $11.25 $11.25 $8.75 $8.49 $8.49 $8.75 $11.25 $11.25 $8.75 $8.75 $11.25 $11.25 $8.75 $8.75 $8.75 $11.25 $8.75 $8.75 $8.75 $8.75 $8.75 $8.49 $8.49 $11.25 $8.49 $8.75 $11.25 $10.98 $8.49 $8.75 $17.50 $8.49 $8.75 $11.25 $11.25 $11.25 $11.25 $8.75 $8.75 $11.25 $11.25 $11.25 $8.75 $11.25 $8.75 $8.75 $8.49 $10.98 $21.96 $10.98 $8.49 $8.75 $11.25 $11.25 $8.75 $8.75 $8.75 $8.75 $8.49 $8.75 $10.98 $11.25 $10.98 $16.98 $16.98 $11.25 $11.25 $11.25 $11.25 $11.25 $11.25 $16.98 $8.19 $10.98 $10.98 $11.25 $11.25 $10.98 $8.49 $8.75 $8.75 $8.75 $11.25 $8.49 $11.25 $8.75 $8.49 $8.75 $10.98 $10.98 $11.25 $8.75 $11.25 $11.25 $11.25 $8.49 $8.49 $8.75 $11.25 $11.25 $21.96 $8.75 $8.49 $8.75 $8.75 $11.25 $11.25 $8.75 $8.75 $8.75 $11.25 $11.25 $10.98 $8.75 $11.25 $8.75 $8.75 $8.75 $8.75 $11.25 $8.49 $8.75 $8.75 $8.75 $16.98 $11.25 $8.75 $11.25 $11.25 $11.25 $8.49 $8.49 $8.75 $11.25 $11.25 $8.75 $8.75 $11.25 $8.75 $11.25 $8.49 $8.49 $10.98 $8.49 $8.75 $8.75 $8.75 $11.25 $11.25 $11.25 $8.75 $8.75 $8.75 $11.25 $11.25 $11.25 $11.25 $8.75 $8.75 $11.25 $11.25 $11.25 $8.75 $8.75 $8.75 $8.75 $8.75 $8.75 $8.75 $8.50 $8.50 $8.75 $8.75 $11.25 $11.25 $8.75 $8.75 $8.75 $11.25 $11.25 $11.25 $11.25 $8.75 $11.25 $8.75 $11.25 $11.25 $11.25 $11.25 $8.75 $8.75 $8.75 $11.25 $8.75 $11.25 $8.75 $11.25 $8.75 $22.50 $11.25 $17.50 $8.75 $8.75 $8.75 $8.75 $8.75 $11.25 $11.25 $11.25 $8.75 $11.25 $11.25 $11.25 $8.75 $8.75 $8.75 $11.25 $11.25 $8.75 $11.25 $8.75 $11.25 $8.75 $8.75 $11.25 $11.25 $11.25 $11.25 $8.75 $8.75 $8.75 $8.75 "
        ]
       ],
       "shape": {
        "columns": 4,
        "rows": 1
       }
      },
      "text/html": [
       "<div>\n",
       "<style scoped>\n",
       "    .dataframe tbody tr th:only-of-type {\n",
       "        vertical-align: middle;\n",
       "    }\n",
       "\n",
       "    .dataframe tbody tr th {\n",
       "        vertical-align: top;\n",
       "    }\n",
       "\n",
       "    .dataframe thead th {\n",
       "        text-align: right;\n",
       "    }\n",
       "</style>\n",
       "<table border=\"1\" class=\"dataframe\">\n",
       "  <thead>\n",
       "    <tr style=\"text-align: right;\">\n",
       "      <th></th>\n",
       "      <th>order_id</th>\n",
       "      <th>quantity</th>\n",
       "      <th>choice_description</th>\n",
       "      <th>item_price</th>\n",
       "    </tr>\n",
       "    <tr>\n",
       "      <th>item_name</th>\n",
       "      <th></th>\n",
       "      <th></th>\n",
       "      <th></th>\n",
       "      <th></th>\n",
       "    </tr>\n",
       "  </thead>\n",
       "  <tbody>\n",
       "    <tr>\n",
       "      <th>Chicken Bowl</th>\n",
       "      <td>713926</td>\n",
       "      <td>761</td>\n",
       "      <td>[Tomatillo-Red Chili Salsa (Hot), [Black Beans...</td>\n",
       "      <td>$16.98 $10.98 $11.25 $8.75 $8.49 $11.25 $8.75 ...</td>\n",
       "    </tr>\n",
       "  </tbody>\n",
       "</table>\n",
       "</div>"
      ],
      "text/plain": [
       "              order_id  quantity  \\\n",
       "item_name                          \n",
       "Chicken Bowl    713926       761   \n",
       "\n",
       "                                             choice_description  \\\n",
       "item_name                                                         \n",
       "Chicken Bowl  [Tomatillo-Red Chili Salsa (Hot), [Black Beans...   \n",
       "\n",
       "                                                     item_price  \n",
       "item_name                                                        \n",
       "Chicken Bowl  $16.98 $10.98 $11.25 $8.75 $8.49 $11.25 $8.75 ...  "
      ]
     },
     "execution_count": 27,
     "metadata": {},
     "output_type": "execute_result"
    }
   ],
   "source": [
    "# Which was the most-ordered item?\n",
    "c = chipo.groupby('item_name').sum()\n",
    "c = c.sort_values(by='quantity', ascending=False)\n",
    "c.head(1)"
   ]
  },
  {
   "cell_type": "code",
   "execution_count": 29,
   "id": "7e0bcfc3",
   "metadata": {},
   "outputs": [
    {
     "data": {
      "application/vnd.microsoft.datawrangler.viewer.v0+json": {
       "columns": [
        {
         "name": "item_name",
         "rawType": "object",
         "type": "string"
        },
        {
         "name": "order_id",
         "rawType": "int64",
         "type": "integer"
        },
        {
         "name": "quantity",
         "rawType": "int64",
         "type": "integer"
        },
        {
         "name": "choice_description",
         "rawType": "object",
         "type": "string"
        },
        {
         "name": "item_price",
         "rawType": "object",
         "type": "string"
        }
       ],
       "ref": "62adcce7-34c5-4376-872e-4122bac6559a",
       "rows": [
        [
         "Chicken Bowl",
         "713926",
         "761",
         "[Tomatillo-Red Chili Salsa (Hot), [Black Beans, Rice, Cheese, Sour Cream]][Fresh Tomato Salsa (Mild), [Rice, Cheese, Sour Cream, Guacamole, Lettuce]][Fresh Tomato Salsa, [Fajita Vegetables, Rice, Cheese, Sour Cream, Guacamole]][Tomatillo Red Chili Salsa, [Fajita Vegetables, Black Beans, Sour Cream, Cheese, Lettuce]][Roasted Chili Corn Salsa (Medium), [Pinto Beans, Rice, Fajita Veggies, Cheese, Sour Cream, Lettuce]][Roasted Chili Corn Salsa, [Rice, Black Beans, Cheese, Sour Cream, Guacamole, Lettuce]][Fresh Tomato Salsa, [Rice, Black Beans, Pinto Beans, Cheese, Lettuce]][Fresh Tomato Salsa, [Rice, Black Beans, Cheese, Sour Cream, Lettuce]][Tomatillo Red Chili Salsa, [Rice, Fajita Vegetables, Sour Cream, Lettuce]][Tomatillo Red Chili Salsa, [Rice, Black Beans, Cheese, Sour Cream, Lettuce]][Fresh Tomato Salsa, [Guacamole, Cheese, Sour Cream, Fajita Vegetables, Rice]][Fresh Tomato Salsa, [Rice, Fajita Vegetables, Sour Cream, Cheese, Guacamole]][Tomatillo Green Chili Salsa, [Rice, Sour Cream, Cheese, Guacamole]][Fresh Tomato Salsa, [Fajita Vegetables, Rice, Black Beans, Cheese, Guacamole, Lettuce]][Fresh Tomato Salsa, [Fajita Vegetables, Rice, Lettuce]][Fresh Tomato Salsa (Mild), [Black Beans, Rice, Fajita Veggies, Cheese, Sour Cream, Lettuce]][Roasted Chili Corn Salsa (Medium), [Black Beans, Rice, Fajita Veggies, Cheese, Sour Cream, Guacamole, Lettuce]][Fresh Tomato Salsa, [Rice, Black Beans, Sour Cream]][Fresh Tomato Salsa, [Rice, Cheese, Sour Cream]][[Roasted Chili Corn Salsa (Medium), Tomatillo-Red Chili Salsa (Hot)], [Black Beans, Rice, Fajita Veggies, Guacamole, Lettuce]][Fresh Tomato Salsa, [Rice, Cheese, Lettuce]][Roasted Chili Corn Salsa, [Fajita Vegetables, Rice, Black Beans, Cheese, Sour Cream, Guacamole, Lettuce]][Roasted Chili Corn Salsa, [Fajita Vegetables, Rice, Black Beans, Pinto Beans, Cheese, Sour Cream, Guacamole, Lettuce]][Tomatillo Green Chili Salsa, [Rice, Black Beans, Cheese, Sour Cream]][Roasted Chili Corn Salsa, [Rice, Black Beans, Cheese, Sour Cream]][Tomatillo Green Chili Salsa, [Rice, Pinto Beans, Sour Cream, Lettuce]][Fresh Tomato Salsa, [Fajita Vegetables, Rice, Black Beans, Cheese, Sour Cream, Lettuce]][Tomatillo Red Chili Salsa, [Rice, Cheese, Lettuce]][Fresh Tomato Salsa, [Rice, Black Beans, Cheese]][Fresh Tomato Salsa, [Rice, Black Beans, Cheese, Sour Cream]][Fresh Tomato Salsa, [Rice, Cheese, Sour Cream]][Roasted Chili Corn Salsa, [Fajita Vegetables, Rice, Black Beans, Guacamole, Lettuce]][Tomatillo Green Chili Salsa, [Rice, Sour Cream, Guacamole, Lettuce]][Fresh Tomato Salsa (Mild), [Rice, Fajita Veggies, Cheese, Sour Cream, Lettuce]][Fresh Tomato Salsa, [Rice, Black Beans, Cheese, Sour Cream, Guacamole, Lettuce]][Fresh Tomato Salsa, [Rice, Black Beans, Cheese, Sour Cream, Lettuce]][Fresh Tomato Salsa, [Rice, Black Beans, Cheese, Sour Cream]][Fresh Tomato Salsa, [Fajita Vegetables, Rice, Black Beans, Sour Cream]][Tomatillo Red Chili Salsa, [Rice, Cheese]][Tomatillo-Red Chili Salsa (Hot), [Rice, Fajita Veggies, Cheese, Sour Cream, Lettuce]][Fresh Tomato Salsa, [Rice, Cheese, Sour Cream]][Fresh Tomato Salsa, [Rice, Black Beans, Cheese, Sour Cream, Guacamole]][Tomatillo Red Chili Salsa, [Rice, Black Beans, Cheese, Sour Cream, Guacamole, Lettuce]][[Fresh Tomato Salsa (Mild), Tomatillo-Green Chili Salsa (Medium), Roasted Chili Corn Salsa (Medium)], [Black Beans, Rice, Fajita Veggies, Cheese, Guacamole, Lettuce]][Tomatillo Green Chili Salsa, [Sour Cream, Cheese, Guacamole]][Tomatillo Red Chili Salsa][Roasted Chili Corn Salsa, [Rice, Lettuce]][Fresh Tomato Salsa, [Rice, Black Beans, Cheese, Lettuce]][Fresh Tomato Salsa, [Rice, Black Beans, Cheese, Sour Cream, Guacamole, Lettuce]][Fresh Tomato Salsa, [Rice, Black Beans, Cheese]][Fresh Tomato Salsa (Mild), [Black Beans, Rice, Fajita Veggies, Cheese, Sour Cream, Lettuce]][Tomatillo Green Chili Salsa, [Rice, Black Beans, Cheese]][Roasted Chili Corn Salsa, [Rice, Fajita Vegetables, Black Beans, Sour Cream, Cheese, Lettuce]][Fresh Tomato Salsa, [Fajita Vegetables, Rice, Black Beans, Cheese]][Fresh Tomato Salsa, [Rice, Black Beans, Cheese, Sour Cream, Guacamole, Lettuce]][Fresh Tomato Salsa, [Fajita Vegetables, Rice, Black Beans, Cheese]][Fresh Tomato Salsa, [Rice, Black Beans, Cheese, Sour Cream, Lettuce]][Fresh Tomato Salsa, [Fajita Vegetables, Rice, Cheese, Sour Cream, Guacamole]][Roasted Chili Corn Salsa, [Fajita Vegetables, Rice, Black Beans, Guacamole]][Tomatillo-Red Chili Salsa (Hot), Rice][Fresh Tomato Salsa, [Rice, Black Beans, Sour Cream, Cheese]][Fresh Tomato Salsa, [Rice, Cheese, Lettuce]][Tomatillo Green Chili Salsa, [Rice, Black Beans, Cheese]][Roasted Chili Corn Salsa, [Rice, Pinto Beans, Lettuce, Guacamole]][Roasted Chili Corn Salsa (Medium), [Black Beans, Fajita Veggies, Cheese, Guacamole, Lettuce]][Fresh Tomato Salsa, [Rice, Cheese, Lettuce]][Roasted Chili Corn Salsa, [Rice, Black Beans, Cheese, Sour Cream, Guacamole, Lettuce]][Fresh Tomato Salsa (Mild), [Rice, Cheese, Sour Cream, Lettuce]][Fresh Tomato Salsa, [Rice, Pinto Beans, Sour Cream, Cheese, Lettuce]][Tomatillo Green Chili Salsa, [Rice, Black Beans, Sour Cream, Lettuce]][Roasted Chili Corn Salsa, [Rice, Cheese, Lettuce]][Fresh Tomato Salsa, [Rice, Pinto Beans, Cheese, Sour Cream, Lettuce]][Tomatillo-Red Chili Salsa (Hot), [Black Beans, Rice, Fajita Veggies, Cheese, Lettuce]][Fresh Tomato Salsa, [Fajita Vegetables, Rice, Lettuce]][Tomatillo-Red Chili Salsa (Hot), [Black Beans, Rice, Cheese, Sour Cream, Lettuce]][Fresh Tomato Salsa, [Rice, Black Beans, Cheese, Sour Cream, Guacamole, Lettuce]][Fresh Tomato Salsa, [Fajita Vegetables, Rice, Cheese, Sour Cream, Guacamole]][Tomatillo Green Chili Salsa, [Rice, Sour Cream, Cheese, Guacamole]][Tomatillo Green Chili Salsa, [Fajita Vegetables, Rice, Black Beans, Cheese, Sour Cream, Guacamole, Lettuce]][Roasted Chili Corn Salsa, [Rice, Black Beans, Cheese, Sour Cream, Lettuce]][Fresh Tomato Salsa, [Rice, Black Beans, Sour Cream, Cheese]][Roasted Chili Corn Salsa, [Fajita Vegetables, Rice, Black Beans, Cheese, Sour Cream, Guacamole, Lettuce]][Tomatillo-Green Chili Salsa (Medium), Black Beans][Tomatillo-Green Chili Salsa (Medium), Black Beans][Fresh Tomato Salsa, [Rice, Black Beans, Cheese, Sour Cream, Lettuce]][Roasted Chili Corn Salsa, [Fajita Vegetables, Rice, Black Beans, Cheese, Lettuce]][Tomatillo Red Chili Salsa, [Fajita Vegetables, Rice, Black Beans, Cheese, Sour Cream, Lettuce]][[Fresh Tomato Salsa (Mild), Roasted Chili Corn Salsa (Medium)], [Rice, Sour Cream, Guacamole, Lettuce]][Tomatillo Red Chili Salsa, [Rice, Fajita Vegetables, Black Beans, Sour Cream, Cheese]][Tomatillo Red Chili Salsa, [Rice, Cheese, Sour Cream, Lettuce]][[Roasted Chili Corn Salsa (Medium), Fresh Tomato Salsa (Mild)], [Rice, Black Beans, Fajita Veggies, Cheese, Sour Cream, Guacamole]][Tomatillo Red Chili Salsa, [Rice, Black Beans, Cheese, Sour Cream, Lettuce]][Fresh Tomato Salsa, [Rice, Guacamole]][Fresh Tomato Salsa, [Rice, Black Beans, Cheese, Sour Cream, Guacamole]][Tomatillo Green Chili Salsa, [Rice, Pinto Beans, Sour Cream, Lettuce]][Tomatillo Red Chili Salsa, [Rice, Sour Cream, Cheese, Guacamole]][Roasted Chili Corn Salsa, [Fajita Vegetables, Pinto Beans, Sour Cream, Guacamole]][Tomatillo Green Chili Salsa, [Rice, Cheese, Sour Cream, Lettuce]][Tomatillo-Red Chili Salsa (Hot), [Pinto Beans, Rice, Fajita Veggies, Cheese, Sour Cream, Lettuce]][Fresh Tomato Salsa (Mild), [Rice, Fajita Veggies, Sour Cream, Guacamole]][Fresh Tomato Salsa, [Rice, Cheese, Sour Cream]][Roasted Chili Corn Salsa, [Fajita Vegetables, Rice, Cheese, Sour Cream, Guacamole, Lettuce]][Roasted Chili Corn Salsa, [Rice, Cheese, Sour Cream, Lettuce]][Tomatillo Green Chili Salsa, [Rice, Cheese, Sour Cream, Lettuce]][Fresh Tomato Salsa, [Rice, Black Beans, Cheese, Sour Cream]][Fresh Tomato Salsa, [Fajita Vegetables, Rice, Cheese, Sour Cream, Lettuce]][Fresh Tomato Salsa (Mild), [Pinto Beans, Rice, Cheese, Sour Cream, Lettuce]][Tomatillo-Red Chili Salsa (Hot), [Rice, Fajita Veggies, Cheese, Sour Cream, Lettuce]][Fresh Tomato Salsa, [Fajita Vegetables, Rice, Black Beans, Sour Cream]][Roasted Chili Corn Salsa, [Fajita Vegetables, Rice, Black Beans, Cheese, Sour Cream]][Tomatillo Red Chili Salsa, [Rice, Black Beans, Cheese, Lettuce, Guacamole]][Fresh Tomato Salsa, [Fajita Vegetables, Rice, Lettuce]][Fresh Tomato Salsa, [Rice, Black Beans, Cheese, Lettuce]][Fresh Tomato Salsa, [Fajita Vegetables, Rice, Black Beans, Cheese, Sour Cream, Lettuce]][Tomatillo Green Chili Salsa, [Fajita Vegetables, Rice, Black Beans, Cheese, Sour Cream, Lettuce]][Tomatillo Green Chili Salsa, [Rice, Sour Cream, Cheese, Guacamole]][Fresh Tomato Salsa, [Rice, Fajita Vegetables, Pinto Beans, Sour Cream, Cheese, Lettuce, Guacamole]][[Fresh Tomato Salsa (Mild), Tomatillo-Red Chili Salsa (Hot)], [Black Beans, Rice, Cheese, Sour Cream]][Roasted Chili Corn Salsa (Medium), [Black Beans, Rice, Sour Cream, Guacamole]][Roasted Chili Corn Salsa (Medium), [Rice, Cheese]][Roasted Chili Corn Salsa (Medium), [Black Beans, Rice, Cheese, Sour Cream, Lettuce]][Fresh Tomato Salsa, [Rice, Sour Cream, Cheese, Lettuce]][Fresh Tomato Salsa][Fresh Tomato Salsa, [Rice, Cheese, Black Beans]][Fresh Tomato Salsa, [Rice, Cheese, Sour Cream, Lettuce]][Fresh Tomato Salsa, [Rice, Cheese, Sour Cream, Lettuce]][Fresh Tomato Salsa, [Fajita Vegetables, Rice]][[Fresh Tomato Salsa (Mild), Tomatillo-Red Chili Salsa (Hot)], [Black Beans, Rice, Cheese, Sour Cream]][Fresh Tomato Salsa, [Fajita Vegetables, Rice]][[Tomatillo-Green Chili Salsa (Medium), Roasted Chili Corn Salsa (Medium)], [Black Beans, Rice, Cheese, Sour Cream, Lettuce]][Fresh Tomato Salsa, [Fajita Vegetables, Rice, Black Beans, Cheese, Guacamole, Lettuce]][Tomatillo Green Chili Salsa, [Fajita Vegetables, Rice, Cheese, Lettuce]][Fresh Tomato Salsa, [Rice, Fajita Vegetables]][Tomatillo Red Chili Salsa, [Fajita Vegetables, Rice, Black Beans, Cheese, Sour Cream, Guacamole, Lettuce]][Fresh Tomato Salsa, [Fajita Vegetables, Rice, Lettuce]][Fresh Tomato Salsa, [Rice, Black Beans, Cheese]][Fresh Tomato Salsa, [Rice, Cheese, Sour Cream, Lettuce]][Tomatillo Red Chili Salsa, [Rice, Black Beans, Cheese, Sour Cream, Lettuce]][Roasted Chili Corn Salsa, [Rice, Pinto Beans, Cheese, Sour Cream, Guacamole, Lettuce]][Roasted Chili Corn Salsa, [Rice, Cheese, Lettuce]][Fresh Tomato Salsa, [Fajita Vegetables, Rice]][Roasted Chili Corn Salsa, [Fajita Vegetables, Rice, Pinto Beans, Cheese, Sour Cream, Lettuce]][[Roasted Chili Corn Salsa (Medium), Tomatillo-Red Chili Salsa (Hot)], [Pinto Beans, Rice, Fajita Veggies]][Roasted Chili Corn Salsa, [Fajita Vegetables, Rice, Black Beans, Cheese]][Fresh Tomato Salsa, [Fajita Vegetables, Rice, Black Beans, Cheese, Guacamole, Lettuce]][Roasted Chili Corn Salsa, [Rice, Black Beans, Cheese, Guacamole]][Fresh Tomato Salsa, [Rice, Black Beans, Cheese, Sour Cream, Lettuce]][Roasted Chili Corn Salsa, [Rice, Black Beans, Cheese, Sour Cream, Guacamole]][Fresh Tomato Salsa, [Rice, Black Beans, Cheese, Guacamole]][[Fresh Tomato Salsa (Mild), Tomatillo-Red Chili Salsa (Hot)], [Black Beans, Rice, Cheese, Sour Cream, Guacamole]][Tomatillo-Red Chili Salsa (Hot), [Pinto Beans, Rice, Cheese, Sour Cream, Guacamole]][Roasted Chili Corn Salsa, [Rice, Black Beans, Sour Cream, Guacamole]][Tomatillo Green Chili Salsa, [Rice, Cheese, Guacamole, Lettuce]][Fresh Tomato Salsa, [Fajita Vegetables, Rice]][Fresh Tomato Salsa, [Rice, Black Beans]][Fresh Tomato Salsa, [Fajita Vegetables, Rice]][Fresh Tomato Salsa, [Fajita Vegetables, Rice, Cheese, Sour Cream, Guacamole, Lettuce]][Fresh Tomato Salsa (Mild), [Rice, Black Beans, Fajita Veggies, Cheese, Guacamole, Lettuce]][Roasted Chili Corn Salsa, [Rice, Black Beans, Cheese, Sour Cream, Lettuce]][Roasted Chili Corn Salsa, [Fajita Vegetables, Black Beans, Guacamole]][Tomatillo Green Chili Salsa, [Rice, Pinto Beans, Sour Cream, Lettuce]][[Fresh Tomato Salsa (Mild), Tomatillo-Red Chili Salsa (Hot)], [Black Beans, Rice, Cheese, Sour Cream]][Fresh Tomato Salsa (Mild), [Black Beans, Rice, Cheese]][Tomatillo Red Chili Salsa, [Black Beans, Cheese, Sour Cream]][Fresh Tomato Salsa, [Rice, Cheese, Sour Cream, Lettuce]][Fresh Tomato Salsa, [Rice, Fajita Vegetables]][Tomatillo Red Chili Salsa, [Rice, Cheese, Lettuce]][Tomatillo Green Chili Salsa, [Rice, Black Beans, Pinto Beans, Guacamole, Lettuce]][Roasted Chili Corn Salsa, [Rice, Black Beans, Sour Cream]][Tomatillo Red Chili Salsa, [Fajita Vegetables, Rice, Black Beans, Cheese, Sour Cream]][Tomatillo-Green Chili Salsa (Medium), [Fajita Veggies, Cheese, Guacamole, Lettuce]][Roasted Chili Corn Salsa, [Rice, Black Beans, Cheese, Lettuce, Guacamole]][Roasted Chili Corn Salsa (Medium), [Rice, Cheese]][Fresh Tomato Salsa, [Rice, Lettuce]][Roasted Chili Corn Salsa, [Rice, Black Beans, Cheese]][Tomatillo Red Chili Salsa, [Fajita Vegetables, Rice, Cheese, Guacamole]][Fresh Tomato Salsa, [Rice, Sour Cream, Guacamole]][[Fresh Tomato Salsa (Mild), Roasted Chili Corn Salsa (Medium)], [Rice, Fajita Veggies]][Roasted Chili Corn Salsa, [Fajita Vegetables, Rice, Sour Cream, Lettuce]][Fresh Tomato Salsa, [Fajita Vegetables, Rice, Black Beans, Pinto Beans, Cheese, Sour Cream, Guacamole]][[Roasted Chili Corn Salsa (Medium), Tomatillo-Red Chili Salsa (Hot)], [Pinto Beans, Rice, Fajita Veggies, Cheese, Lettuce]][Fresh Tomato Salsa (Mild), [Black Beans, Rice, Sour Cream, Guacamole]][Fresh Tomato Salsa, [Fajita Vegetables, Rice]][Fresh Tomato Salsa, [Rice, Black Beans, Cheese, Sour Cream, Guacamole, Lettuce]][Fresh Tomato Salsa, [Rice, Black Beans, Cheese, Sour Cream, Lettuce]][Fresh Tomato Salsa, [Fajita Vegetables, Pinto Beans, Guacamole, Lettuce]][Fresh Tomato Salsa, [Rice, Cheese, Sour Cream, Lettuce]][Tomatillo Red Chili Salsa, [Fajita Vegetables, Rice, Black Beans, Cheese, Sour Cream]][Fresh Tomato Salsa, [Rice, Black Beans, Cheese]][Fresh Tomato Salsa, [Rice, Black Beans, Cheese, Sour Cream, Lettuce]][Fresh Tomato Salsa, [Sour Cream, Lettuce, Rice, Cheese]][Roasted Chili Corn Salsa, [Rice, Fajita Vegetables, Black Beans, Sour Cream, Cheese, Lettuce]][Roasted Chili Corn Salsa, [Fajita Vegetables, Rice, Black Beans, Pinto Beans, Cheese, Guacamole, Lettuce]][Tomatillo Green Chili Salsa, [Rice, Sour Cream, Cheese, Guacamole]][Fresh Tomato Salsa (Mild), [Black Beans, Rice, Fajita Veggies, Cheese, Sour Cream, Lettuce]][[Fresh Tomato Salsa (Mild), Roasted Chili Corn Salsa (Medium), Tomatillo-Red Chili Salsa (Hot)], [Black Beans, Rice, Fajita Veggies, Cheese, Sour Cream, Lettuce]][Fresh Tomato Salsa (Mild), [Black Beans, Rice, Cheese, Sour Cream, Lettuce]][Fresh Tomato Salsa, [Rice, Cheese, Lettuce]][Fresh Tomato Salsa, [Rice, Cheese, Sour Cream, Lettuce]][Fresh Tomato Salsa, [Fajita Vegetables, Rice, Cheese, Guacamole]][Fresh Tomato Salsa, [Rice, Guacamole, Lettuce]][Roasted Chili Corn Salsa, [Fajita Vegetables, Lettuce, Black Beans]][Roasted Chili Corn Salsa, [Fajita Vegetables, Cheese, Lettuce]][Roasted Chili Corn Salsa, [Rice, Fajita Vegetables, Cheese, Lettuce]][Fresh Tomato Salsa, [Fajita Vegetables, Rice]][Fresh Tomato Salsa, [Fajita Vegetables, Rice, Sour Cream, Lettuce]][Fresh Tomato Salsa, [Fajita Vegetables, Rice, Cheese, Sour Cream, Guacamole, Lettuce]][Fresh Tomato Salsa, [Rice, Fajita Vegetables, Cheese, Lettuce, Guacamole]][Tomatillo Green Chili Salsa, [Rice, Pinto Beans, Sour Cream, Lettuce]][Tomatillo Green Chili Salsa, [Rice, Cheese, Sour Cream, Lettuce]][Fresh Tomato Salsa, [Rice, Cheese, Sour Cream, Guacamole, Lettuce]][Tomatillo Green Chili Salsa, [Fajita Vegetables, Rice, Black Beans]][Tomatillo-Red Chili Salsa (Hot), [Rice, Cheese, Sour Cream, Lettuce]][Tomatillo-Red Chili Salsa (Hot), [Rice, Fajita Veggies, Sour Cream, Lettuce]][Fresh Tomato Salsa, [Rice, Fajita Vegetables, Sour Cream, Cheese, Guacamole]][Tomatillo Red Chili Salsa, [Rice, Black Beans, Cheese, Sour Cream, Lettuce]][[Fresh Tomato Salsa (Mild), Tomatillo-Red Chili Salsa (Hot)], [Black Beans, Rice, Cheese, Sour Cream]][Tomatillo-Red Chili Salsa (Hot), [Black Beans, Rice, Cheese, Lettuce]][Roasted Chili Corn Salsa (Medium), [Rice, Cheese, Lettuce]][Tomatillo-Red Chili Salsa (Hot), [Black Beans, Rice, Cheese, Lettuce]][Tomatillo Red Chili Salsa, [Rice, Pinto Beans, Cheese, Lettuce]][Fresh Tomato Salsa, [Rice, Cheese, Sour Cream, Guacamole]][Roasted Chili Corn Salsa, [Rice, Cheese, Sour Cream, Guacamole]][Fresh Tomato Salsa, [Fajita Vegetables, Rice]][[Fresh Tomato Salsa (Mild), Roasted Chili Corn Salsa (Medium)], [Rice, Fajita Veggies]][Tomatillo Red Chili Salsa, [Rice, Black Beans, Cheese, Sour Cream, Guacamole, Lettuce]][[Fresh Tomato Salsa (Mild), Roasted Chili Corn Salsa (Medium), Tomatillo-Red Chili Salsa (Hot)], [Black Beans, Rice, Cheese, Sour Cream]][Tomatillo-Red Chili Salsa (Hot), [Pinto Beans, Rice, Fajita Veggies, Cheese, Sour Cream]][Fresh Tomato Salsa, [Rice, Black Beans, Cheese, Sour Cream, Guacamole]][Roasted Chili Corn Salsa, [Fajita Vegetables, Rice, Pinto Beans, Cheese, Guacamole, Lettuce]][Fresh Tomato Salsa (Mild), [Pinto Beans, Rice, Fajita Veggies, Cheese, Sour Cream, Guacamole, Lettuce]][Fresh Tomato Salsa, [Sour Cream, Cheese]][Fresh Tomato Salsa, [Rice, Cheese, Lettuce]][Tomatillo-Green Chili Salsa (Medium), [Pinto Beans, Rice, Fajita Veggies, Lettuce]][Fresh Tomato Salsa, [Rice, Black Beans, Cheese]][Roasted Chili Corn Salsa (Medium), [Rice, Fajita Veggies, Cheese]][Fresh Tomato Salsa (Mild), [Black Beans, Rice, Fajita Veggies, Cheese]][[Roasted Chili Corn Salsa (Medium), Tomatillo-Red Chili Salsa (Hot)], [Pinto Beans, Rice, Fajita Veggies, Cheese]][Roasted Chili Corn Salsa, [Rice, Black Beans, Cheese]][Tomatillo-Red Chili Salsa (Hot), [Rice, Cheese, Sour Cream, Lettuce]][[Fresh Tomato Salsa (Mild), Roasted Chili Corn Salsa (Medium)], [Black Beans, Rice, Fajita Veggies, Cheese, Sour Cream, Guacamole, Lettuce]][Roasted Chili Corn Salsa, [Rice, Black Beans, Cheese, Sour Cream, Lettuce]][Fresh Tomato Salsa, [Rice, Fajita Vegetables, Sour Cream, Cheese, Guacamole]][[Fresh Tomato Salsa (Mild), Tomatillo-Red Chili Salsa (Hot)], [Black Beans, Rice, Cheese, Sour Cream]][Tomatillo Red Chili Salsa, [Rice, Black Beans, Cheese, Sour Cream, Lettuce]][[Tomatillo-Green Chili Salsa (Medium), Roasted Chili Corn Salsa (Medium)], [Black Beans, Rice, Fajita Veggies, Cheese, Sour Cream, Lettuce]][Tomatillo Red Chili Salsa, [Rice, Black Beans, Cheese, Lettuce, Guacamole]][[Fresh Tomato Salsa (Mild), Tomatillo-Red Chili Salsa (Hot)], [Black Beans, Rice, Cheese, Sour Cream]][Tomatillo Green Chili Salsa, [Rice, Cheese, Lettuce]][Fresh Tomato Salsa, [Fajita Vegetables, Rice]][Tomatillo-Red Chili Salsa (Hot), [Sour Cream, Cheese, Fajita Veggies, Guacamole, Rice, Pinto Beans]][[Roasted Chili Corn Salsa (Medium), Tomatillo-Red Chili Salsa (Hot), Fresh Tomato Salsa (Mild), Tomatillo-Green Chili Salsa (Medium)], [Rice, Black Beans, Fajita Veggies, Cheese, Sour Cream]][Tomatillo Green Chili Salsa, [Rice, Black Beans, Sour Cream, Cheese]][Roasted Chili Corn Salsa, [Rice, Cheese, Sour Cream, Lettuce]][Fresh Tomato Salsa, [Fajita Vegetables, Rice]][Tomatillo-Red Chili Salsa (Hot), [Black Beans, Rice, Cheese, Lettuce]][Roasted Chili Corn Salsa (Medium), [Rice, Cheese, Lettuce]][Fresh Tomato Salsa, [Rice, Black Beans, Pinto Beans, Guacamole, Lettuce]][Tomatillo Green Chili Salsa, [Rice, Black Beans, Cheese, Sour Cream, Lettuce]][Fresh Tomato Salsa, [Fajita Vegetables, Rice, Guacamole, Lettuce]][Fresh Tomato Salsa, [Rice, Fajita Vegetables]][Fresh Tomato Salsa, [Rice, Black Beans, Cheese]][[Fresh Tomato Salsa (Mild), Tomatillo-Red Chili Salsa (Hot)], [Black Beans, Rice, Cheese, Sour Cream]][Roasted Chili Corn Salsa, [Rice, Black Beans, Cheese, Lettuce]][Tomatillo Red Chili Salsa, [Rice, Black Beans, Sour Cream, Cheese, Lettuce]][Tomatillo Green Chili Salsa, [Rice, Black Beans, Sour Cream, Cheese]][[Fresh Tomato Salsa (Mild), Roasted Chili Corn Salsa (Medium), Tomatillo-Red Chili Salsa (Hot)], [Pinto Beans, Rice, Fajita Veggies, Cheese, Sour Cream, Lettuce]][Fresh Tomato Salsa (Mild), [Rice, Black Beans, Fajita Veggies, Cheese, Guacamole, Lettuce]][Fresh Tomato Salsa, [Rice, Black Beans, Cheese, Sour Cream]][Tomatillo Green Chili Salsa, [Rice, Cheese, Guacamole]][Tomatillo-Green Chili Salsa (Medium), [Black Beans, Rice, Cheese, Sour Cream]][Fresh Tomato Salsa (Mild), [Pinto Beans, Rice, Sour Cream, Guacamole]][Fresh Tomato Salsa (Mild), [Black Beans, Rice, Cheese, Sour Cream, Guacamole, Lettuce]][Tomatillo Red Chili Salsa, [Rice, Black Beans, Sour Cream, Cheese, Lettuce]][Fresh Tomato Salsa (Mild), [Rice, Pinto Beans, Cheese, Guacamole, Lettuce]][Fresh Tomato Salsa, [Rice, Black Beans, Cheese, Guacamole, Lettuce]][Tomatillo Green Chili Salsa, [Rice, Black Beans, Cheese, Guacamole]][Tomatillo Red Chili Salsa, [Fajita Vegetables, Rice, Black Beans, Cheese, Guacamole, Lettuce]][Fresh Tomato Salsa, [Fajita Vegetables, Rice, Pinto Beans, Cheese, Guacamole, Lettuce]][Tomatillo Red Chili Salsa, [Rice, Pinto Beans, Guacamole, Lettuce]][Fresh Tomato Salsa, [Rice, Black Beans, Cheese]][Fresh Tomato Salsa, [Fajita Vegetables, Rice, Sour Cream, Lettuce]][Fresh Tomato Salsa (Mild), [Rice, Black Beans, Fajita Veggies, Cheese, Sour Cream, Lettuce]][Tomatillo Green Chili Salsa, [Rice, Sour Cream, Guacamole]][Tomatillo Red Chili Salsa, [Rice, Black Beans, Sour Cream, Cheese, Lettuce]][Fresh Tomato Salsa, [Rice, Black Beans, Cheese, Guacamole, Lettuce]][Roasted Chili Corn Salsa, [Fajita Vegetables, Rice, Pinto Beans, Cheese, Sour Cream, Guacamole, Lettuce]][Roasted Chili Corn Salsa, [Rice, Pinto Beans, Cheese, Sour Cream, Guacamole, Lettuce]][Roasted Chili Corn Salsa, [Rice, Black Beans, Cheese, Sour Cream, Lettuce]][[Fresh Tomato Salsa (Mild), Tomatillo-Red Chili Salsa (Hot)], [Black Beans, Rice, Cheese, Sour Cream, Guacamole]][[Fresh Tomato Salsa (Mild), Roasted Chili Corn Salsa (Medium)], [Black Beans, Guacamole]][Fresh Tomato Salsa, [Rice, Black Beans, Lettuce]][[Fresh Tomato Salsa (Mild), Roasted Chili Corn Salsa (Medium)], [Rice, Fajita Veggies]][Fresh Tomato Salsa, [Sour Cream, Guacamole, Lettuce]][Fresh Tomato Salsa, Cheese][Tomatillo-Red Chili Salsa (Hot), [Pinto Beans, Cheese, Sour Cream, Rice, Fajita Veggies, Guacamole]][Fresh Tomato Salsa, [Fajita Vegetables, Rice]][Tomatillo Red Chili Salsa, [Rice, Black Beans]][Fresh Tomato Salsa, [Black Beans, Cheese, Sour Cream]][Tomatillo Green Chili Salsa, [Fajita Vegetables, Rice, Cheese, Guacamole, Lettuce]][Fresh Tomato Salsa, [Fajita Vegetables, Rice]][[Fresh Tomato Salsa (Mild), Tomatillo-Red Chili Salsa (Hot)], [Guacamole, Rice, Black Beans, Cheese, Sour Cream]][Roasted Chili Corn Salsa (Medium), [Black Beans, Rice, Cheese, Sour Cream, Lettuce]][Fresh Tomato Salsa, [Fajita Vegetables, Rice, Guacamole, Lettuce]][Fresh Tomato Salsa, [Rice, Black Beans, Cheese]][[Fresh Tomato Salsa (Mild), Roasted Chili Corn Salsa (Medium)], [Black Beans, Cheese, Guacamole]][Fresh Tomato Salsa, [Rice, Black Beans, Lettuce]][Fresh Tomato Salsa, [Rice, Pinto Beans, Sour Cream, Cheese, Lettuce]][Fresh Tomato Salsa, [Rice, Cheese, Lettuce]][Fresh Tomato Salsa, [Fajita Vegetables, Rice, Black Beans, Cheese, Guacamole]][Tomatillo Red Chili Salsa, [Rice, Black Beans, Cheese, Sour Cream]][Fresh Tomato Salsa, [Rice, Black Beans, Sour Cream, Cheese, Guacamole]][Roasted Chili Corn Salsa, [Fajita Vegetables, Rice, Black Beans, Lettuce]][Roasted Chili Corn Salsa, [Fajita Vegetables, Black Beans, Pinto Beans, Cheese, Lettuce]][Tomatillo Red Chili Salsa, [Rice, Black Beans, Sour Cream, Cheese, Lettuce]][Tomatillo Red Chili Salsa, [Rice, Cheese, Sour Cream, Lettuce]][Roasted Chili Corn Salsa, [Rice, Black Beans, Guacamole]][Fresh Tomato Salsa, [Fajita Vegetables, Rice]][Fresh Tomato Salsa, [Rice, Black Beans, Cheese, Sour Cream, Guacamole]][Tomatillo Green Chili Salsa, [Rice, Pinto Beans, Sour Cream, Lettuce]][Fresh Tomato Salsa][Fresh Tomato Salsa, [Fajita Vegetables, Rice, Lettuce]][Roasted Chili Corn Salsa, [Rice, Black Beans, Cheese, Sour Cream, Lettuce]][Fresh Tomato Salsa, [Fajita Vegetables, Rice, Lettuce]][Fresh Tomato Salsa, [Rice, Pinto Beans, Cheese, Sour Cream, Lettuce]][Roasted Chili Corn Salsa, [Cheese, Lettuce, Fajita Vegetables, Rice]][Roasted Chili Corn Salsa, [Fajita Vegetables, Rice, Cheese, Sour Cream, Lettuce]][Roasted Chili Corn Salsa, [Fajita Vegetables, Rice, Cheese, Sour Cream]][Roasted Chili Corn Salsa, [Fajita Vegetables, Rice, Cheese, Sour Cream, Lettuce]][Fresh Tomato Salsa, [Rice, Black Beans, Cheese, Sour Cream, Lettuce]][Fresh Tomato Salsa, [Rice, Lettuce]][Fresh Tomato Salsa, [Rice, Cheese, Sour Cream, Lettuce]][Roasted Chili Corn Salsa, [Fajita Vegetables, Rice, Cheese, Sour Cream, Lettuce]][Roasted Chili Corn Salsa, [Rice, Pinto Beans, Cheese, Sour Cream, Lettuce]][Roasted Chili Corn Salsa, [Rice, Cheese]][Fresh Tomato Salsa, [Rice, Black Beans, Cheese, Sour Cream, Lettuce]][Fresh Tomato Salsa, [Rice, Black Beans, Sour Cream, Guacamole, Lettuce]][Fresh Tomato Salsa, [Rice, Black Beans, Cheese, Sour Cream, Guacamole]][Fresh Tomato Salsa, [Rice, Cheese, Lettuce]][[Fresh Tomato Salsa (Mild), Roasted Chili Corn Salsa (Medium)], [Rice, Fajita Veggies]][Fresh Tomato Salsa, [Rice, Pinto Beans, Cheese, Sour Cream, Lettuce]][Fresh Tomato Salsa, [Fajita Vegetables, Rice, Black Beans, Cheese, Guacamole, Lettuce]][Fresh Tomato Salsa, [Rice, Fajita Vegetables]][Roasted Chili Corn Salsa (Medium), [Black Beans, Rice, Cheese, Guacamole, Lettuce]][Fresh Tomato Salsa, [Rice, Black Beans, Cheese, Sour Cream]][Tomatillo Green Chili Salsa, [Rice, Cheese, Sour Cream, Guacamole]][Tomatillo Green Chili Salsa, [Fajita Vegetables, Rice, Pinto Beans, Cheese, Sour Cream, Lettuce]][Fresh Tomato Salsa (Mild), [Black Beans, Rice, Fajita Veggies, Cheese, Sour Cream, Lettuce]][Fresh Tomato Salsa, [Rice, Black Beans, Cheese, Lettuce]][Fresh Tomato Salsa, [Fajita Vegetables, Rice, Black Beans, Pinto Beans, Cheese, Sour Cream, Guacamole, Lettuce]][Fresh Tomato Salsa, [Rice, Cheese, Sour Cream, Lettuce]][Fresh Tomato Salsa, [Rice, Black Beans, Cheese, Sour Cream, Lettuce]][Roasted Chili Corn Salsa, [Rice, Black Beans, Cheese, Sour Cream, Lettuce]][Tomatillo-Red Chili Salsa (Hot), [Black Beans, Rice, Cheese, Lettuce]][Fresh Tomato Salsa, [Rice, Black Beans, Cheese, Sour Cream, Guacamole, Lettuce]][Fresh Tomato Salsa, [Rice, Black Beans, Cheese, Sour Cream, Guacamole]][[Fresh Tomato Salsa (Mild), Roasted Chili Corn Salsa (Medium)], [Black Beans, Rice, Fajita Veggies, Lettuce]][Fresh Tomato Salsa, [Rice, Pinto Beans, Cheese]][Tomatillo Red Chili Salsa, [Rice, Black Beans, Sour Cream, Cheese, Lettuce]][Tomatillo Red Chili Salsa, [Rice, Black Beans, Sour Cream, Cheese, Lettuce]][Tomatillo Green Chili Salsa, [Rice, Cheese, Sour Cream, Lettuce]][Tomatillo Red Chili Salsa, [Rice, Black Beans, Sour Cream, Guacamole, Lettuce]][Tomatillo Green Chili Salsa, [Rice, Black Beans, Sour Cream, Lettuce]][Roasted Chili Corn Salsa, [Rice, Black Beans, Cheese, Guacamole]][[Fresh Tomato Salsa (Mild), Roasted Chili Corn Salsa (Medium)], [Rice, Cheese, Sour Cream, Guacamole, Lettuce]][Roasted Chili Corn Salsa (Medium), [Pinto Beans, Rice, Cheese, Sour Cream, Lettuce]][Roasted Chili Corn Salsa, [Fajita Vegetables, Rice, Pinto Beans, Cheese, Sour Cream, Lettuce]][Fresh Tomato Salsa, [Fajita Vegetables, Rice, Pinto Beans, Cheese, Sour Cream, Lettuce]][Tomatillo-Red Chili Salsa (Hot), [Black Beans, Cheese, Lettuce]][Fresh Tomato Salsa, [Guacamole, Cheese, Sour Cream, Fajita Vegetables, Rice]][Fresh Tomato Salsa, Cheese][Fresh Tomato Salsa, [Rice, Black Beans, Guacamole, Lettuce]][Roasted Chili Corn Salsa, [Rice, Black Beans, Cheese, Guacamole]][Tomatillo-Red Chili Salsa (Hot), [Rice, Cheese, Sour Cream, Lettuce]][Fresh Tomato Salsa, [Black Beans, Cheese, Guacamole, Lettuce]][Tomatillo-Red Chili Salsa (Hot), [Rice, Fajita Veggies, Pinto Beans, Sour Cream, Cheese, Guacamole]][Fresh Tomato Salsa, [Fajita Vegetables, Rice, Black Beans, Cheese, Sour Cream, Lettuce]][Fresh Tomato Salsa, [Fajita Vegetables, Rice]][Tomatillo-Red Chili Salsa (Hot), [Black Beans, Rice, Cheese, Lettuce]][Tomatillo-Red Chili Salsa (Hot), [Rice, Black Beans, Cheese, Lettuce]][Tomatillo Red Chili Salsa, [Fajita Vegetables, Rice, Black Beans, Cheese, Sour Cream, Guacamole, Lettuce]][Fresh Tomato Salsa, [Fajita Vegetables, Rice, Black Beans, Cheese, Sour Cream, Guacamole, Lettuce]][Fresh Tomato Salsa, [Fajita Vegetables, Rice, Sour Cream, Guacamole]][Fresh Tomato Salsa, [Rice, Black Beans, Cheese]][Tomatillo Red Chili Salsa, [Rice, Fajita Vegetables, Black Beans, Cheese, Lettuce, Guacamole]][[Roasted Chili Corn Salsa (Medium), Fresh Tomato Salsa (Mild)], [Rice, Fajita Veggies]][[Tomatillo-Green Chili Salsa (Medium), Roasted Chili Corn Salsa (Medium)], [Black Beans, Rice, Fajita Veggies, Cheese, Sour Cream, Guacamole]][Fresh Tomato Salsa, [Rice, Cheese, Sour Cream, Lettuce]][Fresh Tomato Salsa, [Rice, Black Beans, Cheese, Sour Cream]][Tomatillo Red Chili Salsa, Fajita Vegetables][Fresh Tomato Salsa, [Fajita Vegetables, Rice, Guacamole, Lettuce]][Fresh Tomato Salsa, [Sour Cream, Fajita Vegetables, Rice, Guacamole, Cheese]][Fresh Tomato Salsa, [Fajita Vegetables, Rice, Black Beans, Cheese, Sour Cream, Guacamole, Lettuce]][Fresh Tomato Salsa (Mild), [Black Beans, Rice, Fajita Veggies, Cheese, Sour Cream, Guacamole, Lettuce]][Fresh Tomato Salsa, [Rice, Black Beans, Sour Cream, Guacamole, Lettuce]][Fresh Tomato Salsa (Mild), [Rice, Fajita Veggies, Cheese, Lettuce]][Tomatillo Red Chili Salsa, Rice][Roasted Chili Corn Salsa, [Rice, Black Beans, Sour Cream, Cheese, Guacamole]][Fresh Tomato Salsa, [Rice, Cheese, Lettuce]][Fresh Tomato Salsa, [Fajita Vegetables, Rice, Cheese, Sour Cream, Guacamole, Lettuce]][Tomatillo Red Chili Salsa, [Fajita Vegetables, Rice, Black Beans, Cheese, Lettuce]][Tomatillo Red Chili Salsa, [Rice, Black Beans, Cheese, Sour Cream, Guacamole, Lettuce]][Fresh Tomato Salsa (Mild), [Rice, Black Beans, Sour Cream, Guacamole]][Roasted Chili Corn Salsa, [Fajita Vegetables, Rice, Pinto Beans, Cheese, Sour Cream, Lettuce]][Fresh Tomato Salsa, [Fajita Vegetables, Rice, Lettuce]][Fresh Tomato Salsa, [Fajita Vegetables, Rice, Sour Cream, Lettuce]][Tomatillo Green Chili Salsa, [Rice, Pinto Beans, Sour Cream, Lettuce]][Tomatillo Red Chili Salsa, [Rice, Black Beans, Sour Cream, Cheese, Lettuce, Guacamole]][Fresh Tomato Salsa, [Rice, Black Beans, Cheese, Guacamole, Lettuce]][Fresh Tomato Salsa, [Rice, Black Beans, Cheese, Guacamole, Lettuce]][Roasted Chili Corn Salsa, [Rice, Pinto Beans, Cheese, Sour Cream, Lettuce]][Fresh Tomato Salsa, [Pinto Beans, Cheese, Guacamole]][Fresh Tomato Salsa, [Rice, Black Beans, Cheese]][Fresh Tomato Salsa, [Rice, Cheese, Sour Cream]][Fresh Tomato Salsa, [Rice, Black Beans, Guacamole, Lettuce]][Fresh Tomato Salsa (Mild), [Pinto Beans, Rice, Cheese, Sour Cream, Guacamole, Lettuce]][[Roasted Chili Corn Salsa (Medium), Fresh Tomato Salsa (Mild)], [Rice, Fajita Veggies]][Fresh Tomato Salsa, [Rice, Fajita Vegetables, Black Beans]][Fresh Tomato Salsa, [Cheese, Guacamole, Sour Cream, Fajita Vegetables, Rice]][Fresh Tomato Salsa, [Rice, Cheese, Lettuce]][Fresh Tomato Salsa, [Rice, Black Beans, Cheese, Sour Cream, Lettuce]][Fresh Tomato Salsa, [Rice, Cheese, Sour Cream, Lettuce]][Roasted Chili Corn Salsa, [Rice, Black Beans, Sour Cream, Cheese, Guacamole]][Tomatillo-Red Chili Salsa (Hot), [Black Beans, Rice, Cheese, Lettuce]][Fresh Tomato Salsa (Mild), [Rice, Cheese, Sour Cream, Guacamole, Lettuce]][Fresh Tomato Salsa, [Fajita Vegetables, Rice, Cheese, Sour Cream, Lettuce]][Tomatillo Green Chili Salsa, [Rice, Pinto Beans, Cheese, Lettuce]][Fresh Tomato Salsa, [Fajita Vegetables, Rice, Sour Cream, Guacamole, Lettuce]][Tomatillo Red Chili Salsa, [Rice, Black Beans, Pinto Beans, Cheese, Sour Cream]][Fresh Tomato Salsa, [Fajita Vegetables, Rice, Cheese, Lettuce]][Fresh Tomato Salsa, [Rice, Cheese, Sour Cream]][Fresh Tomato Salsa, [Fajita Vegetables, Rice, Black Beans, Cheese, Guacamole, Lettuce]][Fresh Tomato Salsa, [Fajita Vegetables, Rice, Pinto Beans, Cheese, Sour Cream, Guacamole, Lettuce]][Fresh Tomato (Mild), [Rice, Sour Cream, Cheese]][Fresh Tomato (Mild), [Guacamole, Rice]][Roasted Chili Corn Salsa, [Rice, Cheese, Sour Cream, Guacamole, Lettuce]][Tomatillo Green Chili Salsa, [Rice, Pinto Beans, Sour Cream, Lettuce]][Tomatillo Red Chili Salsa, [Rice, Black Beans, Cheese, Lettuce]][Tomatillo-Green Chili Salsa (Medium), [Black Beans, Rice, Fajita Veggies, Cheese, Sour Cream, Guacamole, Lettuce]][[Fresh Tomato Salsa (Mild), Tomatillo-Green Chili Salsa (Medium)], [Rice, Fajita Veggies, Cheese, Sour Cream, Lettuce]][Roasted Chili Corn Salsa (Medium), [Rice, Fajita Veggies, Cheese, Sour Cream, Lettuce]][Roasted Chili Corn Salsa, [Fajita Vegetables, Rice, Pinto Beans, Cheese, Lettuce]][Roasted Chili Corn Salsa, [Fajita Vegetables, Rice, Black Beans, Cheese, Guacamole, Lettuce]][Fresh Tomato Salsa, [Rice, Black Beans, Guacamole]][Fresh Tomato Salsa (Mild), [Black Beans, Rice, Cheese]][Tomatillo-Red Chili Salsa (Hot), [Rice, Black Beans, Cheese, Lettuce]][Tomatillo-Red Chili Salsa (Hot), [Rice, Black Beans, Cheese, Lettuce]][Fresh Tomato Salsa, [Rice, Black Beans, Cheese, Sour Cream, Lettuce]][Fresh Tomato Salsa, [Sour Cream, Fajita Vegetables, Rice, Guacamole, Cheese]][Fresh Tomato Salsa, [Rice, Black Beans, Guacamole]][Fresh Tomato Salsa, [Fajita Vegetables, Rice, Black Beans, Cheese, Guacamole, Lettuce]][[Roasted Chili Corn Salsa (Medium), Tomatillo-Red Chili Salsa (Hot), Fresh Tomato Salsa (Mild)], [Rice, Pinto Beans, Fajita Veggies, Cheese, Sour Cream, Lettuce]][Fresh Tomato Salsa, [Sour Cream, Guacamole, Lettuce]][Fresh Tomato Salsa, [Fajita Vegetables, Rice, Cheese, Sour Cream, Guacamole, Lettuce]][Fresh Tomato Salsa, [Fajita Vegetables, Rice, Black Beans, Cheese, Sour Cream, Lettuce]][Tomatillo-Red Chili Salsa (Hot), [Cheese, Lettuce, Rice, Black Beans]][[Fresh Tomato Salsa (Mild), Roasted Chili Corn Salsa (Medium)], [Black Beans, Rice, Fajita Veggies, Cheese, Sour Cream, Lettuce]][Fresh Tomato Salsa, [Rice, Cheese, Lettuce]][Fresh Tomato Salsa, [Fajita Vegetables, Rice, Black Beans, Guacamole, Lettuce]][Fresh Tomato Salsa, [Rice, Pinto Beans, Cheese, Lettuce]][[Tomatillo-Red Chili Salsa (Hot), Tomatillo-Green Chili Salsa (Medium)], [Rice, Black Beans, Lettuce]][Roasted Chili Corn Salsa (Medium), [Rice, Fajita Veggies, Cheese, Sour Cream, Lettuce]][Tomatillo Green Chili Salsa, [Sour Cream, Cheese, Guacamole]][Fresh Tomato Salsa, [Rice, Black Beans, Cheese, Sour Cream, Guacamole, Lettuce]][Fresh Tomato Salsa, [Fajita Vegetables, Rice, Cheese, Sour Cream, Guacamole, Lettuce]][Fresh Tomato Salsa, [Fajita Vegetables, Rice, Black Beans, Guacamole, Lettuce]][Tomatillo Green Chili Salsa, [Rice, Black Beans, Cheese, Sour Cream, Guacamole, Lettuce]][Tomatillo Red Chili Salsa, [Rice, Black Beans, Cheese, Sour Cream, Guacamole, Lettuce]][Fresh Tomato Salsa (Mild), [Black Beans, Rice, Fajita Veggies, Cheese, Sour Cream, Lettuce]][[Roasted Chili Corn Salsa (Medium), Fresh Tomato Salsa (Mild)], [Rice, Fajita Veggies]][[Roasted Chili Corn Salsa (Medium), Fresh Tomato Salsa (Mild)], [Fajita Veggies, Lettuce, Rice, Black Beans]][Tomatillo Red Chili Salsa, [Sour Cream, Cheese, Guacamole, Lettuce, Black Beans, Rice]][Fresh Tomato (Mild), [Lettuce, Fajita Veggies, Black Beans, Rice, Sour Cream, Cheese]][[Fresh Tomato Salsa (Mild), Roasted Chili Corn Salsa (Medium)], [Black Beans, Rice, Cheese, Sour Cream, Lettuce]][Tomatillo Green Chili Salsa, [Rice, Pinto Beans, Sour Cream, Lettuce]][[Fresh Tomato Salsa (Mild), Roasted Chili Corn Salsa (Medium)], [Fajita Veggies, Rice]][Tomatillo-Red Chili Salsa (Hot), [Pinto Beans, Rice, Fajita Veggies, Cheese, Sour Cream, Guacamole]][Fresh Tomato Salsa, [Fajita Vegetables, Rice, Black Beans, Cheese, Sour Cream, Lettuce]][Roasted Chili Corn Salsa, [Rice, Fajita Vegetables, Lettuce, Pinto Beans, Black Beans, Guacamole, Cheese]][Tomatillo Green Chili Salsa, [Rice, Black Beans, Cheese]][Fresh Tomato Salsa (Mild), Lettuce][Fresh Tomato Salsa (Mild), Cheese][Roasted Chili Corn Salsa (Medium), Cheese][Tomatillo Green Chili Salsa, [Rice, Black Beans, Cheese, Lettuce]][Fresh Tomato Salsa, [Fajita Vegetables, Rice, Black Beans, Cheese, Sour Cream, Lettuce]][Fresh Tomato Salsa, [Rice, Cheese, Sour Cream, Guacamole]][Fresh Tomato Salsa, [Rice, Black Beans, Pinto Beans, Cheese, Lettuce]][Fresh Tomato Salsa, [Fajita Vegetables, Rice, Black Beans, Sour Cream, Lettuce]][Fresh Tomato Salsa, [Rice, Black Beans, Cheese, Guacamole, Lettuce]][Fresh Tomato Salsa, [Fajita Vegetables, Rice, Pinto Beans, Cheese, Sour Cream, Guacamole, Lettuce]][Roasted Chili Corn Salsa (Medium), [Rice, Fajita Veggies, Sour Cream]][Fresh Tomato Salsa, [Fajita Vegetables, Rice, Cheese, Sour Cream, Guacamole, Lettuce]][Fresh Tomato Salsa (Mild), [Pinto Beans, Rice, Cheese, Sour Cream]][Fresh Tomato Salsa, [Guacamole, Cheese, Rice, Sour Cream, Fajita Vegetables]][Roasted Chili Corn Salsa, [Rice, Black Beans, Sour Cream, Cheese, Guacamole]][Roasted Chili Corn Salsa, [Rice, Black Beans, Sour Cream, Cheese, Lettuce, Guacamole]][Fresh Tomato Salsa, [Rice, Fajita Vegetables]][Roasted Chili Corn Salsa (Medium), [Black Beans, Rice, Fajita Veggies, Cheese, Sour Cream]][[Tomatillo-Red Chili Salsa (Hot), Tomatillo-Green Chili Salsa (Medium)], [Rice, Black Beans, Cheese, Lettuce]][Roasted Chili Corn Salsa, [Rice, Pinto Beans, Cheese, Sour Cream, Lettuce]][Tomatillo Green Chili Salsa, [Rice, Black Beans, Guacamole, Lettuce]][Fresh Tomato Salsa, [Lettuce, Fajita Vegetables, Guacamole, Rice, Black Beans]][Fresh Tomato Salsa, [Lettuce, Cheese, Pinto Beans, Rice]][Fresh Tomato Salsa, [Rice, Pinto Beans, Sour Cream, Cheese, Lettuce]][Roasted Chili Corn Salsa, [Fajita Vegetables, Rice, Black Beans, Cheese, Sour Cream, Guacamole, Lettuce]][Fresh Tomato Salsa, [Fajita Vegetables, Rice, Black Beans, Cheese, Sour Cream, Guacamole, Lettuce]][Fresh Tomato Salsa, [Rice, Fajita Vegetables]][Fresh Tomato Salsa, [Rice, Cheese, Lettuce]][Fresh Tomato Salsa][Roasted Chili Corn Salsa, [Rice, Black Beans, Sour Cream, Cheese, Guacamole]][Roasted Chili Corn Salsa, [Rice, Pinto Beans, Cheese, Sour Cream, Lettuce]][Fresh Tomato Salsa, [Rice, Cheese, Sour Cream, Lettuce]][Fresh Tomato Salsa, [Rice, Fajita Vegetables]][Roasted Chili Corn Salsa, [Rice, Black Beans, Cheese]][Roasted Chili Corn Salsa, [Fajita Vegetables, Rice]][Tomatillo-Red Chili Salsa (Hot), [Pinto Beans, Rice, Fajita Veggies, Cheese, Sour Cream]][[Fresh Tomato Salsa (Mild), Tomatillo-Green Chili Salsa (Medium)], [Rice, Fajita Veggies, Cheese, Sour Cream, Lettuce]][Roasted Chili Corn Salsa, [Rice, Pinto Beans, Cheese, Sour Cream, Guacamole]][Fresh Tomato Salsa (Mild), [Rice, Black Beans, Fajita Veggies, Cheese, Sour Cream, Lettuce]][Fresh Tomato Salsa, [Fajita Vegetables, Rice, Lettuce]][Fresh Tomato Salsa, [Rice, Black Beans, Cheese, Sour Cream, Guacamole, Lettuce]][Roasted Chili Corn Salsa (Medium), [Pinto Beans, Black Beans, Rice, Cheese, Sour Cream, Guacamole]][Tomatillo-Green Chili Salsa (Medium), [Pinto Beans, Black Beans, Rice, Fajita Veggies, Sour Cream, Lettuce]][Fresh Tomato Salsa, [Fajita Vegetables, Rice, Black Beans, Cheese, Sour Cream, Lettuce]][Fresh Tomato Salsa, [Rice, Cheese, Sour Cream, Lettuce]][[Roasted Chili Corn Salsa (Medium), Tomatillo-Green Chili Salsa (Medium)], [Rice, Fajita Veggies, Cheese, Sour Cream, Lettuce]][Fresh Tomato Salsa, [Cheese, Black Beans, Rice]][Roasted Chili Corn Salsa, [Rice, Black Beans, Sour Cream, Cheese, Guacamole]][Roasted Chili Corn Salsa, [Black Beans, Cheese, Guacamole]][Fresh Tomato Salsa, [Rice, Fajita Vegetables, Sour Cream, Cheese, Guacamole]][Fresh Tomato Salsa, [Rice, Pinto Beans, Cheese, Guacamole, Lettuce]][Fresh Tomato Salsa, [Rice, Cheese]][Tomatillo Green Chili Salsa, [Rice, Cheese]][Roasted Chili Corn Salsa, [Rice, Black Beans, Cheese, Guacamole]][Fresh Tomato Salsa, [Rice, Cheese, Guacamole, Lettuce]][Roasted Chili Corn Salsa, [Rice, Black Beans, Sour Cream, Guacamole]][Fresh Tomato Salsa, [Cheese, Rice, Black Beans]][Fresh Tomato Salsa, [Guacamole, Sour Cream, Cheese, Rice, Fajita Vegetables]][Fresh Tomato Salsa, [Rice, Fajita Vegetables, Black Beans, Sour Cream, Cheese, Lettuce]][Tomatillo Green Chili Salsa, [Rice, Pinto Beans, Sour Cream, Lettuce]][Tomatillo-Red Chili Salsa (Hot), [Black Beans, Rice, Cheese, Lettuce]][Fresh Tomato Salsa (Mild), [Black Beans, Rice, Guacamole, Lettuce]][Tomatillo-Red Chili Salsa (Hot), [Pinto Beans, Rice, Fajita Veggies, Cheese, Sour Cream, Guacamole]][[Roasted Chili Corn Salsa (Medium), Fresh Tomato Salsa (Mild)], [Rice, Black Beans, Fajita Veggies, Guacamole]][[Roasted Chili Corn Salsa (Medium), Tomatillo-Red Chili Salsa (Hot), Fresh Tomato Salsa (Mild)], [Rice, Pinto Beans, Fajita Veggies, Cheese, Sour Cream, Lettuce]][Fresh Tomato Salsa, [Fajita Vegetables, Rice, Pinto Beans, Cheese]][Fresh Tomato Salsa, [Fajita Vegetables, Rice, Black Beans, Cheese, Sour Cream, Guacamole, Lettuce]][Fresh Tomato Salsa, [Fajita Vegetables, Rice, Pinto Beans, Cheese, Sour Cream, Guacamole, Lettuce]][Fresh Tomato Salsa, [Fajita Vegetables, Rice, Black Beans, Cheese, Sour Cream, Lettuce]][Fresh Tomato Salsa, [Rice, Black Beans, Cheese, Sour Cream]][Tomatillo Green Chili Salsa, [Fajita Vegetables, Rice, Black Beans, Cheese, Lettuce]][Fresh Tomato Salsa, [Fajita Vegetables, Rice]][Roasted Chili Corn Salsa (Medium), [Black Beans, Rice, Fajita Veggies, Cheese, Sour Cream]][Fresh Tomato Salsa, [Rice, Cheese, Sour Cream]][[Roasted Chili Corn Salsa (Medium), Tomatillo-Red Chili Salsa (Hot)], [Black Beans, Rice, Fajita Veggies, Guacamole, Lettuce]][Roasted Chili Corn Salsa, [Rice, Pinto Beans, Sour Cream, Cheese, Guacamole]][Fresh Tomato Salsa (Mild), [Black Beans, Rice, Guacamole, Lettuce]][Tomatillo-Red Chili Salsa (Hot), [Cheese, Sour Cream, Fajita Veggies, Pinto Beans, Rice]][Fresh Tomato Salsa (Mild), [Black Beans, Rice, Fajita Veggies, Cheese]][Fresh Tomato Salsa, [Rice, Black Beans, Cheese, Guacamole, Lettuce]][Fresh Tomato Salsa, [Rice, Cheese, Sour Cream, Guacamole, Fajita Vegetables]][Tomatillo Green Chili Salsa, [Rice, Cheese, Guacamole, Lettuce]][Roasted Chili Corn Salsa, [Rice, Black Beans, Sour Cream, Guacamole]][Tomatillo Red Chili Salsa, [Rice, Cheese, Sour Cream, Guacamole]][Fresh Tomato Salsa, [Fajita Vegetables, Rice, Cheese, Sour Cream, Guacamole, Lettuce]][[Roasted Chili Corn Salsa (Medium), Fresh Tomato Salsa (Mild)], [Rice, Fajita Veggies]][Fresh Tomato (Mild), [Lettuce, Fajita Veggies, Pinto Beans, Rice, Sour Cream, Cheese]][Tomatillo-Red Chili Salsa (Hot), [Pinto Beans, Rice, Fajita Veggies, Cheese, Sour Cream, Guacamole]][[Tomatillo-Green Chili Salsa (Medium), Tomatillo-Red Chili Salsa (Hot)], [Pinto Beans, Rice, Fajita Veggies, Cheese, Sour Cream, Guacamole]][Fresh Tomato Salsa, [Fajita Vegetables, Rice, Black Beans, Sour Cream, Guacamole, Lettuce]][Roasted Chili Corn Salsa, [Fajita Vegetables, Rice, Black Beans, Guacamole]][[Roasted Chili Corn Salsa (Medium), Fresh Tomato Salsa (Mild)], [Rice, Black Beans, Fajita Veggies, Guacamole]][[Roasted Chili Corn Salsa (Medium), Tomatillo-Red Chili Salsa (Hot), Fresh Tomato Salsa (Mild)], [Rice, Pinto Beans, Fajita Veggies, Cheese, Sour Cream, Lettuce]][Fresh Tomato Salsa, [Fajita Vegetables, Rice, Cheese, Sour Cream, Lettuce]][Roasted Chili Corn Salsa, [Rice, Black Beans, Cheese, Sour Cream, Lettuce]][Fresh Tomato Salsa, [Rice, Black Beans, Sour Cream]][Roasted Chili Corn Salsa, [Rice, Black Beans, Cheese, Sour Cream, Guacamole, Lettuce]][Tomatillo-Red Chili Salsa (Hot), [Black Beans, Rice, Cheese, Lettuce]][Fresh Tomato Salsa, [Guacamole, Lettuce, Rice, Cheese, Sour Cream, Black Beans]][Fresh Tomato Salsa, [Rice, Fajita Vegetables]][[Fresh Tomato Salsa (Mild), Roasted Chili Corn Salsa (Medium)], [Black Beans, Rice, Cheese, Sour Cream, Lettuce]][Fresh Tomato Salsa, [Rice, Black Beans, Cheese]][[Fresh Tomato Salsa (Mild), Tomatillo-Red Chili Salsa (Hot)], [Black Beans, Rice, Cheese, Sour Cream, Guacamole]][Fresh Tomato Salsa (Mild), [Black Beans, Rice, Fajita Veggies, Guacamole, Lettuce]][Fresh Tomato Salsa, [Rice, Black Beans, Cheese, Sour Cream, Guacamole, Lettuce]][Tomatillo Green Chili Salsa, [Fajita Vegetables, Rice]][Roasted Chili Corn Salsa, [Rice, Black Beans, Sour Cream, Cheese, Guacamole]][Tomatillo Red Chili Salsa, [Rice, Black Beans, Cheese, Sour Cream, Guacamole, Lettuce]][Roasted Chili Corn Salsa, [Rice, Black Beans, Cheese, Sour Cream, Guacamole, Lettuce]][Roasted Chili Corn Salsa (Medium), [Pinto Beans, Black Beans, Rice, Fajita Veggies, Cheese, Lettuce]][Tomatillo-Red Chili Salsa (Hot), [Pinto Beans, Black Beans, Rice, Fajita Veggies, Cheese, Sour Cream, Lettuce]][Fresh Tomato Salsa, [Rice, Pinto Beans, Sour Cream, Cheese, Lettuce]][Fresh Tomato Salsa, [Fajita Vegetables, Rice, Black Beans, Cheese, Guacamole, Lettuce]][Roasted Chili Corn Salsa, [Rice, Black Beans, Cheese, Guacamole, Lettuce]][Tomatillo-Red Chili Salsa (Hot), [Rice, Pinto Beans, Fajita Veggies, Cheese, Sour Cream, Guacamole]][Roasted Chili Corn Salsa, [Rice, Black Beans, Cheese, Sour Cream, Lettuce]][Tomatillo-Red Chili Salsa (Hot), [Pinto Beans, Rice, Cheese, Sour Cream, Lettuce]][Tomatillo Green Chili Salsa, [Rice, Fajita Vegetables, Black Beans, Sour Cream, Cheese, Lettuce]][Fresh Tomato Salsa, [Rice, Cheese, Sour Cream]][Tomatillo Red Chili Salsa, [Rice, Black Beans, Sour Cream, Cheese, Lettuce, Guacamole]][Fresh Tomato Salsa, [Fajita Vegetables, Rice, Pinto Beans, Cheese, Sour Cream, Guacamole, Lettuce]][Fresh Tomato Salsa, Cheese][Fresh Tomato Salsa, [Fajita Vegetables, Rice, Black Beans, Cheese, Sour Cream, Lettuce]][Fresh Tomato Salsa, [Rice, Cheese, Sour Cream]][Tomatillo Red Chili Salsa, [Fajita Vegetables, Rice, Black Beans, Cheese, Sour Cream, Guacamole, Lettuce]][Fresh Tomato Salsa, [Fajita Vegetables, Rice, Black Beans, Cheese, Sour Cream, Guacamole, Lettuce]][[Tomatillo-Green Chili Salsa (Medium), Roasted Chili Corn Salsa (Medium)], [Rice, Fajita Veggies, Guacamole, Lettuce]][Tomatillo Green Chili Salsa, [Rice, Black Beans, Cheese, Sour Cream]][Fresh Tomato Salsa, [Rice, Fajita Vegetables, Pinto Beans, Cheese, Lettuce, Guacamole]][Fresh Tomato Salsa, [Rice, Black Beans, Cheese, Sour Cream]][Fresh Tomato Salsa, [Fajita Vegetables, Rice, Black Beans, Cheese]][Fresh Tomato Salsa, [Rice, Black Beans, Cheese, Lettuce]][Fresh Tomato Salsa, [Rice, Fajita Vegetables, Black Beans, Cheese, Lettuce]][Fresh Tomato Salsa, [Rice, Black Beans, Cheese, Lettuce, Guacamole]][Tomatillo-Red Chili Salsa (Hot), [Black Beans, Rice, Cheese, Lettuce]][Fresh Tomato Salsa, [Fajita Vegetables, Rice]][Fresh Tomato Salsa, [Rice, Cheese, Lettuce]][Fresh Tomato Salsa, [Rice, Black Beans, Fajita Vegetables, Lettuce, Cheese, Sour Cream]][[Roasted Chili Corn Salsa (Medium), Fresh Tomato Salsa (Mild)], [Rice, Fajita Veggies]][Tomatillo Green Chili Salsa, [Rice, Black Beans, Guacamole, Lettuce]][Fresh Tomato Salsa, [Rice, Black Beans, Cheese, Sour Cream]][Fresh Tomato Salsa, [Fajita Vegetables, Rice, Black Beans, Sour Cream, Guacamole, Lettuce]][Fresh Tomato Salsa, [Fajita Vegetables, Rice, Black Beans, Pinto Beans, Cheese, Sour Cream, Guacamole, Lettuce]][Fresh Tomato Salsa, [Fajita Vegetables, Rice, Black Beans, Cheese, Sour Cream, Guacamole, Lettuce]][[Fresh Tomato Salsa (Mild), Tomatillo-Green Chili Salsa (Medium), Roasted Chili Corn Salsa (Medium), Tomatillo-Red Chili Salsa (Hot)], [Black Beans, Rice, Fajita Veggies, Cheese, Sour Cream]][Tomatillo-Green Chili Salsa (Medium), [Rice, Cheese, Sour Cream, Lettuce]][Roasted Chili Corn Salsa, [Rice, Black Beans, Cheese, Sour Cream, Lettuce]][Roasted Chili Corn Salsa, [Rice, Black Beans, Sour Cream, Cheese, Guacamole]][Fresh Tomato Salsa, [Fajita Vegetables, Rice, Pinto Beans, Cheese, Sour Cream, Guacamole, Lettuce]][Tomatillo Green Chili Salsa, [Rice, Fajita Vegetables, Black Beans, Sour Cream, Cheese, Lettuce]][Fresh Tomato Salsa, [Rice, Pinto Beans, Cheese, Lettuce]][Roasted Chili Corn Salsa, [Rice, Black Beans, Guacamole, Lettuce]][Roasted Chili Corn Salsa, [Fajita Vegetables, Rice, Pinto Beans, Cheese, Sour Cream, Lettuce]][Fresh Tomato Salsa, [Rice, Black Beans, Cheese, Sour Cream, Guacamole, Lettuce]][Fresh Tomato Salsa (Mild), [Black Beans, Rice, Cheese]][Roasted Chili Corn Salsa (Medium), [Black Beans, Rice, Fajita Veggies, Cheese, Sour Cream]][Fresh Tomato Salsa (Mild), [Black Beans, Rice, Sour Cream, Guacamole]][[Fresh Tomato Salsa (Mild), Roasted Chili Corn Salsa (Medium)], [Black Beans, Rice, Cheese, Sour Cream, Lettuce]][Roasted Chili Corn Salsa, [Fajita Vegetables, Rice, Cheese, Sour Cream, Lettuce]][Fresh Tomato Salsa, [Rice, Cheese, Sour Cream]][Fresh Tomato Salsa, [Rice, Cheese, Lettuce]][Fresh Tomato Salsa, [Fajita Vegetables, Rice, Sour Cream, Guacamole, Lettuce]][Fresh Tomato Salsa, [Fajita Vegetables, Rice, Cheese, Sour Cream, Guacamole, Lettuce]][Fresh Tomato Salsa, [Fajita Vegetables, Rice, Cheese, Sour Cream, Guacamole, Lettuce]][Tomatillo Red Chili Salsa, [Rice, Cheese, Lettuce]][Tomatillo Green Chili Salsa, [Rice, Pinto Beans, Sour Cream, Lettuce]][Fresh Tomato Salsa, [Fajita Vegetables, Rice, Lettuce]][Fresh Tomato Salsa, [Rice, Black Beans, Cheese, Sour Cream, Guacamole, Lettuce]][Fresh Tomato Salsa, [Fajita Vegetables, Rice, Black Beans, Cheese, Guacamole, Lettuce]][Fresh Tomato Salsa, [Guacamole, Sour Cream, Cheese, Rice, Fajita Vegetables]][Fresh Tomato Salsa, [Rice, Black Beans, Cheese, Sour Cream, Guacamole, Lettuce]][Tomatillo Red Chili Salsa, [Rice, Black Beans, Pinto Beans, Cheese, Sour Cream, Lettuce]][Tomatillo Red Chili Salsa, [Rice, Black Beans, Cheese, Sour Cream, Lettuce]][Fresh Tomato Salsa, [Rice, Cheese, Sour Cream, Guacamole]][Fresh Tomato Salsa, [Rice, Black Beans, Lettuce, Guacamole]][Tomatillo Green Chili Salsa, [Rice, Black Beans, Cheese, Sour Cream, Guacamole, Lettuce]][Fresh Tomato Salsa, [Rice, Black Beans, Pinto Beans, Cheese, Sour Cream]][Tomatillo Red Chili Salsa, [Rice, Black Beans, Cheese, Sour Cream, Lettuce]][Roasted Chili Corn Salsa, [Fajita Vegetables, Rice, Black Beans, Sour Cream, Lettuce]][Fresh Tomato Salsa, [Fajita Vegetables, Rice]][Fresh Tomato Salsa, [Fajita Vegetables, Rice, Lettuce]][Tomatillo Green Chili Salsa, [Fajita Vegetables, Rice, Black Beans, Cheese, Lettuce]][Fresh Tomato Salsa, [Rice, Black Beans, Sour Cream, Cheese]][White Rice][White Rice][Tomatillo Red Chili Salsa, [Rice, Black Beans, Cheese, Sour Cream, Lettuce]][Tomatillo Green Chili Salsa, [Rice, Pinto Beans, Sour Cream, Lettuce]][Fresh Tomato Salsa, [Fajita Vegetables, Rice, Cheese, Guacamole]][Fresh Tomato Salsa, [Rice, Black Beans, Cheese, Guacamole, Lettuce]][Fresh Tomato Salsa, [Pinto Beans, Rice, Lettuce, Cheese]][Fresh Tomato Salsa, [Rice, Black Beans, Cheese, Sour Cream, Lettuce]][Fresh Tomato Salsa, [Fajita Vegetables, Rice, Black Beans, Sour Cream, Lettuce]][Roasted Chili Corn Salsa, [Fajita Vegetables, Rice, Black Beans, Cheese, Guacamole]][Fresh Tomato Salsa, [Fajita Vegetables, Black Beans, Pinto Beans, Guacamole, Lettuce]][Tomatillo Red Chili Salsa, [Rice, Black Beans, Cheese, Guacamole]][Fresh Tomato Salsa, [Guacamole, Lettuce]][Tomatillo Red Chili Salsa, [Fajita Vegetables, Rice, Black Beans, Cheese, Sour Cream]][Fresh Tomato Salsa, [Rice, Black Beans, Cheese, Guacamole, Lettuce]][Fresh Tomato Salsa, [Rice, Black Beans, Cheese, Lettuce]][Roasted Chili Corn Salsa, [Rice, Pinto Beans, Sour Cream, Cheese, Guacamole]][Roasted Chili Corn Salsa, [Rice, Black Beans, Guacamole]][Fresh Tomato Salsa, [Pinto Beans, Rice, Cheese, Lettuce, Guacamole, Sour Cream, Fajita Vegetables]][Fresh Tomato Salsa, [Rice, Black Beans, Guacamole, Lettuce]][Fresh Tomato Salsa, [Rice, Cheese, Sour Cream, Lettuce]][Tomatillo Green Chili Salsa, [Fajita Vegetables, Black Beans, Sour Cream, Lettuce]][Fresh Tomato Salsa, [Fajita Vegetables, Rice, Black Beans, Pinto Beans, Cheese, Sour Cream]][Fresh Tomato Salsa, [Black Beans, Rice, Sour Cream, Cheese, Guacamole, Lettuce]][Fresh Tomato Salsa, [Rice, Black Beans, Pinto Beans, Cheese]][Fresh Tomato Salsa, [Rice, Black Beans, Pinto Beans, Cheese, Sour Cream, Guacamole]][Fresh Tomato Salsa, [Rice, Black Beans, Cheese]][Fresh Tomato Salsa, [Fajita Vegetables, Rice, Black Beans, Guacamole, Lettuce]][Tomatillo Green Chili Salsa, [Rice, Pinto Beans, Sour Cream, Lettuce]][Fresh Tomato Salsa, [Rice, Fajita Vegetables, Black Beans, Sour Cream, Cheese, Lettuce, Guacamole]][Fresh Tomato Salsa, [Rice, Black Beans, Cheese, Sour Cream, Guacamole]][Fresh Tomato Salsa, [Rice, Pinto Beans, Cheese, Lettuce]][Fresh Tomato Salsa, [Rice, Black Beans, Cheese, Sour Cream, Lettuce]][Tomatillo Green Chili Salsa, [Rice, Pinto Beans, Cheese, Sour Cream, Lettuce]][Fresh Tomato Salsa, [Rice, Black Beans, Sour Cream]][Fresh Tomato Salsa, [Rice, Black Beans, Cheese]][Fresh Tomato Salsa, Rice][Fresh Tomato Salsa, [Rice, Pinto Beans, Cheese, Sour Cream, Guacamole, Lettuce]][Fresh Tomato Salsa, [Fajita Vegetables, Rice, Black Beans, Cheese, Sour Cream, Guacamole, Lettuce]][Fresh Tomato Salsa, [Rice, Black Beans, Cheese, Sour Cream, Guacamole, Lettuce]][Fresh Tomato Salsa, [Fajita Vegetables, Rice, Sour Cream, Lettuce]][Fresh Tomato Salsa, [Rice, Pinto Beans, Sour Cream, Cheese, Lettuce, Guacamole]][Tomatillo Green Chili Salsa, [Fajita Vegetables, Rice, Sour Cream, Guacamole]][Fresh Tomato Salsa, [Rice, Cheese, Sour Cream, Guacamole]][Roasted Chili Corn Salsa, [Rice, Fajita Vegetables, Cheese, Lettuce]][Roasted Chili Corn Salsa, [Rice, Black Beans, Cheese, Sour Cream, Lettuce]][Fresh Tomato Salsa, [Rice, Black Beans, Cheese, Sour Cream]][Tomatillo Green Chili Salsa, [Fajita Vegetables, Rice, Pinto Beans, Cheese, Guacamole, Lettuce]][Roasted Chili Corn Salsa, [Black Beans, Sour Cream, Cheese, Guacamole]][Roasted Chili Corn Salsa, [Fajita Vegetables, Rice, Cheese, Sour Cream, Lettuce]][Fresh Tomato Salsa, [Fajita Vegetables, Rice, Pinto Beans, Cheese, Guacamole, Lettuce]][Roasted Chili Corn Salsa, [Rice, Cheese, Lettuce]][Fresh Tomato Salsa, [Rice, Cheese, Sour Cream, Guacamole]][Tomatillo Red Chili Salsa, [Rice, Black Beans, Pinto Beans, Cheese, Sour Cream, Lettuce]][Tomatillo Green Chili Salsa, [Rice, Black Beans, Sour Cream, Lettuce]][Fresh Tomato Salsa, [Rice, Black Beans, Cheese, Sour Cream, Guacamole, Lettuce]][Fresh Tomato Salsa, [Rice, Black Beans, Cheese, Sour Cream, Guacamole]][Fresh Tomato Salsa, [Rice, Black Beans, Sour Cream, Cheese, Lettuce, Guacamole]][Roasted Chili Corn Salsa, [Rice, Black Beans, Cheese, Lettuce, Guacamole]][Tomatillo Red Chili Salsa, [Rice, Black Beans, Sour Cream, Cheese, Lettuce]][Tomatillo Green Chili Salsa, [Rice, Black Beans]][Roasted Chili Corn Salsa, [Cheese, Lettuce]][Fresh Tomato Salsa, [Rice, Black Beans, Cheese, Sour Cream]]",
         "$16.98 $10.98 $11.25 $8.75 $8.49 $11.25 $8.75 $8.75 $8.75 $8.75 $11.25 $11.25 $11.25 $11.25 $17.50 $8.49 $10.98 $8.75 $8.75 $10.98 $8.75 $11.25 $11.25 $8.75 $8.75 $8.75 $8.75 $8.75 $8.75 $17.50 $8.75 $11.25 $11.25 $8.49 $11.25 $8.75 $8.75 $8.75 $8.75 $8.49 $8.75 $11.25 $11.25 $32.94 $11.25 $17.50 $8.75 $8.75 $11.25 $8.75 $8.49 $8.75 $8.75 $8.75 $11.25 $8.75 $8.75 $11.25 $11.25 $8.49 $8.75 $8.75 $8.75 $11.25 $10.98 $8.75 $11.25 $8.49 $8.75 $8.75 $8.75 $8.75 $8.49 $17.50 $8.49 $11.25 $11.25 $11.25 $11.25 $8.75 $8.75 $11.25 $8.49 $8.49 $8.75 $8.75 $8.75 $10.98 $8.75 $8.75 $10.98 $8.75 $11.25 $11.25 $8.75 $11.25 $11.25 $8.75 $8.49 $10.98 $8.75 $11.25 $8.75 $8.75 $8.75 $8.75 $8.49 $8.49 $8.75 $8.75 $11.25 $17.50 $8.75 $8.75 $8.75 $11.25 $11.25 $8.49 $10.98 $8.49 $8.49 $8.75 $8.75 $17.50 $8.75 $8.75 $8.75 $8.49 $8.75 $8.49 $11.25 $8.75 $8.75 $11.25 $17.50 $8.75 $8.75 $8.75 $11.25 $8.75 $8.75 $8.75 $8.49 $8.75 $11.25 $11.25 $8.75 $11.25 $11.25 $10.98 $10.98 $11.25 $11.25 $8.75 $8.75 $8.75 $11.25 $10.98 $8.75 $11.25 $8.75 $8.49 $8.49 $8.75 $8.75 $8.75 $8.75 $11.25 $8.75 $8.75 $10.98 $11.25 $8.49 $8.75 $8.75 $11.25 $22.50 $8.49 $8.75 $11.25 $8.49 $10.98 $8.75 $11.25 $8.75 $11.25 $8.75 $8.75 $8.75 $26.25 $8.75 $8.75 $11.25 $11.25 $8.49 $8.49 $8.49 $8.75 $8.75 $11.25 $11.25 $8.75 $8.75 $8.75 $8.75 $17.50 $11.25 $11.25 $8.75 $8.75 $11.25 $8.75 $8.49 $8.49 $11.25 $8.75 $8.49 $8.49 $8.49 $8.49 $8.75 $11.25 $11.25 $8.75 $8.49 $11.25 $8.49 $8.49 $11.25 $11.25 $10.98 $8.75 $8.75 $8.49 $8.75 $8.49 $8.49 $8.49 $8.75 $8.49 $10.98 $8.75 $11.25 $8.49 $8.75 $8.49 $11.25 $8.49 $8.75 $8.75 $21.96 $8.49 $8.75 $8.75 $8.75 $8.49 $8.49 $11.25 $8.75 $11.25 $8.75 $8.75 $8.49 $8.75 $8.75 $8.75 $8.49 $10.98 $8.75 $11.25 $8.49 $10.98 $10.98 $8.75 $10.98 $11.25 $11.25 $11.25 $11.25 $11.25 $8.75 $8.75 $8.49 $11.25 $8.75 $11.25 $11.25 $11.25 $8.75 $10.98 $10.98 $8.75 $8.49 $11.25 $8.75 $21.96 $8.75 $8.75 $17.50 $11.25 $8.75 $10.98 $8.49 $11.25 $8.75 $10.98 $8.75 $8.75 $8.75 $11.25 $8.75 $11.25 $8.75 $8.75 $8.75 $8.75 $11.25 $8.75 $11.25 $8.75 $8.75 $8.75 $8.75 $8.75 $8.75 $8.75 $8.75 $8.75 $8.75 $8.75 $8.75 $8.75 $8.75 $8.75 $8.75 $8.75 $11.25 $11.25 $8.75 $16.98 $8.75 $11.25 $8.75 $10.98 $8.75 $11.25 $8.75 $8.49 $8.75 $11.25 $8.75 $8.75 $8.75 $8.49 $11.25 $11.25 $8.49 $8.75 $8.75 $8.75 $8.75 $11.25 $8.75 $11.25 $10.98 $8.49 $8.75 $8.75 $8.49 $11.25 $8.75 $11.25 $22.50 $8.49 $11.25 $21.96 $8.75 $8.75 $8.49 $8.49 $11.25 $11.25 $11.25 $8.75 $11.25 $16.98 $10.98 $8.75 $8.75 $8.75 $11.25 $11.25 $11.25 $10.98 $11.25 $8.49 $8.75 $11.25 $8.75 $11.25 $8.75 $11.25 $10.98 $8.75 $8.75 $8.75 $8.75 $11.25 $11.25 $11.25 $8.75 $11.25 $8.75 $8.75 $11.25 $10.98 $16.98 $8.75 $11.25 $8.75 $8.75 $8.75 $11.25 $8.49 $10.98 $8.75 $8.75 $11.25 $8.75 $8.75 $8.75 $11.25 $11.25 $8.19 $10.58 $11.25 $8.75 $8.75 $21.96 $8.49 $8.49 $8.75 $11.25 $11.25 $8.49 $8.49 $8.49 $8.75 $11.25 $11.25 $11.25 $8.49 $11.25 $11.25 $8.75 $8.49 $8.49 $8.75 $11.25 $8.75 $8.49 $8.49 $11.25 $11.25 $11.25 $11.25 $11.25 $11.25 $8.49 $16.98 $8.49 $11.25 $8.19 $8.49 $8.75 $16.98 $21.96 $8.75 $11.25 $8.75 $8.49 $8.49 $8.49 $8.75 $8.75 $11.25 $8.75 $8.75 $11.25 $11.25 $8.49 $11.25 $8.49 $11.25 $11.25 $11.25 $8.75 $8.49 $8.49 $8.75 $11.25 $11.25 $8.75 $8.75 $11.25 $11.25 $8.75 $8.75 $8.75 $11.25 $8.75 $8.75 $8.75 $8.75 $8.75 $8.49 $8.49 $11.25 $8.49 $8.75 $11.25 $10.98 $8.49 $8.75 $17.50 $8.49 $8.75 $11.25 $11.25 $11.25 $11.25 $8.75 $8.75 $11.25 $11.25 $11.25 $8.75 $11.25 $8.75 $8.75 $8.49 $10.98 $21.96 $10.98 $8.49 $8.75 $11.25 $11.25 $8.75 $8.75 $8.75 $8.75 $8.49 $8.75 $10.98 $11.25 $10.98 $16.98 $16.98 $11.25 $11.25 $11.25 $11.25 $11.25 $11.25 $16.98 $8.19 $10.98 $10.98 $11.25 $11.25 $10.98 $8.49 $8.75 $8.75 $8.75 $11.25 $8.49 $11.25 $8.75 $8.49 $8.75 $10.98 $10.98 $11.25 $8.75 $11.25 $11.25 $11.25 $8.49 $8.49 $8.75 $11.25 $11.25 $21.96 $8.75 $8.49 $8.75 $8.75 $11.25 $11.25 $8.75 $8.75 $8.75 $11.25 $11.25 $10.98 $8.75 $11.25 $8.75 $8.75 $8.75 $8.75 $11.25 $8.49 $8.75 $8.75 $8.75 $16.98 $11.25 $8.75 $11.25 $11.25 $11.25 $8.49 $8.49 $8.75 $11.25 $11.25 $8.75 $8.75 $11.25 $8.75 $11.25 $8.49 $8.49 $10.98 $8.49 $8.75 $8.75 $8.75 $11.25 $11.25 $11.25 $8.75 $8.75 $8.75 $11.25 $11.25 $11.25 $11.25 $8.75 $8.75 $11.25 $11.25 $11.25 $8.75 $8.75 $8.75 $8.75 $8.75 $8.75 $8.75 $8.50 $8.50 $8.75 $8.75 $11.25 $11.25 $8.75 $8.75 $8.75 $11.25 $11.25 $11.25 $11.25 $8.75 $11.25 $8.75 $11.25 $11.25 $11.25 $11.25 $8.75 $8.75 $8.75 $11.25 $8.75 $11.25 $8.75 $11.25 $8.75 $22.50 $11.25 $17.50 $8.75 $8.75 $8.75 $8.75 $8.75 $11.25 $11.25 $11.25 $8.75 $11.25 $11.25 $11.25 $8.75 $8.75 $8.75 $11.25 $11.25 $8.75 $11.25 $8.75 $11.25 $8.75 $8.75 $11.25 $11.25 $11.25 $11.25 $8.75 $8.75 $8.75 $8.75 "
        ]
       ],
       "shape": {
        "columns": 4,
        "rows": 1
       }
      },
      "text/html": [
       "<div>\n",
       "<style scoped>\n",
       "    .dataframe tbody tr th:only-of-type {\n",
       "        vertical-align: middle;\n",
       "    }\n",
       "\n",
       "    .dataframe tbody tr th {\n",
       "        vertical-align: top;\n",
       "    }\n",
       "\n",
       "    .dataframe thead th {\n",
       "        text-align: right;\n",
       "    }\n",
       "</style>\n",
       "<table border=\"1\" class=\"dataframe\">\n",
       "  <thead>\n",
       "    <tr style=\"text-align: right;\">\n",
       "      <th></th>\n",
       "      <th>order_id</th>\n",
       "      <th>quantity</th>\n",
       "      <th>choice_description</th>\n",
       "      <th>item_price</th>\n",
       "    </tr>\n",
       "    <tr>\n",
       "      <th>item_name</th>\n",
       "      <th></th>\n",
       "      <th></th>\n",
       "      <th></th>\n",
       "      <th></th>\n",
       "    </tr>\n",
       "  </thead>\n",
       "  <tbody>\n",
       "    <tr>\n",
       "      <th>Chicken Bowl</th>\n",
       "      <td>713926</td>\n",
       "      <td>761</td>\n",
       "      <td>[Tomatillo-Red Chili Salsa (Hot), [Black Beans...</td>\n",
       "      <td>$16.98 $10.98 $11.25 $8.75 $8.49 $11.25 $8.75 ...</td>\n",
       "    </tr>\n",
       "  </tbody>\n",
       "</table>\n",
       "</div>"
      ],
      "text/plain": [
       "              order_id  quantity  \\\n",
       "item_name                          \n",
       "Chicken Bowl    713926       761   \n",
       "\n",
       "                                             choice_description  \\\n",
       "item_name                                                         \n",
       "Chicken Bowl  [Tomatillo-Red Chili Salsa (Hot), [Black Beans...   \n",
       "\n",
       "                                                     item_price  \n",
       "item_name                                                        \n",
       "Chicken Bowl  $16.98 $10.98 $11.25 $8.75 $8.49 $11.25 $8.75 ...  "
      ]
     },
     "execution_count": 29,
     "metadata": {},
     "output_type": "execute_result"
    }
   ],
   "source": [
    "#Step 10. For the most-ordered item, how many items were ordered?\n",
    "c = chipo.groupby('item_name').sum()\n",
    "c = c.sort_values(by='quantity', ascending=False)\n",
    "c.head(1)"
   ]
  },
  {
   "cell_type": "code",
   "execution_count": 30,
   "id": "a17f4214",
   "metadata": {},
   "outputs": [
    {
     "data": {
      "application/vnd.microsoft.datawrangler.viewer.v0+json": {
       "columns": [
        {
         "name": "choice_description",
         "rawType": "object",
         "type": "string"
        },
        {
         "name": "order_id",
         "rawType": "int64",
         "type": "integer"
        },
        {
         "name": "quantity",
         "rawType": "int64",
         "type": "integer"
        },
        {
         "name": "item_name",
         "rawType": "object",
         "type": "string"
        },
        {
         "name": "item_price",
         "rawType": "object",
         "type": "string"
        }
       ],
       "ref": "51327a9f-2da0-4890-adf7-183f0d7ce1e3",
       "rows": [
        [
         "[Diet Coke]",
         "123455",
         "159",
         "Canned SodaCanned SodaCanned Soda6 Pack Soft DrinkCanned SodaCanned Soft DrinkCanned Soda6 Pack Soft Drink6 Pack Soft DrinkCanned Soft DrinkCanned Soft DrinkCanned Soft Drink6 Pack Soft DrinkCanned Soft DrinkCanned Soft DrinkCanned Soft Drink6 Pack Soft DrinkCanned Soft DrinkCanned Soft DrinkCanned Soft DrinkCanned SodaCanned Soft DrinkCanned Soft DrinkCanned Soft DrinkCanned Soft DrinkCanned Soft DrinkCanned Soft DrinkCanned Soft DrinkCanned Soft DrinkCanned Soft DrinkCanned Soft DrinkCanned Soft DrinkCanned Soft DrinkCanned Soft DrinkCanned SodaCanned Soft DrinkCanned Soft DrinkCanned Soft DrinkCanned Soft DrinkCanned Soft DrinkCanned Soft Drink6 Pack Soft DrinkCanned Soft DrinkCanned Soft DrinkCanned Soft DrinkCanned Soft DrinkCanned Soft DrinkCanned Soft DrinkCanned Soft DrinkCanned Soft DrinkCanned Soft DrinkCanned Soft DrinkCanned Soft DrinkCanned SodaCanned Soft Drink6 Pack Soft DrinkCanned Soft DrinkCanned Soft DrinkCanned Soft Drink6 Pack Soft DrinkCanned Soft Drink6 Pack Soft Drink6 Pack Soft DrinkCanned Soda6 Pack Soft DrinkCanned Soft DrinkCanned Soft DrinkCanned Soft DrinkCanned SodaCanned Soft DrinkCanned Soft DrinkCanned Soft DrinkCanned Soft DrinkCanned Soft DrinkCanned Soft DrinkCanned SodaCanned Soft DrinkCanned Soft DrinkCanned Soft DrinkCanned Soft DrinkCanned Soft Drink6 Pack Soft DrinkCanned SodaCanned Soft Drink6 Pack Soft DrinkCanned Soft DrinkCanned Soft Drink6 Pack Soft DrinkCanned Soft DrinkCanned Soft DrinkCanned Soft Drink6 Pack Soft DrinkCanned Soft DrinkCanned Soft DrinkCanned Soft DrinkCanned Soft DrinkCanned Soft DrinkCanned Soft DrinkCanned Soft Drink6 Pack Soft DrinkCanned Soft DrinkCanned Soft DrinkCanned Soft DrinkCanned Soft DrinkCanned SodaCanned Soft Drink6 Pack Soft DrinkCanned Soft DrinkCanned Soft DrinkCanned Soft Drink6 Pack Soft DrinkCanned Soda6 Pack Soft Drink6 Pack Soft DrinkCanned SodaCanned Soft DrinkCanned Soft DrinkCanned Soft Drink6 Pack Soft DrinkCanned Soft DrinkCanned Soft DrinkCanned Soft DrinkCanned Soft Drink6 Pack Soft DrinkCanned Soft DrinkCanned Soft DrinkCanned Soft DrinkCanned Soft Drink6 Pack Soft Drink6 Pack Soft DrinkCanned Soft DrinkCanned Soft DrinkCanned Soft DrinkCanned Soft Drink",
         "$2.18 $1.09 $1.09 $6.49 $2.18 $1.25 $1.09 $6.49 $6.49 $2.50 $1.25 $1.25 $6.49 $1.25 $1.25 $1.25 $6.49 $3.75 $1.25 $1.25 $1.09 $1.25 $1.25 $1.25 $1.25 $1.25 $1.25 $1.25 $1.25 $1.25 $1.25 $1.25 $1.25 $1.25 $1.09 $1.25 $1.25 $1.25 $1.25 $1.25 $1.25 $6.49 $1.25 $1.25 $2.50 $1.25 $1.25 $1.25 $1.25 $1.25 $1.25 $1.25 $1.25 $1.09 $1.25 $6.49 $2.50 $1.25 $1.25 $6.49 $2.50 $6.49 $6.49 $1.09 $6.49 $1.25 $1.25 $1.25 $2.18 $1.25 $1.25 $1.25 $1.25 $1.25 $1.25 $1.09 $1.25 $1.25 $1.25 $1.25 $2.50 $6.49 $1.09 $1.25 $6.49 $1.25 $1.25 $6.49 $2.50 $3.75 $3.75 $6.49 $2.50 $1.25 $2.50 $1.25 $1.25 $1.25 $1.25 $12.98 $2.50 $1.25 $1.25 $1.25 $2.18 $2.50 $6.49 $2.50 $1.25 $1.25 $6.49 $1.09 $6.49 $6.49 $1.09 $2.50 $1.25 $3.75 $6.49 $1.25 $1.25 $1.25 $1.25 $6.49 $1.25 $1.25 $1.25 $1.25 $6.49 $6.49 $1.25 $1.25 $1.25 $1.25 "
        ]
       ],
       "shape": {
        "columns": 4,
        "rows": 1
       }
      },
      "text/html": [
       "<div>\n",
       "<style scoped>\n",
       "    .dataframe tbody tr th:only-of-type {\n",
       "        vertical-align: middle;\n",
       "    }\n",
       "\n",
       "    .dataframe tbody tr th {\n",
       "        vertical-align: top;\n",
       "    }\n",
       "\n",
       "    .dataframe thead th {\n",
       "        text-align: right;\n",
       "    }\n",
       "</style>\n",
       "<table border=\"1\" class=\"dataframe\">\n",
       "  <thead>\n",
       "    <tr style=\"text-align: right;\">\n",
       "      <th></th>\n",
       "      <th>order_id</th>\n",
       "      <th>quantity</th>\n",
       "      <th>item_name</th>\n",
       "      <th>item_price</th>\n",
       "    </tr>\n",
       "    <tr>\n",
       "      <th>choice_description</th>\n",
       "      <th></th>\n",
       "      <th></th>\n",
       "      <th></th>\n",
       "      <th></th>\n",
       "    </tr>\n",
       "  </thead>\n",
       "  <tbody>\n",
       "    <tr>\n",
       "      <th>[Diet Coke]</th>\n",
       "      <td>123455</td>\n",
       "      <td>159</td>\n",
       "      <td>Canned SodaCanned SodaCanned Soda6 Pack Soft D...</td>\n",
       "      <td>$2.18 $1.09 $1.09 $6.49 $2.18 $1.25 $1.09 $6.4...</td>\n",
       "    </tr>\n",
       "  </tbody>\n",
       "</table>\n",
       "</div>"
      ],
      "text/plain": [
       "                    order_id  quantity  \\\n",
       "choice_description                       \n",
       "[Diet Coke]           123455       159   \n",
       "\n",
       "                                                            item_name  \\\n",
       "choice_description                                                      \n",
       "[Diet Coke]         Canned SodaCanned SodaCanned Soda6 Pack Soft D...   \n",
       "\n",
       "                                                           item_price  \n",
       "choice_description                                                     \n",
       "[Diet Coke]         $2.18 $1.09 $1.09 $6.49 $2.18 $1.25 $1.09 $6.4...  "
      ]
     },
     "execution_count": 30,
     "metadata": {},
     "output_type": "execute_result"
    }
   ],
   "source": [
    "#What was the most ordered item in the choice_description column?\n",
    "c = chipo.groupby(\"choice_description\").sum()\n",
    "c = c.sort_values([\"quantity\"], ascending=False)\n",
    "c.head(1)"
   ]
  },
  {
   "cell_type": "code",
   "execution_count": 31,
   "id": "a19a185e",
   "metadata": {},
   "outputs": [
    {
     "name": "stdout",
     "output_type": "stream",
     "text": [
      "4972\n"
     ]
    }
   ],
   "source": [
    "#How many items were orderd in total?\n",
    "total_items_ordered = chipo['quantity'].sum()\n",
    "print(total_items_ordered)"
   ]
  },
  {
   "cell_type": "code",
   "execution_count": 32,
   "id": "d0a79fad",
   "metadata": {},
   "outputs": [
    {
     "name": "stdout",
     "output_type": "stream",
     "text": [
      "object\n"
     ]
    }
   ],
   "source": [
    "# Check the item price type\n",
    "print(chipo['item_price'].dtype)"
   ]
  },
  {
   "cell_type": "code",
   "execution_count": 34,
   "id": "ad99c452",
   "metadata": {},
   "outputs": [],
   "source": [
    "#Create a lambda function and change the type of item price\n",
    "dollerizer = lambda x: float(x[1:-1])\n",
    "chipo['item_price'] = chipo['item_price'].apply(dollerizer)"
   ]
  },
  {
   "cell_type": "code",
   "execution_count": 35,
   "id": "16005d17",
   "metadata": {},
   "outputs": [
    {
     "data": {
      "text/plain": [
       "dtype('float64')"
      ]
     },
     "execution_count": 35,
     "metadata": {},
     "output_type": "execute_result"
    }
   ],
   "source": [
    "#Check the item price type\n",
    "chipo.item_price.dtype"
   ]
  },
  {
   "cell_type": "code",
   "execution_count": 38,
   "id": "d4aea14a",
   "metadata": {},
   "outputs": [
    {
     "name": "stdout",
     "output_type": "stream",
     "text": [
      "the revenue was : $39237.02\n"
     ]
    }
   ],
   "source": [
    "#How much was the revenue for the period in the dataset?\n",
    "revenue = (chipo.quantity * chipo.item_price).sum()\n",
    "print(\"the revenue was : $\" + str(np.round(revenue, 2)))"
   ]
  },
  {
   "cell_type": "code",
   "execution_count": 39,
   "id": "318e8689",
   "metadata": {},
   "outputs": [
    {
     "data": {
      "text/plain": [
       "1834"
      ]
     },
     "execution_count": 39,
     "metadata": {},
     "output_type": "execute_result"
    }
   ],
   "source": [
    "#How many orders were made in the period?\n",
    "orders = chipo.order_id.value_counts().count()\n",
    "orders"
   ]
  },
  {
   "cell_type": "code",
   "execution_count": 42,
   "id": "45620931",
   "metadata": {},
   "outputs": [
    {
     "data": {
      "text/plain": [
       "21.39423118865867"
      ]
     },
     "execution_count": 42,
     "metadata": {},
     "output_type": "execute_result"
    }
   ],
   "source": [
    "#Step 16. What is the average revenue amount per order?\n",
    "chipo['revenue'] = chipo['quantity'] * chipo['item_price']\n",
    "order_grouped = chipo.groupby('order_id').sum(numeric_only=True)\n",
    "average_revenue_per_order = order_grouped['revenue'].mean()\n",
    "average_revenue_per_order"
   ]
  },
  {
   "cell_type": "code",
   "execution_count": 43,
   "id": "a3ae31f3",
   "metadata": {},
   "outputs": [
    {
     "data": {
      "text/plain": [
       "50"
      ]
     },
     "execution_count": 43,
     "metadata": {},
     "output_type": "execute_result"
    }
   ],
   "source": [
    "#How many different items are sold?\n",
    "chipo.item_name.value_counts().count()"
   ]
  }
 ],
 "metadata": {
  "kernelspec": {
   "display_name": "nazir_tutorial",
   "language": "python",
   "name": "python3"
  },
  "language_info": {
   "codemirror_mode": {
    "name": "ipython",
    "version": 3
   },
   "file_extension": ".py",
   "mimetype": "text/x-python",
   "name": "python",
   "nbconvert_exporter": "python",
   "pygments_lexer": "ipython3",
   "version": "3.10.15"
  }
 },
 "nbformat": 4,
 "nbformat_minor": 5
}
