{
 "cells": [
  {
   "cell_type": "markdown",
   "id": "42dd31ff",
   "metadata": {},
   "source": [
    "__Importing the necessary library and also generating our dataset from the internet__"
   ]
  },
  {
   "cell_type": "code",
   "execution_count": 2,
   "id": "482e4e81",
   "metadata": {},
   "outputs": [],
   "source": [
    "import pandas as pd \n",
    "url = 'https://raw.githubusercontent.com/justmarkham/DAT8/master/data/chipotle.tsv'\n"
   ]
  },
  {
   "cell_type": "code",
   "execution_count": 3,
   "id": "d67bfbea",
   "metadata": {},
   "outputs": [],
   "source": [
    "#assigning it to a variable called chipo\n",
    "chipo = pd.read_csv(url, sep = '\\t')"
   ]
  },
  {
   "cell_type": "code",
   "execution_count": 4,
   "id": "6492d922",
   "metadata": {},
   "outputs": [
    {
     "data": {
      "application/vnd.microsoft.datawrangler.viewer.v0+json": {
       "columns": [
        {
         "name": "index",
         "rawType": "int64",
         "type": "integer"
        },
        {
         "name": "order_id",
         "rawType": "int64",
         "type": "integer"
        },
        {
         "name": "quantity",
         "rawType": "int64",
         "type": "integer"
        },
        {
         "name": "item_name",
         "rawType": "object",
         "type": "string"
        },
        {
         "name": "choice_description",
         "rawType": "object",
         "type": "unknown"
        },
        {
         "name": "item_price",
         "rawType": "float64",
         "type": "float"
        }
       ],
       "ref": "8024ef6e-ef8e-40da-9a12-237ed55db270",
       "rows": [
        [
         "0",
         "1",
         "1",
         "Chips and Fresh Tomato Salsa",
         null,
         "2.39"
        ],
        [
         "1",
         "1",
         "1",
         "Izze",
         "[Clementine]",
         "3.39"
        ],
        [
         "2",
         "1",
         "1",
         "Nantucket Nectar",
         "[Apple]",
         "3.39"
        ],
        [
         "3",
         "1",
         "1",
         "Chips and Tomatillo-Green Chili Salsa",
         null,
         "2.39"
        ],
        [
         "5",
         "3",
         "1",
         "Chicken Bowl",
         "[Fresh Tomato Salsa (Mild), [Rice, Cheese, Sour Cream, Guacamole, Lettuce]]",
         "10.98"
        ],
        [
         "6",
         "3",
         "1",
         "Side of Chips",
         null,
         "1.69"
        ],
        [
         "7",
         "4",
         "1",
         "Steak Burrito",
         "[Tomatillo Red Chili Salsa, [Fajita Vegetables, Black Beans, Pinto Beans, Cheese, Sour Cream, Guacamole, Lettuce]]",
         "11.75"
        ],
        [
         "8",
         "4",
         "1",
         "Steak Soft Tacos",
         "[Tomatillo Green Chili Salsa, [Pinto Beans, Cheese, Sour Cream, Lettuce]]",
         "9.25"
        ],
        [
         "9",
         "5",
         "1",
         "Steak Burrito",
         "[Fresh Tomato Salsa, [Rice, Black Beans, Pinto Beans, Cheese, Sour Cream, Lettuce]]",
         "9.25"
        ],
        [
         "10",
         "5",
         "1",
         "Chips and Guacamole",
         null,
         "4.45"
        ],
        [
         "11",
         "6",
         "1",
         "Chicken Crispy Tacos",
         "[Roasted Chili Corn Salsa, [Fajita Vegetables, Rice, Black Beans, Cheese, Sour Cream]]",
         "8.75"
        ],
        [
         "12",
         "6",
         "1",
         "Chicken Soft Tacos",
         "[Roasted Chili Corn Salsa, [Rice, Black Beans, Cheese, Sour Cream]]",
         "8.75"
        ],
        [
         "13",
         "7",
         "1",
         "Chicken Bowl",
         "[Fresh Tomato Salsa, [Fajita Vegetables, Rice, Cheese, Sour Cream, Guacamole]]",
         "11.25"
        ],
        [
         "16",
         "8",
         "1",
         "Chicken Burrito",
         "[Tomatillo-Green Chili Salsa (Medium), [Pinto Beans, Cheese, Sour Cream]]",
         "8.49"
        ],
        [
         "17",
         "9",
         "1",
         "Chicken Burrito",
         "[Fresh Tomato Salsa (Mild), [Black Beans, Rice, Cheese, Sour Cream, Lettuce]]",
         "8.49"
        ],
        [
         "19",
         "10",
         "1",
         "Chicken Bowl",
         "[Tomatillo Red Chili Salsa, [Fajita Vegetables, Black Beans, Sour Cream, Cheese, Lettuce]]",
         "8.75"
        ],
        [
         "21",
         "11",
         "1",
         "Barbacoa Burrito",
         "[[Fresh Tomato Salsa (Mild), Tomatillo-Green Chili Salsa (Medium), Tomatillo-Red Chili Salsa (Hot)], [Rice, Cheese, Sour Cream, Lettuce]]",
         "8.99"
        ],
        [
         "22",
         "11",
         "1",
         "Nantucket Nectar",
         "[Pomegranate Cherry]",
         "3.39"
        ],
        [
         "23",
         "12",
         "1",
         "Chicken Burrito",
         "[[Tomatillo-Green Chili Salsa (Medium), Tomatillo-Red Chili Salsa (Hot)], [Pinto Beans, Rice, Cheese, Sour Cream, Guacamole, Lettuce]]",
         "10.98"
        ],
        [
         "24",
         "12",
         "1",
         "Izze",
         "[Grapefruit]",
         "3.39"
        ],
        [
         "26",
         "13",
         "1",
         "Chicken Bowl",
         "[Roasted Chili Corn Salsa (Medium), [Pinto Beans, Rice, Fajita Veggies, Cheese, Sour Cream, Lettuce]]",
         "8.49"
        ],
        [
         "27",
         "14",
         "1",
         "Carnitas Burrito",
         "[[Tomatillo-Green Chili Salsa (Medium), Roasted Chili Corn Salsa (Medium)], [Black Beans, Rice, Sour Cream, Lettuce]]",
         "8.99"
        ],
        [
         "28",
         "14",
         "1",
         "Canned Soda",
         "[Dr. Pepper]",
         "1.09"
        ],
        [
         "29",
         "15",
         "1",
         "Chicken Burrito",
         "[Tomatillo-Green Chili Salsa (Medium), [Pinto Beans, Rice, Cheese, Sour Cream]]",
         "8.49"
        ],
        [
         "31",
         "16",
         "1",
         "Steak Burrito",
         "[[Roasted Chili Corn Salsa (Medium), Fresh Tomato Salsa (Mild)], [Rice, Black Beans, Sour Cream]]",
         "8.99"
        ],
        [
         "33",
         "17",
         "1",
         "Carnitas Bowl",
         "[Tomatillo-Red Chili Salsa (Hot), [Black Beans, Rice, Fajita Veggies, Cheese, Sour Cream, Lettuce]]",
         "8.99"
        ],
        [
         "34",
         "17",
         "1",
         "Bottled Water",
         null,
         "1.09"
        ],
        [
         "35",
         "18",
         "1",
         "Chicken Soft Tacos",
         "[Roasted Chili Corn Salsa, Rice]",
         "8.75"
        ],
        [
         "36",
         "18",
         "1",
         "Chicken Soft Tacos",
         "[Roasted Chili Corn Salsa, [Cheese, Lettuce]]",
         "8.75"
        ],
        [
         "38",
         "18",
         "1",
         "Chips and Tomatillo Green Chili Salsa",
         null,
         "2.95"
        ],
        [
         "39",
         "19",
         "1",
         "Barbacoa Bowl",
         "[Roasted Chili Corn Salsa, [Fajita Vegetables, Rice, Black Beans, Cheese, Sour Cream, Guacamole, Lettuce]]",
         "11.75"
        ],
        [
         "40",
         "19",
         "1",
         "Chips",
         null,
         "2.15"
        ],
        [
         "42",
         "20",
         "1",
         "Chicken Bowl",
         "[Roasted Chili Corn Salsa, [Rice, Black Beans, Cheese, Sour Cream, Guacamole, Lettuce]]",
         "11.25"
        ],
        [
         "43",
         "20",
         "1",
         "Steak Burrito",
         "[Fresh Tomato Salsa, [Rice, Pinto Beans, Cheese, Sour Cream, Guacamole, Lettuce]]",
         "11.75"
        ],
        [
         "44",
         "20",
         "1",
         "Chicken Salad Bowl",
         "[Fresh Tomato Salsa, [Fajita Vegetables, Pinto Beans, Lettuce]]",
         "8.75"
        ],
        [
         "45",
         "21",
         "1",
         "Chicken Burrito",
         "[Tomatillo-Red Chili Salsa (Hot), [Black Beans, Fajita Veggies, Cheese, Sour Cream, Guacamole, Lettuce]]",
         "10.98"
        ],
        [
         "46",
         "21",
         "1",
         "Steak Burrito",
         "[Tomatillo-Red Chili Salsa (Hot), [Rice, Fajita Veggies, Cheese]]",
         "8.99"
        ],
        [
         "47",
         "21",
         "1",
         "Izze",
         "[Blackberry]",
         "3.39"
        ],
        [
         "48",
         "22",
         "1",
         "Steak Burrito",
         "[[Fresh Tomato Salsa (Mild), Roasted Chili Corn Salsa (Medium), Tomatillo-Red Chili Salsa (Hot)], [Black Beans, Rice, Sour Cream]]",
         "8.99"
        ],
        [
         "50",
         "23",
         "1",
         "Steak Burrito",
         "[Roasted Chili Corn Salsa (Medium), [Rice, Fajita Veggies, Cheese, Sour Cream, Lettuce]]",
         "8.99"
        ],
        [
         "52",
         "24",
         "1",
         "Chicken Burrito",
         "[Roasted Chili Corn Salsa (Medium), [Black Beans, Rice, Fajita Veggies, Cheese, Sour Cream, Guacamole, Lettuce]]",
         "10.98"
        ],
        [
         "53",
         "24",
         "1",
         "Canned Soda",
         "[Sprite]",
         "1.09"
        ],
        [
         "54",
         "25",
         "1",
         "Steak Bowl",
         "[Fresh Tomato Salsa (Mild), [Black Beans, Rice, Fajita Veggies, Cheese, Sour Cream]]",
         "8.99"
        ],
        [
         "56",
         "26",
         "1",
         "Barbacoa Soft Tacos",
         "[Fresh Tomato Salsa, [Fajita Vegetables, Black Beans, Lettuce]]",
         "9.25"
        ],
        [
         "57",
         "26",
         "1",
         "Veggie Burrito",
         "[Tomatillo Red Chili Salsa, [Fajita Vegetables, Rice, Black Beans, Cheese, Sour Cream, Guacamole, Lettuce]]",
         "11.25"
        ],
        [
         "61",
         "28",
         "1",
         "Steak Soft Tacos",
         "[Fresh Tomato Salsa, Cheese]",
         "9.25"
        ],
        [
         "62",
         "28",
         "1",
         "Veggie Bowl",
         "[Fresh Tomato Salsa, [Fajita Vegetables, Rice, Black Beans, Cheese, Sour Cream, Guacamole, Lettuce]]",
         "11.25"
        ],
        [
         "63",
         "28",
         "1",
         "Chicken Burrito",
         "[Fresh Tomato Salsa, [Rice, Black Beans, Cheese]]",
         "8.75"
        ],
        [
         "64",
         "29",
         "1",
         "Steak Burrito",
         "[Tomatillo-Red Chili Salsa (Hot), [Black Beans, Rice, Fajita Veggies, Cheese, Sour Cream, Lettuce]]",
         "8.99"
        ],
        [
         "65",
         "29",
         "1",
         "Steak Soft Tacos",
         "[Tomatillo-Red Chili Salsa (Hot), [Rice, Cheese, Sour Cream, Lettuce]]",
         "8.99"
        ]
       ],
       "shape": {
        "columns": 5,
        "rows": 1806
       }
      },
      "text/html": [
       "<div>\n",
       "<style scoped>\n",
       "    .dataframe tbody tr th:only-of-type {\n",
       "        vertical-align: middle;\n",
       "    }\n",
       "\n",
       "    .dataframe tbody tr th {\n",
       "        vertical-align: top;\n",
       "    }\n",
       "\n",
       "    .dataframe thead th {\n",
       "        text-align: right;\n",
       "    }\n",
       "</style>\n",
       "<table border=\"1\" class=\"dataframe\">\n",
       "  <thead>\n",
       "    <tr style=\"text-align: right;\">\n",
       "      <th></th>\n",
       "      <th>order_id</th>\n",
       "      <th>quantity</th>\n",
       "      <th>item_name</th>\n",
       "      <th>choice_description</th>\n",
       "      <th>item_price</th>\n",
       "    </tr>\n",
       "  </thead>\n",
       "  <tbody>\n",
       "    <tr>\n",
       "      <th>0</th>\n",
       "      <td>1</td>\n",
       "      <td>1</td>\n",
       "      <td>Chips and Fresh Tomato Salsa</td>\n",
       "      <td>NaN</td>\n",
       "      <td>2.39</td>\n",
       "    </tr>\n",
       "    <tr>\n",
       "      <th>1</th>\n",
       "      <td>1</td>\n",
       "      <td>1</td>\n",
       "      <td>Izze</td>\n",
       "      <td>[Clementine]</td>\n",
       "      <td>3.39</td>\n",
       "    </tr>\n",
       "    <tr>\n",
       "      <th>2</th>\n",
       "      <td>1</td>\n",
       "      <td>1</td>\n",
       "      <td>Nantucket Nectar</td>\n",
       "      <td>[Apple]</td>\n",
       "      <td>3.39</td>\n",
       "    </tr>\n",
       "    <tr>\n",
       "      <th>3</th>\n",
       "      <td>1</td>\n",
       "      <td>1</td>\n",
       "      <td>Chips and Tomatillo-Green Chili Salsa</td>\n",
       "      <td>NaN</td>\n",
       "      <td>2.39</td>\n",
       "    </tr>\n",
       "    <tr>\n",
       "      <th>5</th>\n",
       "      <td>3</td>\n",
       "      <td>1</td>\n",
       "      <td>Chicken Bowl</td>\n",
       "      <td>[Fresh Tomato Salsa (Mild), [Rice, Cheese, Sou...</td>\n",
       "      <td>10.98</td>\n",
       "    </tr>\n",
       "    <tr>\n",
       "      <th>...</th>\n",
       "      <td>...</td>\n",
       "      <td>...</td>\n",
       "      <td>...</td>\n",
       "      <td>...</td>\n",
       "      <td>...</td>\n",
       "    </tr>\n",
       "    <tr>\n",
       "      <th>4602</th>\n",
       "      <td>1827</td>\n",
       "      <td>1</td>\n",
       "      <td>Barbacoa Burrito</td>\n",
       "      <td>[Tomatillo Green Chili Salsa]</td>\n",
       "      <td>9.25</td>\n",
       "    </tr>\n",
       "    <tr>\n",
       "      <th>4607</th>\n",
       "      <td>1829</td>\n",
       "      <td>1</td>\n",
       "      <td>Steak Burrito</td>\n",
       "      <td>[Tomatillo Green Chili Salsa, [Rice, Cheese, S...</td>\n",
       "      <td>11.75</td>\n",
       "    </tr>\n",
       "    <tr>\n",
       "      <th>4610</th>\n",
       "      <td>1830</td>\n",
       "      <td>1</td>\n",
       "      <td>Steak Burrito</td>\n",
       "      <td>[Fresh Tomato Salsa, [Rice, Sour Cream, Cheese...</td>\n",
       "      <td>11.75</td>\n",
       "    </tr>\n",
       "    <tr>\n",
       "      <th>4611</th>\n",
       "      <td>1830</td>\n",
       "      <td>1</td>\n",
       "      <td>Veggie Burrito</td>\n",
       "      <td>[Tomatillo Green Chili Salsa, [Rice, Fajita Ve...</td>\n",
       "      <td>11.25</td>\n",
       "    </tr>\n",
       "    <tr>\n",
       "      <th>4612</th>\n",
       "      <td>1831</td>\n",
       "      <td>1</td>\n",
       "      <td>Carnitas Bowl</td>\n",
       "      <td>[Fresh Tomato Salsa, [Fajita Vegetables, Rice,...</td>\n",
       "      <td>9.25</td>\n",
       "    </tr>\n",
       "  </tbody>\n",
       "</table>\n",
       "<p>1806 rows × 5 columns</p>\n",
       "</div>"
      ],
      "text/plain": [
       "      order_id  quantity                              item_name  \\\n",
       "0            1         1           Chips and Fresh Tomato Salsa   \n",
       "1            1         1                                   Izze   \n",
       "2            1         1                       Nantucket Nectar   \n",
       "3            1         1  Chips and Tomatillo-Green Chili Salsa   \n",
       "5            3         1                           Chicken Bowl   \n",
       "...        ...       ...                                    ...   \n",
       "4602      1827         1                       Barbacoa Burrito   \n",
       "4607      1829         1                          Steak Burrito   \n",
       "4610      1830         1                          Steak Burrito   \n",
       "4611      1830         1                         Veggie Burrito   \n",
       "4612      1831         1                          Carnitas Bowl   \n",
       "\n",
       "                                     choice_description  item_price  \n",
       "0                                                   NaN        2.39  \n",
       "1                                          [Clementine]        3.39  \n",
       "2                                               [Apple]        3.39  \n",
       "3                                                   NaN        2.39  \n",
       "5     [Fresh Tomato Salsa (Mild), [Rice, Cheese, Sou...       10.98  \n",
       "...                                                 ...         ...  \n",
       "4602                      [Tomatillo Green Chili Salsa]        9.25  \n",
       "4607  [Tomatillo Green Chili Salsa, [Rice, Cheese, S...       11.75  \n",
       "4610  [Fresh Tomato Salsa, [Rice, Sour Cream, Cheese...       11.75  \n",
       "4611  [Tomatillo Green Chili Salsa, [Rice, Fajita Ve...       11.25  \n",
       "4612  [Fresh Tomato Salsa, [Fajita Vegetables, Rice,...        9.25  \n",
       "\n",
       "[1806 rows x 5 columns]"
      ]
     },
     "execution_count": 4,
     "metadata": {},
     "output_type": "execute_result"
    }
   ],
   "source": [
    "#Step 4. How many products cost more than $10.00?\n",
    "prices = [float(value[1:]) if isinstance(value, str) else value for value in chipo.item_price]\n",
    "#chipo.item_price = prices\n",
    "#reassigning the formulated column\n",
    "chipo.item_price = prices\n",
    "#deleting the dupliactes in the item_name and quantity\n",
    "chipo_filtered = chipo.drop_duplicates(['item_name', 'quantity', 'choice_description'])\n",
    "#select only the products with quantity equals to 1\n",
    "chipo_one_prod = chipo_filtered[chipo_filtered['quantity'] == 1]\n",
    "chipo_one_prod\n",
    "# chipo_one_prod[chipo_one_prod['item_price']>10].item_name.nunique()\n",
    "# chipo_one_prod[chipo_one_prod['item_price']>10]\n",
    "\n",
    "\n"
   ]
  },
  {
   "cell_type": "code",
   "execution_count": 5,
   "id": "eeb075ee",
   "metadata": {},
   "outputs": [
    {
     "data": {
      "application/vnd.microsoft.datawrangler.viewer.v0+json": {
       "columns": [
        {
         "name": "index",
         "rawType": "int64",
         "type": "integer"
        },
        {
         "name": "item_name",
         "rawType": "object",
         "type": "string"
        },
        {
         "name": "item_price",
         "rawType": "float64",
         "type": "float"
        }
       ],
       "ref": "c848ea17-3630-4b61-8cea-19a17a32831e",
       "rows": [
        [
         "4313",
         "Steak Salad Bowl",
         "11.89"
        ],
        [
         "1571",
         "Steak Salad Bowl",
         "11.89"
        ],
        [
         "1816",
         "Steak Salad Bowl",
         "11.89"
        ],
        [
         "1311",
         "Steak Salad Bowl",
         "11.89"
        ],
        [
         "3749",
         "Carnitas Salad Bowl",
         "11.89"
        ],
        [
         "2439",
         "Steak Salad Bowl",
         "11.89"
        ],
        [
         "3350",
         "Steak Salad Bowl",
         "11.89"
        ],
        [
         "2804",
         "Steak Salad Bowl",
         "11.89"
        ],
        [
         "2401",
         "Steak Salad Bowl",
         "11.89"
        ],
        [
         "749",
         "Steak Salad Bowl",
         "11.89"
        ],
        [
         "606",
         "Steak Salad Bowl",
         "11.89"
        ],
        [
         "1326",
         "Barbacoa Salad Bowl",
         "11.89"
        ],
        [
         "2957",
         "Steak Salad Bowl",
         "11.89"
        ],
        [
         "3120",
         "Steak Salad Bowl",
         "11.89"
        ],
        [
         "1159",
         "Steak Salad Bowl",
         "11.89"
        ],
        [
         "3493",
         "Steak Salad Bowl",
         "11.89"
        ],
        [
         "1590",
         "Steak Salad Bowl",
         "11.89"
        ],
        [
         "4239",
         "Carnitas Salad Bowl",
         "11.89"
        ],
        [
         "1505",
         "Steak Salad Bowl",
         "11.89"
        ],
        [
         "3546",
         "Barbacoa Salad Bowl",
         "11.89"
        ]
       ],
       "shape": {
        "columns": 2,
        "rows": 20
       }
      },
      "text/html": [
       "<div>\n",
       "<style scoped>\n",
       "    .dataframe tbody tr th:only-of-type {\n",
       "        vertical-align: middle;\n",
       "    }\n",
       "\n",
       "    .dataframe tbody tr th {\n",
       "        vertical-align: top;\n",
       "    }\n",
       "\n",
       "    .dataframe thead th {\n",
       "        text-align: right;\n",
       "    }\n",
       "</style>\n",
       "<table border=\"1\" class=\"dataframe\">\n",
       "  <thead>\n",
       "    <tr style=\"text-align: right;\">\n",
       "      <th></th>\n",
       "      <th>item_name</th>\n",
       "      <th>item_price</th>\n",
       "    </tr>\n",
       "  </thead>\n",
       "  <tbody>\n",
       "    <tr>\n",
       "      <th>4313</th>\n",
       "      <td>Steak Salad Bowl</td>\n",
       "      <td>11.89</td>\n",
       "    </tr>\n",
       "    <tr>\n",
       "      <th>1571</th>\n",
       "      <td>Steak Salad Bowl</td>\n",
       "      <td>11.89</td>\n",
       "    </tr>\n",
       "    <tr>\n",
       "      <th>1816</th>\n",
       "      <td>Steak Salad Bowl</td>\n",
       "      <td>11.89</td>\n",
       "    </tr>\n",
       "    <tr>\n",
       "      <th>1311</th>\n",
       "      <td>Steak Salad Bowl</td>\n",
       "      <td>11.89</td>\n",
       "    </tr>\n",
       "    <tr>\n",
       "      <th>3749</th>\n",
       "      <td>Carnitas Salad Bowl</td>\n",
       "      <td>11.89</td>\n",
       "    </tr>\n",
       "    <tr>\n",
       "      <th>2439</th>\n",
       "      <td>Steak Salad Bowl</td>\n",
       "      <td>11.89</td>\n",
       "    </tr>\n",
       "    <tr>\n",
       "      <th>3350</th>\n",
       "      <td>Steak Salad Bowl</td>\n",
       "      <td>11.89</td>\n",
       "    </tr>\n",
       "    <tr>\n",
       "      <th>2804</th>\n",
       "      <td>Steak Salad Bowl</td>\n",
       "      <td>11.89</td>\n",
       "    </tr>\n",
       "    <tr>\n",
       "      <th>2401</th>\n",
       "      <td>Steak Salad Bowl</td>\n",
       "      <td>11.89</td>\n",
       "    </tr>\n",
       "    <tr>\n",
       "      <th>749</th>\n",
       "      <td>Steak Salad Bowl</td>\n",
       "      <td>11.89</td>\n",
       "    </tr>\n",
       "    <tr>\n",
       "      <th>606</th>\n",
       "      <td>Steak Salad Bowl</td>\n",
       "      <td>11.89</td>\n",
       "    </tr>\n",
       "    <tr>\n",
       "      <th>1326</th>\n",
       "      <td>Barbacoa Salad Bowl</td>\n",
       "      <td>11.89</td>\n",
       "    </tr>\n",
       "    <tr>\n",
       "      <th>2957</th>\n",
       "      <td>Steak Salad Bowl</td>\n",
       "      <td>11.89</td>\n",
       "    </tr>\n",
       "    <tr>\n",
       "      <th>3120</th>\n",
       "      <td>Steak Salad Bowl</td>\n",
       "      <td>11.89</td>\n",
       "    </tr>\n",
       "    <tr>\n",
       "      <th>1159</th>\n",
       "      <td>Steak Salad Bowl</td>\n",
       "      <td>11.89</td>\n",
       "    </tr>\n",
       "    <tr>\n",
       "      <th>3493</th>\n",
       "      <td>Steak Salad Bowl</td>\n",
       "      <td>11.89</td>\n",
       "    </tr>\n",
       "    <tr>\n",
       "      <th>1590</th>\n",
       "      <td>Steak Salad Bowl</td>\n",
       "      <td>11.89</td>\n",
       "    </tr>\n",
       "    <tr>\n",
       "      <th>4239</th>\n",
       "      <td>Carnitas Salad Bowl</td>\n",
       "      <td>11.89</td>\n",
       "    </tr>\n",
       "    <tr>\n",
       "      <th>1505</th>\n",
       "      <td>Steak Salad Bowl</td>\n",
       "      <td>11.89</td>\n",
       "    </tr>\n",
       "    <tr>\n",
       "      <th>3546</th>\n",
       "      <td>Barbacoa Salad Bowl</td>\n",
       "      <td>11.89</td>\n",
       "    </tr>\n",
       "  </tbody>\n",
       "</table>\n",
       "</div>"
      ],
      "text/plain": [
       "                item_name  item_price\n",
       "4313     Steak Salad Bowl       11.89\n",
       "1571     Steak Salad Bowl       11.89\n",
       "1816     Steak Salad Bowl       11.89\n",
       "1311     Steak Salad Bowl       11.89\n",
       "3749  Carnitas Salad Bowl       11.89\n",
       "2439     Steak Salad Bowl       11.89\n",
       "3350     Steak Salad Bowl       11.89\n",
       "2804     Steak Salad Bowl       11.89\n",
       "2401     Steak Salad Bowl       11.89\n",
       "749      Steak Salad Bowl       11.89\n",
       "606      Steak Salad Bowl       11.89\n",
       "1326  Barbacoa Salad Bowl       11.89\n",
       "2957     Steak Salad Bowl       11.89\n",
       "3120     Steak Salad Bowl       11.89\n",
       "1159     Steak Salad Bowl       11.89\n",
       "3493     Steak Salad Bowl       11.89\n",
       "1590     Steak Salad Bowl       11.89\n",
       "4239  Carnitas Salad Bowl       11.89\n",
       "1505     Steak Salad Bowl       11.89\n",
       "3546  Barbacoa Salad Bowl       11.89"
      ]
     },
     "execution_count": 5,
     "metadata": {},
     "output_type": "execute_result"
    }
   ],
   "source": [
    "#5. What is the price of each item?\n",
    "# delete the duplicates in item_name and quantity\n",
    "# chipo_filtered = chipo.drop_duplicates(['item_name','quantity'])\n",
    "chipo[(chipo['item_name'] == 'Chicken Bowl') & (chipo['quantity'] == 1)]\n",
    "# select only the products with quantity equals to 1\n",
    "chipo_one_prod = chipo_filtered[chipo_filtered.quantity == 1]\n",
    "\n",
    "# select only the item_name and item_price columns\n",
    "price_per_item = chipo_one_prod[['item_name', 'item_price']]\n",
    "\n",
    "# sort the values from the most to less expensive\n",
    "price_per_item.sort_values(by = \"item_price\", ascending = False).head(20)\n",
    "\n"
   ]
  },
  {
   "cell_type": "code",
   "execution_count": 6,
   "id": "ac48e0e8",
   "metadata": {},
   "outputs": [
    {
     "data": {
      "application/vnd.microsoft.datawrangler.viewer.v0+json": {
       "columns": [
        {
         "name": "index",
         "rawType": "int64",
         "type": "integer"
        },
        {
         "name": "order_id",
         "rawType": "int64",
         "type": "integer"
        },
        {
         "name": "quantity",
         "rawType": "int64",
         "type": "integer"
        },
        {
         "name": "item_name",
         "rawType": "object",
         "type": "string"
        },
        {
         "name": "choice_description",
         "rawType": "object",
         "type": "unknown"
        },
        {
         "name": "item_price",
         "rawType": "float64",
         "type": "float"
        }
       ],
       "ref": "b05177b1-8bcd-4f74-99ad-b22a91b102bf",
       "rows": [
        [
         "3389",
         "1360",
         "2",
         "6 Pack Soft Drink",
         "[Diet Coke]",
         "12.98"
        ],
        [
         "341",
         "148",
         "1",
         "6 Pack Soft Drink",
         "[Diet Coke]",
         "6.49"
        ],
        [
         "1849",
         "749",
         "1",
         "6 Pack Soft Drink",
         "[Coke]",
         "6.49"
        ],
        [
         "1860",
         "754",
         "1",
         "6 Pack Soft Drink",
         "[Diet Coke]",
         "6.49"
        ],
        [
         "2713",
         "1076",
         "1",
         "6 Pack Soft Drink",
         "[Coke]",
         "6.49"
        ],
        [
         "3422",
         "1373",
         "1",
         "6 Pack Soft Drink",
         "[Coke]",
         "6.49"
        ],
        [
         "553",
         "230",
         "1",
         "6 Pack Soft Drink",
         "[Diet Coke]",
         "6.49"
        ],
        [
         "1916",
         "774",
         "1",
         "6 Pack Soft Drink",
         "[Diet Coke]",
         "6.49"
        ],
        [
         "1922",
         "776",
         "1",
         "6 Pack Soft Drink",
         "[Coke]",
         "6.49"
        ],
        [
         "1937",
         "784",
         "1",
         "6 Pack Soft Drink",
         "[Diet Coke]",
         "6.49"
        ],
        [
         "3836",
         "1537",
         "1",
         "6 Pack Soft Drink",
         "[Coke]",
         "6.49"
        ],
        [
         "298",
         "129",
         "1",
         "6 Pack Soft Drink",
         "[Sprite]",
         "6.49"
        ],
        [
         "1976",
         "798",
         "1",
         "6 Pack Soft Drink",
         "[Diet Coke]",
         "6.49"
        ],
        [
         "1167",
         "481",
         "1",
         "6 Pack Soft Drink",
         "[Coke]",
         "6.49"
        ],
        [
         "3875",
         "1554",
         "1",
         "6 Pack Soft Drink",
         "[Diet Coke]",
         "6.49"
        ],
        [
         "1124",
         "465",
         "1",
         "6 Pack Soft Drink",
         "[Coke]",
         "6.49"
        ],
        [
         "3886",
         "1558",
         "1",
         "6 Pack Soft Drink",
         "[Diet Coke]",
         "6.49"
        ],
        [
         "2108",
         "849",
         "1",
         "6 Pack Soft Drink",
         "[Coke]",
         "6.49"
        ],
        [
         "3010",
         "1196",
         "1",
         "6 Pack Soft Drink",
         "[Diet Coke]",
         "6.49"
        ],
        [
         "4535",
         "1803",
         "1",
         "6 Pack Soft Drink",
         "[Lemonade]",
         "6.49"
        ],
        [
         "4169",
         "1664",
         "1",
         "6 Pack Soft Drink",
         "[Diet Coke]",
         "6.49"
        ],
        [
         "4174",
         "1666",
         "1",
         "6 Pack Soft Drink",
         "[Coke]",
         "6.49"
        ],
        [
         "4527",
         "1800",
         "1",
         "6 Pack Soft Drink",
         "[Diet Coke]",
         "6.49"
        ],
        [
         "4522",
         "1798",
         "1",
         "6 Pack Soft Drink",
         "[Diet Coke]",
         "6.49"
        ],
        [
         "3806",
         "1525",
         "1",
         "6 Pack Soft Drink",
         "[Sprite]",
         "6.49"
        ],
        [
         "2389",
         "949",
         "1",
         "6 Pack Soft Drink",
         "[Coke]",
         "6.49"
        ],
        [
         "3132",
         "1248",
         "1",
         "6 Pack Soft Drink",
         "[Diet Coke]",
         "6.49"
        ],
        [
         "3141",
         "1253",
         "1",
         "6 Pack Soft Drink",
         "[Lemonade]",
         "6.49"
        ],
        [
         "639",
         "264",
         "1",
         "6 Pack Soft Drink",
         "[Diet Coke]",
         "6.49"
        ],
        [
         "1026",
         "422",
         "1",
         "6 Pack Soft Drink",
         "[Sprite]",
         "6.49"
        ],
        [
         "1051",
         "432",
         "1",
         "6 Pack Soft Drink",
         "[Coke]",
         "6.49"
        ],
        [
         "2232",
         "899",
         "1",
         "6 Pack Soft Drink",
         "[Coke]",
         "6.49"
        ],
        [
         "2374",
         "945",
         "1",
         "6 Pack Soft Drink",
         "[Sprite]",
         "6.49"
        ],
        [
         "1260",
         "511",
         "1",
         "6 Pack Soft Drink",
         "[Coke]",
         "6.49"
        ],
        [
         "879",
         "363",
         "1",
         "6 Pack Soft Drink",
         "[Coke]",
         "6.49"
        ],
        [
         "3693",
         "1480",
         "1",
         "6 Pack Soft Drink",
         "[Diet Coke]",
         "6.49"
        ],
        [
         "3789",
         "1517",
         "1",
         "6 Pack Soft Drink",
         "[Diet Coke]",
         "6.49"
        ],
        [
         "2793",
         "1109",
         "1",
         "6 Pack Soft Drink",
         "[Diet Coke]",
         "6.49"
        ],
        [
         "2860",
         "1136",
         "1",
         "6 Pack Soft Drink",
         "[Diet Coke]",
         "6.49"
        ],
        [
         "1392",
         "566",
         "1",
         "6 Pack Soft Drink",
         "[Diet Coke]",
         "6.49"
        ],
        [
         "3600",
         "1443",
         "1",
         "6 Pack Soft Drink",
         "[Coke]",
         "6.49"
        ],
        [
         "3614",
         "1448",
         "1",
         "6 Pack Soft Drink",
         "[Nestea]",
         "6.49"
        ],
        [
         "4359",
         "1741",
         "1",
         "6 Pack Soft Drink",
         "[Coke]",
         "6.49"
        ],
        [
         "4363",
         "1742",
         "1",
         "6 Pack Soft Drink",
         "[Diet Coke]",
         "6.49"
        ],
        [
         "3633",
         "1454",
         "1",
         "6 Pack Soft Drink",
         "[Coke]",
         "6.49"
        ],
        [
         "388",
         "168",
         "1",
         "6 Pack Soft Drink",
         "[Diet Coke]",
         "6.49"
        ],
        [
         "721",
         "298",
         "1",
         "6 Pack Soft Drink",
         "[Nestea]",
         "6.49"
        ],
        [
         "417",
         "182",
         "1",
         "6 Pack Soft Drink",
         "[Diet Coke]",
         "6.49"
        ],
        [
         "1758",
         "709",
         "1",
         "6 Pack Soft Drink",
         "[Diet Coke]",
         "6.49"
        ],
        [
         "3766",
         "1508",
         "1",
         "6 Pack Soft Drink",
         "[Coke]",
         "6.49"
        ]
       ],
       "shape": {
        "columns": 5,
        "rows": 4622
       }
      },
      "text/html": [
       "<div>\n",
       "<style scoped>\n",
       "    .dataframe tbody tr th:only-of-type {\n",
       "        vertical-align: middle;\n",
       "    }\n",
       "\n",
       "    .dataframe tbody tr th {\n",
       "        vertical-align: top;\n",
       "    }\n",
       "\n",
       "    .dataframe thead th {\n",
       "        text-align: right;\n",
       "    }\n",
       "</style>\n",
       "<table border=\"1\" class=\"dataframe\">\n",
       "  <thead>\n",
       "    <tr style=\"text-align: right;\">\n",
       "      <th></th>\n",
       "      <th>order_id</th>\n",
       "      <th>quantity</th>\n",
       "      <th>item_name</th>\n",
       "      <th>choice_description</th>\n",
       "      <th>item_price</th>\n",
       "    </tr>\n",
       "  </thead>\n",
       "  <tbody>\n",
       "    <tr>\n",
       "      <th>3389</th>\n",
       "      <td>1360</td>\n",
       "      <td>2</td>\n",
       "      <td>6 Pack Soft Drink</td>\n",
       "      <td>[Diet Coke]</td>\n",
       "      <td>12.98</td>\n",
       "    </tr>\n",
       "    <tr>\n",
       "      <th>341</th>\n",
       "      <td>148</td>\n",
       "      <td>1</td>\n",
       "      <td>6 Pack Soft Drink</td>\n",
       "      <td>[Diet Coke]</td>\n",
       "      <td>6.49</td>\n",
       "    </tr>\n",
       "    <tr>\n",
       "      <th>1849</th>\n",
       "      <td>749</td>\n",
       "      <td>1</td>\n",
       "      <td>6 Pack Soft Drink</td>\n",
       "      <td>[Coke]</td>\n",
       "      <td>6.49</td>\n",
       "    </tr>\n",
       "    <tr>\n",
       "      <th>1860</th>\n",
       "      <td>754</td>\n",
       "      <td>1</td>\n",
       "      <td>6 Pack Soft Drink</td>\n",
       "      <td>[Diet Coke]</td>\n",
       "      <td>6.49</td>\n",
       "    </tr>\n",
       "    <tr>\n",
       "      <th>2713</th>\n",
       "      <td>1076</td>\n",
       "      <td>1</td>\n",
       "      <td>6 Pack Soft Drink</td>\n",
       "      <td>[Coke]</td>\n",
       "      <td>6.49</td>\n",
       "    </tr>\n",
       "    <tr>\n",
       "      <th>...</th>\n",
       "      <td>...</td>\n",
       "      <td>...</td>\n",
       "      <td>...</td>\n",
       "      <td>...</td>\n",
       "      <td>...</td>\n",
       "    </tr>\n",
       "    <tr>\n",
       "      <th>2384</th>\n",
       "      <td>948</td>\n",
       "      <td>1</td>\n",
       "      <td>Veggie Soft Tacos</td>\n",
       "      <td>[Roasted Chili Corn Salsa, [Fajita Vegetables,...</td>\n",
       "      <td>8.75</td>\n",
       "    </tr>\n",
       "    <tr>\n",
       "      <th>781</th>\n",
       "      <td>322</td>\n",
       "      <td>1</td>\n",
       "      <td>Veggie Soft Tacos</td>\n",
       "      <td>[Fresh Tomato Salsa, [Black Beans, Cheese, Sou...</td>\n",
       "      <td>8.75</td>\n",
       "    </tr>\n",
       "    <tr>\n",
       "      <th>2851</th>\n",
       "      <td>1132</td>\n",
       "      <td>1</td>\n",
       "      <td>Veggie Soft Tacos</td>\n",
       "      <td>[Roasted Chili Corn Salsa (Medium), [Black Bea...</td>\n",
       "      <td>8.49</td>\n",
       "    </tr>\n",
       "    <tr>\n",
       "      <th>1699</th>\n",
       "      <td>688</td>\n",
       "      <td>1</td>\n",
       "      <td>Veggie Soft Tacos</td>\n",
       "      <td>[Fresh Tomato Salsa, [Fajita Vegetables, Rice,...</td>\n",
       "      <td>11.25</td>\n",
       "    </tr>\n",
       "    <tr>\n",
       "      <th>1395</th>\n",
       "      <td>567</td>\n",
       "      <td>1</td>\n",
       "      <td>Veggie Soft Tacos</td>\n",
       "      <td>[Fresh Tomato Salsa (Mild), [Pinto Beans, Rice...</td>\n",
       "      <td>8.49</td>\n",
       "    </tr>\n",
       "  </tbody>\n",
       "</table>\n",
       "<p>4622 rows × 5 columns</p>\n",
       "</div>"
      ],
      "text/plain": [
       "      order_id  quantity          item_name  \\\n",
       "3389      1360         2  6 Pack Soft Drink   \n",
       "341        148         1  6 Pack Soft Drink   \n",
       "1849       749         1  6 Pack Soft Drink   \n",
       "1860       754         1  6 Pack Soft Drink   \n",
       "2713      1076         1  6 Pack Soft Drink   \n",
       "...        ...       ...                ...   \n",
       "2384       948         1  Veggie Soft Tacos   \n",
       "781        322         1  Veggie Soft Tacos   \n",
       "2851      1132         1  Veggie Soft Tacos   \n",
       "1699       688         1  Veggie Soft Tacos   \n",
       "1395       567         1  Veggie Soft Tacos   \n",
       "\n",
       "                                     choice_description  item_price  \n",
       "3389                                        [Diet Coke]       12.98  \n",
       "341                                         [Diet Coke]        6.49  \n",
       "1849                                             [Coke]        6.49  \n",
       "1860                                        [Diet Coke]        6.49  \n",
       "2713                                             [Coke]        6.49  \n",
       "...                                                 ...         ...  \n",
       "2384  [Roasted Chili Corn Salsa, [Fajita Vegetables,...        8.75  \n",
       "781   [Fresh Tomato Salsa, [Black Beans, Cheese, Sou...        8.75  \n",
       "2851  [Roasted Chili Corn Salsa (Medium), [Black Bea...        8.49  \n",
       "1699  [Fresh Tomato Salsa, [Fajita Vegetables, Rice,...       11.25  \n",
       "1395  [Fresh Tomato Salsa (Mild), [Pinto Beans, Rice...        8.49  \n",
       "\n",
       "[4622 rows x 5 columns]"
      ]
     },
     "execution_count": 6,
     "metadata": {},
     "output_type": "execute_result"
    }
   ],
   "source": [
    "#6. Sort by the name of the item\n",
    "chipo.item_name.sort_values()\n",
    "#or\n",
    "chipo.sort_values(by = 'item_name')"
   ]
  },
  {
   "cell_type": "code",
   "execution_count": 7,
   "id": "fd46759c",
   "metadata": {},
   "outputs": [
    {
     "data": {
      "application/vnd.microsoft.datawrangler.viewer.v0+json": {
       "columns": [
        {
         "name": "index",
         "rawType": "int64",
         "type": "integer"
        },
        {
         "name": "order_id",
         "rawType": "int64",
         "type": "integer"
        },
        {
         "name": "quantity",
         "rawType": "int64",
         "type": "integer"
        },
        {
         "name": "item_name",
         "rawType": "object",
         "type": "string"
        },
        {
         "name": "choice_description",
         "rawType": "object",
         "type": "unknown"
        },
        {
         "name": "item_price",
         "rawType": "float64",
         "type": "float"
        }
       ],
       "ref": "67e8ef4b-1ec5-4627-8b8b-3b38a226d5e9",
       "rows": [
        [
         "1140",
         "471",
         "1",
         "Bottled Water",
         null,
         "1.09"
        ]
       ],
       "shape": {
        "columns": 5,
        "rows": 1
       }
      },
      "text/html": [
       "<div>\n",
       "<style scoped>\n",
       "    .dataframe tbody tr th:only-of-type {\n",
       "        vertical-align: middle;\n",
       "    }\n",
       "\n",
       "    .dataframe tbody tr th {\n",
       "        vertical-align: top;\n",
       "    }\n",
       "\n",
       "    .dataframe thead th {\n",
       "        text-align: right;\n",
       "    }\n",
       "</style>\n",
       "<table border=\"1\" class=\"dataframe\">\n",
       "  <thead>\n",
       "    <tr style=\"text-align: right;\">\n",
       "      <th></th>\n",
       "      <th>order_id</th>\n",
       "      <th>quantity</th>\n",
       "      <th>item_name</th>\n",
       "      <th>choice_description</th>\n",
       "      <th>item_price</th>\n",
       "    </tr>\n",
       "  </thead>\n",
       "  <tbody>\n",
       "    <tr>\n",
       "      <th>1140</th>\n",
       "      <td>471</td>\n",
       "      <td>1</td>\n",
       "      <td>Bottled Water</td>\n",
       "      <td>NaN</td>\n",
       "      <td>1.09</td>\n",
       "    </tr>\n",
       "  </tbody>\n",
       "</table>\n",
       "</div>"
      ],
      "text/plain": [
       "      order_id  quantity      item_name choice_description  item_price\n",
       "1140       471         1  Bottled Water                NaN        1.09"
      ]
     },
     "execution_count": 7,
     "metadata": {},
     "output_type": "execute_result"
    }
   ],
   "source": [
    "#7. What was the quantity of the most expensive item ordered?\n",
    "chipo.sort_values(by = 'item_price', ascending = True).head(1)"
   ]
  },
  {
   "cell_type": "code",
   "execution_count": 8,
   "id": "22d8743a",
   "metadata": {},
   "outputs": [
    {
     "data": {
      "text/plain": [
       "18"
      ]
     },
     "execution_count": 8,
     "metadata": {},
     "output_type": "execute_result"
    }
   ],
   "source": [
    "#8. How many times was a Veggie Salad Bowl ordered?\n",
    "chipo_salad = chipo[chipo.item_name == 'Veggie Salad Bowl']\n",
    "len(chipo_salad)"
   ]
  },
  {
   "cell_type": "code",
   "execution_count": 9,
   "id": "9e572b56",
   "metadata": {},
   "outputs": [
    {
     "data": {
      "text/plain": [
       "20"
      ]
     },
     "execution_count": 9,
     "metadata": {},
     "output_type": "execute_result"
    }
   ],
   "source": [
    "#9. How many times did someone order more than one Canned Soda?\n",
    "chipo_drink_steak_bowl = chipo[(chipo.item_name == 'Canned Soda') & (chipo.quantity > 1)]\n",
    "len(chipo_drink_steak_bowl)"
   ]
  }
 ],
 "metadata": {
  "kernelspec": {
   "display_name": "nazir_tutorial",
   "language": "python",
   "name": "python3"
  },
  "language_info": {
   "codemirror_mode": {
    "name": "ipython",
    "version": 3
   },
   "file_extension": ".py",
   "mimetype": "text/x-python",
   "name": "python",
   "nbconvert_exporter": "python",
   "pygments_lexer": "ipython3",
   "version": "3.10.15"
  }
 },
 "nbformat": 4,
 "nbformat_minor": 5
}
