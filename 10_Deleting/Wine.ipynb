{
 "cells": [
  {
   "cell_type": "markdown",
   "id": "9d63cc57",
   "metadata": {},
   "source": [
    "__Importing pandas and numpy__"
   ]
  }
 ],
 "metadata": {
  "kernelspec": {
   "display_name": "nazir_tutorial",
   "language": "python",
   "name": "python3"
  },
  "language_info": {
   "name": "python",
   "version": "3.10.15"
  }
 },
 "nbformat": 4,
 "nbformat_minor": 5
}
