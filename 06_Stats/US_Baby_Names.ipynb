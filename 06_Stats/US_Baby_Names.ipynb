{
 "cells": [
  {
   "cell_type": "markdown",
   "id": "4513e712",
   "metadata": {},
   "source": [
    "__Importing the necessary library__\n",
    "\n"
   ]
  },
  {
   "cell_type": "code",
   "execution_count": 1,
   "id": "a367aea2",
   "metadata": {},
   "outputs": [],
   "source": [
    "import pandas as pd"
   ]
  },
  {
   "cell_type": "code",
   "execution_count": 2,
   "id": "04276b55",
   "metadata": {},
   "outputs": [
    {
     "name": "stdout",
     "output_type": "stream",
     "text": [
      "<class 'pandas.core.frame.DataFrame'>\n",
      "RangeIndex: 1016395 entries, 0 to 1016394\n",
      "Data columns (total 7 columns):\n",
      " #   Column      Non-Null Count    Dtype \n",
      "---  ------      --------------    ----- \n",
      " 0   Unnamed: 0  1016395 non-null  int64 \n",
      " 1   Id          1016395 non-null  int64 \n",
      " 2   Name        1016395 non-null  object\n",
      " 3   Year        1016395 non-null  int64 \n",
      " 4   Gender      1016395 non-null  object\n",
      " 5   State       1016395 non-null  object\n",
      " 6   Count       1016395 non-null  int64 \n",
      "dtypes: int64(4), object(3)\n",
      "memory usage: 54.3+ MB\n"
     ]
    }
   ],
   "source": [
    "#Importing our datasets and assigning it to a variable\n",
    "baby_names = pd.read_csv('https://raw.githubusercontent.com/guipsamora/pandas_exercises/master/06_Stats/US_Baby_Names/US_Baby_Names_right.csv')\n",
    "baby_names.info()"
   ]
  },
  {
   "cell_type": "code",
   "execution_count": 3,
   "id": "303c1047",
   "metadata": {},
   "outputs": [
    {
     "data": {
      "application/vnd.microsoft.datawrangler.viewer.v0+json": {
       "columns": [
        {
         "name": "index",
         "rawType": "int64",
         "type": "integer"
        },
        {
         "name": "Unnamed: 0",
         "rawType": "int64",
         "type": "integer"
        },
        {
         "name": "Id",
         "rawType": "int64",
         "type": "integer"
        },
        {
         "name": "Name",
         "rawType": "object",
         "type": "string"
        },
        {
         "name": "Year",
         "rawType": "int64",
         "type": "integer"
        },
        {
         "name": "Gender",
         "rawType": "object",
         "type": "string"
        },
        {
         "name": "State",
         "rawType": "object",
         "type": "string"
        },
        {
         "name": "Count",
         "rawType": "int64",
         "type": "integer"
        }
       ],
       "ref": "4aac817d-ee2c-47cc-a100-1d6d25d78c2b",
       "rows": [
        [
         "0",
         "11349",
         "11350",
         "Emma",
         "2004",
         "F",
         "AK",
         "62"
        ],
        [
         "1",
         "11350",
         "11351",
         "Madison",
         "2004",
         "F",
         "AK",
         "48"
        ],
        [
         "2",
         "11351",
         "11352",
         "Hannah",
         "2004",
         "F",
         "AK",
         "46"
        ],
        [
         "3",
         "11352",
         "11353",
         "Grace",
         "2004",
         "F",
         "AK",
         "44"
        ],
        [
         "4",
         "11353",
         "11354",
         "Emily",
         "2004",
         "F",
         "AK",
         "41"
        ],
        [
         "5",
         "11354",
         "11355",
         "Abigail",
         "2004",
         "F",
         "AK",
         "37"
        ],
        [
         "6",
         "11355",
         "11356",
         "Olivia",
         "2004",
         "F",
         "AK",
         "33"
        ],
        [
         "7",
         "11356",
         "11357",
         "Isabella",
         "2004",
         "F",
         "AK",
         "30"
        ],
        [
         "8",
         "11357",
         "11358",
         "Alyssa",
         "2004",
         "F",
         "AK",
         "29"
        ],
        [
         "9",
         "11358",
         "11359",
         "Sophia",
         "2004",
         "F",
         "AK",
         "28"
        ]
       ],
       "shape": {
        "columns": 7,
        "rows": 10
       }
      },
      "text/html": [
       "<div>\n",
       "<style scoped>\n",
       "    .dataframe tbody tr th:only-of-type {\n",
       "        vertical-align: middle;\n",
       "    }\n",
       "\n",
       "    .dataframe tbody tr th {\n",
       "        vertical-align: top;\n",
       "    }\n",
       "\n",
       "    .dataframe thead th {\n",
       "        text-align: right;\n",
       "    }\n",
       "</style>\n",
       "<table border=\"1\" class=\"dataframe\">\n",
       "  <thead>\n",
       "    <tr style=\"text-align: right;\">\n",
       "      <th></th>\n",
       "      <th>Unnamed: 0</th>\n",
       "      <th>Id</th>\n",
       "      <th>Name</th>\n",
       "      <th>Year</th>\n",
       "      <th>Gender</th>\n",
       "      <th>State</th>\n",
       "      <th>Count</th>\n",
       "    </tr>\n",
       "  </thead>\n",
       "  <tbody>\n",
       "    <tr>\n",
       "      <th>0</th>\n",
       "      <td>11349</td>\n",
       "      <td>11350</td>\n",
       "      <td>Emma</td>\n",
       "      <td>2004</td>\n",
       "      <td>F</td>\n",
       "      <td>AK</td>\n",
       "      <td>62</td>\n",
       "    </tr>\n",
       "    <tr>\n",
       "      <th>1</th>\n",
       "      <td>11350</td>\n",
       "      <td>11351</td>\n",
       "      <td>Madison</td>\n",
       "      <td>2004</td>\n",
       "      <td>F</td>\n",
       "      <td>AK</td>\n",
       "      <td>48</td>\n",
       "    </tr>\n",
       "    <tr>\n",
       "      <th>2</th>\n",
       "      <td>11351</td>\n",
       "      <td>11352</td>\n",
       "      <td>Hannah</td>\n",
       "      <td>2004</td>\n",
       "      <td>F</td>\n",
       "      <td>AK</td>\n",
       "      <td>46</td>\n",
       "    </tr>\n",
       "    <tr>\n",
       "      <th>3</th>\n",
       "      <td>11352</td>\n",
       "      <td>11353</td>\n",
       "      <td>Grace</td>\n",
       "      <td>2004</td>\n",
       "      <td>F</td>\n",
       "      <td>AK</td>\n",
       "      <td>44</td>\n",
       "    </tr>\n",
       "    <tr>\n",
       "      <th>4</th>\n",
       "      <td>11353</td>\n",
       "      <td>11354</td>\n",
       "      <td>Emily</td>\n",
       "      <td>2004</td>\n",
       "      <td>F</td>\n",
       "      <td>AK</td>\n",
       "      <td>41</td>\n",
       "    </tr>\n",
       "    <tr>\n",
       "      <th>5</th>\n",
       "      <td>11354</td>\n",
       "      <td>11355</td>\n",
       "      <td>Abigail</td>\n",
       "      <td>2004</td>\n",
       "      <td>F</td>\n",
       "      <td>AK</td>\n",
       "      <td>37</td>\n",
       "    </tr>\n",
       "    <tr>\n",
       "      <th>6</th>\n",
       "      <td>11355</td>\n",
       "      <td>11356</td>\n",
       "      <td>Olivia</td>\n",
       "      <td>2004</td>\n",
       "      <td>F</td>\n",
       "      <td>AK</td>\n",
       "      <td>33</td>\n",
       "    </tr>\n",
       "    <tr>\n",
       "      <th>7</th>\n",
       "      <td>11356</td>\n",
       "      <td>11357</td>\n",
       "      <td>Isabella</td>\n",
       "      <td>2004</td>\n",
       "      <td>F</td>\n",
       "      <td>AK</td>\n",
       "      <td>30</td>\n",
       "    </tr>\n",
       "    <tr>\n",
       "      <th>8</th>\n",
       "      <td>11357</td>\n",
       "      <td>11358</td>\n",
       "      <td>Alyssa</td>\n",
       "      <td>2004</td>\n",
       "      <td>F</td>\n",
       "      <td>AK</td>\n",
       "      <td>29</td>\n",
       "    </tr>\n",
       "    <tr>\n",
       "      <th>9</th>\n",
       "      <td>11358</td>\n",
       "      <td>11359</td>\n",
       "      <td>Sophia</td>\n",
       "      <td>2004</td>\n",
       "      <td>F</td>\n",
       "      <td>AK</td>\n",
       "      <td>28</td>\n",
       "    </tr>\n",
       "  </tbody>\n",
       "</table>\n",
       "</div>"
      ],
      "text/plain": [
       "   Unnamed: 0     Id      Name  Year Gender State  Count\n",
       "0       11349  11350      Emma  2004      F    AK     62\n",
       "1       11350  11351   Madison  2004      F    AK     48\n",
       "2       11351  11352    Hannah  2004      F    AK     46\n",
       "3       11352  11353     Grace  2004      F    AK     44\n",
       "4       11353  11354     Emily  2004      F    AK     41\n",
       "5       11354  11355   Abigail  2004      F    AK     37\n",
       "6       11355  11356    Olivia  2004      F    AK     33\n",
       "7       11356  11357  Isabella  2004      F    AK     30\n",
       "8       11357  11358    Alyssa  2004      F    AK     29\n",
       "9       11358  11359    Sophia  2004      F    AK     28"
      ]
     },
     "execution_count": 3,
     "metadata": {},
     "output_type": "execute_result"
    }
   ],
   "source": [
    "#Seeing the first 10 entries\n",
    "baby_names.head(10)"
   ]
  },
  {
   "cell_type": "code",
   "execution_count": null,
   "id": "052476ac",
   "metadata": {},
   "outputs": [
    {
     "ename": "KeyError",
     "evalue": "'Unnamed: 0'",
     "output_type": "error",
     "traceback": [
      "\u001b[1;31m---------------------------------------------------------------------------\u001b[0m",
      "\u001b[1;31mKeyError\u001b[0m                                  Traceback (most recent call last)",
      "File \u001b[1;32mc:\\Users\\ak\\anaconda3\\envs\\nazir_tutorial\\lib\\site-packages\\pandas\\core\\indexes\\base.py:3805\u001b[0m, in \u001b[0;36mIndex.get_loc\u001b[1;34m(self, key)\u001b[0m\n\u001b[0;32m   3804\u001b[0m \u001b[38;5;28;01mtry\u001b[39;00m:\n\u001b[1;32m-> 3805\u001b[0m     \u001b[38;5;28;01mreturn\u001b[39;00m \u001b[38;5;28;43mself\u001b[39;49m\u001b[38;5;241;43m.\u001b[39;49m\u001b[43m_engine\u001b[49m\u001b[38;5;241;43m.\u001b[39;49m\u001b[43mget_loc\u001b[49m\u001b[43m(\u001b[49m\u001b[43mcasted_key\u001b[49m\u001b[43m)\u001b[49m\n\u001b[0;32m   3806\u001b[0m \u001b[38;5;28;01mexcept\u001b[39;00m \u001b[38;5;167;01mKeyError\u001b[39;00m \u001b[38;5;28;01mas\u001b[39;00m err:\n",
      "File \u001b[1;32mindex.pyx:167\u001b[0m, in \u001b[0;36mpandas._libs.index.IndexEngine.get_loc\u001b[1;34m()\u001b[0m\n",
      "File \u001b[1;32mindex.pyx:196\u001b[0m, in \u001b[0;36mpandas._libs.index.IndexEngine.get_loc\u001b[1;34m()\u001b[0m\n",
      "File \u001b[1;32mpandas\\\\_libs\\\\hashtable_class_helper.pxi:7081\u001b[0m, in \u001b[0;36mpandas._libs.hashtable.PyObjectHashTable.get_item\u001b[1;34m()\u001b[0m\n",
      "File \u001b[1;32mpandas\\\\_libs\\\\hashtable_class_helper.pxi:7089\u001b[0m, in \u001b[0;36mpandas._libs.hashtable.PyObjectHashTable.get_item\u001b[1;34m()\u001b[0m\n",
      "\u001b[1;31mKeyError\u001b[0m: 'Unnamed: 0'",
      "\nThe above exception was the direct cause of the following exception:\n",
      "\u001b[1;31mKeyError\u001b[0m                                  Traceback (most recent call last)",
      "Cell \u001b[1;32mIn[7], line 2\u001b[0m\n\u001b[0;32m      1\u001b[0m \u001b[38;5;66;03m#5. Delete the column 'Unnamed: 0' and 'Id'\u001b[39;00m\n\u001b[1;32m----> 2\u001b[0m \u001b[38;5;28;01mdel\u001b[39;00m baby_names[\u001b[38;5;124m'\u001b[39m\u001b[38;5;124mUnnamed: 0\u001b[39m\u001b[38;5;124m'\u001b[39m]\n",
      "File \u001b[1;32mc:\\Users\\ak\\anaconda3\\envs\\nazir_tutorial\\lib\\site-packages\\pandas\\core\\generic.py:4506\u001b[0m, in \u001b[0;36mNDFrame.__delitem__\u001b[1;34m(self, key)\u001b[0m\n\u001b[0;32m   4501\u001b[0m             deleted \u001b[38;5;241m=\u001b[39m \u001b[38;5;28;01mTrue\u001b[39;00m\n\u001b[0;32m   4502\u001b[0m \u001b[38;5;28;01mif\u001b[39;00m \u001b[38;5;129;01mnot\u001b[39;00m deleted:\n\u001b[0;32m   4503\u001b[0m     \u001b[38;5;66;03m# If the above loop ran and didn't delete anything because\u001b[39;00m\n\u001b[0;32m   4504\u001b[0m     \u001b[38;5;66;03m# there was no match, this call should raise the appropriate\u001b[39;00m\n\u001b[0;32m   4505\u001b[0m     \u001b[38;5;66;03m# exception:\u001b[39;00m\n\u001b[1;32m-> 4506\u001b[0m     loc \u001b[38;5;241m=\u001b[39m \u001b[38;5;28;43mself\u001b[39;49m\u001b[38;5;241;43m.\u001b[39;49m\u001b[43maxes\u001b[49m\u001b[43m[\u001b[49m\u001b[38;5;241;43m-\u001b[39;49m\u001b[38;5;241;43m1\u001b[39;49m\u001b[43m]\u001b[49m\u001b[38;5;241;43m.\u001b[39;49m\u001b[43mget_loc\u001b[49m\u001b[43m(\u001b[49m\u001b[43mkey\u001b[49m\u001b[43m)\u001b[49m\n\u001b[0;32m   4507\u001b[0m     \u001b[38;5;28mself\u001b[39m\u001b[38;5;241m.\u001b[39m_mgr \u001b[38;5;241m=\u001b[39m \u001b[38;5;28mself\u001b[39m\u001b[38;5;241m.\u001b[39m_mgr\u001b[38;5;241m.\u001b[39midelete(loc)\n\u001b[0;32m   4509\u001b[0m \u001b[38;5;66;03m# delete from the caches\u001b[39;00m\n",
      "File \u001b[1;32mc:\\Users\\ak\\anaconda3\\envs\\nazir_tutorial\\lib\\site-packages\\pandas\\core\\indexes\\base.py:3812\u001b[0m, in \u001b[0;36mIndex.get_loc\u001b[1;34m(self, key)\u001b[0m\n\u001b[0;32m   3807\u001b[0m     \u001b[38;5;28;01mif\u001b[39;00m \u001b[38;5;28misinstance\u001b[39m(casted_key, \u001b[38;5;28mslice\u001b[39m) \u001b[38;5;129;01mor\u001b[39;00m (\n\u001b[0;32m   3808\u001b[0m         \u001b[38;5;28misinstance\u001b[39m(casted_key, abc\u001b[38;5;241m.\u001b[39mIterable)\n\u001b[0;32m   3809\u001b[0m         \u001b[38;5;129;01mand\u001b[39;00m \u001b[38;5;28many\u001b[39m(\u001b[38;5;28misinstance\u001b[39m(x, \u001b[38;5;28mslice\u001b[39m) \u001b[38;5;28;01mfor\u001b[39;00m x \u001b[38;5;129;01min\u001b[39;00m casted_key)\n\u001b[0;32m   3810\u001b[0m     ):\n\u001b[0;32m   3811\u001b[0m         \u001b[38;5;28;01mraise\u001b[39;00m InvalidIndexError(key)\n\u001b[1;32m-> 3812\u001b[0m     \u001b[38;5;28;01mraise\u001b[39;00m \u001b[38;5;167;01mKeyError\u001b[39;00m(key) \u001b[38;5;28;01mfrom\u001b[39;00m \u001b[38;5;21;01merr\u001b[39;00m\n\u001b[0;32m   3813\u001b[0m \u001b[38;5;28;01mexcept\u001b[39;00m \u001b[38;5;167;01mTypeError\u001b[39;00m:\n\u001b[0;32m   3814\u001b[0m     \u001b[38;5;66;03m# If we have a listlike key, _check_indexing_error will raise\u001b[39;00m\n\u001b[0;32m   3815\u001b[0m     \u001b[38;5;66;03m#  InvalidIndexError. Otherwise we fall through and re-raise\u001b[39;00m\n\u001b[0;32m   3816\u001b[0m     \u001b[38;5;66;03m#  the TypeError.\u001b[39;00m\n\u001b[0;32m   3817\u001b[0m     \u001b[38;5;28mself\u001b[39m\u001b[38;5;241m.\u001b[39m_check_indexing_error(key)\n",
      "\u001b[1;31mKeyError\u001b[0m: 'Unnamed: 0'"
     ]
    }
   ],
   "source": [
    "#5. Delete the column 'Unnamed: 0' and 'Id'\n",
    "del baby_names['Unnamed: 0']\n",
    "#I have deleted the first time, so when I run it for the second time, it was bring this erro that the columns does not exist because they have been deleted already\n"
   ]
  },
  {
   "cell_type": "code",
   "execution_count": 9,
   "id": "afa6e9b0",
   "metadata": {},
   "outputs": [
    {
     "data": {
      "application/vnd.microsoft.datawrangler.viewer.v0+json": {
       "columns": [
        {
         "name": "index",
         "rawType": "int64",
         "type": "integer"
        },
        {
         "name": "Name",
         "rawType": "object",
         "type": "string"
        },
        {
         "name": "Year",
         "rawType": "int64",
         "type": "integer"
        },
        {
         "name": "Gender",
         "rawType": "object",
         "type": "string"
        },
        {
         "name": "State",
         "rawType": "object",
         "type": "string"
        },
        {
         "name": "Count",
         "rawType": "int64",
         "type": "integer"
        }
       ],
       "ref": "6c84b1fc-bbf4-4a91-84f0-8e5bc36a15d7",
       "rows": [
        [
         "0",
         "Emma",
         "2004",
         "F",
         "AK",
         "62"
        ],
        [
         "1",
         "Madison",
         "2004",
         "F",
         "AK",
         "48"
        ],
        [
         "2",
         "Hannah",
         "2004",
         "F",
         "AK",
         "46"
        ],
        [
         "3",
         "Grace",
         "2004",
         "F",
         "AK",
         "44"
        ],
        [
         "4",
         "Emily",
         "2004",
         "F",
         "AK",
         "41"
        ],
        [
         "5",
         "Abigail",
         "2004",
         "F",
         "AK",
         "37"
        ],
        [
         "6",
         "Olivia",
         "2004",
         "F",
         "AK",
         "33"
        ],
        [
         "7",
         "Isabella",
         "2004",
         "F",
         "AK",
         "30"
        ],
        [
         "8",
         "Alyssa",
         "2004",
         "F",
         "AK",
         "29"
        ],
        [
         "9",
         "Sophia",
         "2004",
         "F",
         "AK",
         "28"
        ],
        [
         "10",
         "Alexis",
         "2004",
         "F",
         "AK",
         "27"
        ],
        [
         "11",
         "Elizabeth",
         "2004",
         "F",
         "AK",
         "27"
        ],
        [
         "12",
         "Hailey",
         "2004",
         "F",
         "AK",
         "27"
        ],
        [
         "13",
         "Anna",
         "2004",
         "F",
         "AK",
         "26"
        ],
        [
         "14",
         "Natalie",
         "2004",
         "F",
         "AK",
         "25"
        ],
        [
         "15",
         "Sarah",
         "2004",
         "F",
         "AK",
         "25"
        ],
        [
         "16",
         "Sydney",
         "2004",
         "F",
         "AK",
         "25"
        ],
        [
         "17",
         "Ava",
         "2004",
         "F",
         "AK",
         "23"
        ],
        [
         "18",
         "Trinity",
         "2004",
         "F",
         "AK",
         "22"
        ],
        [
         "19",
         "Haley",
         "2004",
         "F",
         "AK",
         "21"
        ],
        [
         "20",
         "Kaylee",
         "2004",
         "F",
         "AK",
         "21"
        ],
        [
         "21",
         "Taylor",
         "2004",
         "F",
         "AK",
         "21"
        ],
        [
         "22",
         "Chloe",
         "2004",
         "F",
         "AK",
         "20"
        ],
        [
         "23",
         "Ella",
         "2004",
         "F",
         "AK",
         "20"
        ],
        [
         "24",
         "Mackenzie",
         "2004",
         "F",
         "AK",
         "20"
        ],
        [
         "25",
         "Sierra",
         "2004",
         "F",
         "AK",
         "19"
        ],
        [
         "26",
         "Kayla",
         "2004",
         "F",
         "AK",
         "18"
        ],
        [
         "27",
         "Samantha",
         "2004",
         "F",
         "AK",
         "18"
        ],
        [
         "28",
         "Zoe",
         "2004",
         "F",
         "AK",
         "18"
        ],
        [
         "29",
         "Jessica",
         "2004",
         "F",
         "AK",
         "17"
        ],
        [
         "30",
         "Leah",
         "2004",
         "F",
         "AK",
         "17"
        ],
        [
         "31",
         "Lily",
         "2004",
         "F",
         "AK",
         "17"
        ],
        [
         "32",
         "Rachel",
         "2004",
         "F",
         "AK",
         "17"
        ],
        [
         "33",
         "Riley",
         "2004",
         "F",
         "AK",
         "17"
        ],
        [
         "34",
         "Savannah",
         "2004",
         "F",
         "AK",
         "17"
        ],
        [
         "35",
         "Victoria",
         "2004",
         "F",
         "AK",
         "17"
        ],
        [
         "36",
         "Ashley",
         "2004",
         "F",
         "AK",
         "16"
        ],
        [
         "37",
         "Cadence",
         "2004",
         "F",
         "AK",
         "16"
        ],
        [
         "38",
         "Megan",
         "2004",
         "F",
         "AK",
         "16"
        ],
        [
         "39",
         "Aurora",
         "2004",
         "F",
         "AK",
         "15"
        ],
        [
         "40",
         "Jasmine",
         "2004",
         "F",
         "AK",
         "15"
        ],
        [
         "41",
         "Jordan",
         "2004",
         "F",
         "AK",
         "15"
        ],
        [
         "42",
         "Julia",
         "2004",
         "F",
         "AK",
         "15"
        ],
        [
         "43",
         "Kylie",
         "2004",
         "F",
         "AK",
         "15"
        ],
        [
         "44",
         "Angel",
         "2004",
         "F",
         "AK",
         "14"
        ],
        [
         "45",
         "Jade",
         "2004",
         "F",
         "AK",
         "14"
        ],
        [
         "46",
         "Nicole",
         "2004",
         "F",
         "AK",
         "14"
        ],
        [
         "47",
         "Rebecca",
         "2004",
         "F",
         "AK",
         "14"
        ],
        [
         "48",
         "Alexandra",
         "2004",
         "F",
         "AK",
         "13"
        ],
        [
         "49",
         "Allison",
         "2004",
         "F",
         "AK",
         "13"
        ]
       ],
       "shape": {
        "columns": 5,
        "rows": 1016395
       }
      },
      "text/html": [
       "<div>\n",
       "<style scoped>\n",
       "    .dataframe tbody tr th:only-of-type {\n",
       "        vertical-align: middle;\n",
       "    }\n",
       "\n",
       "    .dataframe tbody tr th {\n",
       "        vertical-align: top;\n",
       "    }\n",
       "\n",
       "    .dataframe thead th {\n",
       "        text-align: right;\n",
       "    }\n",
       "</style>\n",
       "<table border=\"1\" class=\"dataframe\">\n",
       "  <thead>\n",
       "    <tr style=\"text-align: right;\">\n",
       "      <th></th>\n",
       "      <th>Name</th>\n",
       "      <th>Year</th>\n",
       "      <th>Gender</th>\n",
       "      <th>State</th>\n",
       "      <th>Count</th>\n",
       "    </tr>\n",
       "  </thead>\n",
       "  <tbody>\n",
       "    <tr>\n",
       "      <th>0</th>\n",
       "      <td>Emma</td>\n",
       "      <td>2004</td>\n",
       "      <td>F</td>\n",
       "      <td>AK</td>\n",
       "      <td>62</td>\n",
       "    </tr>\n",
       "    <tr>\n",
       "      <th>1</th>\n",
       "      <td>Madison</td>\n",
       "      <td>2004</td>\n",
       "      <td>F</td>\n",
       "      <td>AK</td>\n",
       "      <td>48</td>\n",
       "    </tr>\n",
       "    <tr>\n",
       "      <th>2</th>\n",
       "      <td>Hannah</td>\n",
       "      <td>2004</td>\n",
       "      <td>F</td>\n",
       "      <td>AK</td>\n",
       "      <td>46</td>\n",
       "    </tr>\n",
       "    <tr>\n",
       "      <th>3</th>\n",
       "      <td>Grace</td>\n",
       "      <td>2004</td>\n",
       "      <td>F</td>\n",
       "      <td>AK</td>\n",
       "      <td>44</td>\n",
       "    </tr>\n",
       "    <tr>\n",
       "      <th>4</th>\n",
       "      <td>Emily</td>\n",
       "      <td>2004</td>\n",
       "      <td>F</td>\n",
       "      <td>AK</td>\n",
       "      <td>41</td>\n",
       "    </tr>\n",
       "    <tr>\n",
       "      <th>...</th>\n",
       "      <td>...</td>\n",
       "      <td>...</td>\n",
       "      <td>...</td>\n",
       "      <td>...</td>\n",
       "      <td>...</td>\n",
       "    </tr>\n",
       "    <tr>\n",
       "      <th>1016390</th>\n",
       "      <td>Seth</td>\n",
       "      <td>2014</td>\n",
       "      <td>M</td>\n",
       "      <td>WY</td>\n",
       "      <td>5</td>\n",
       "    </tr>\n",
       "    <tr>\n",
       "      <th>1016391</th>\n",
       "      <td>Spencer</td>\n",
       "      <td>2014</td>\n",
       "      <td>M</td>\n",
       "      <td>WY</td>\n",
       "      <td>5</td>\n",
       "    </tr>\n",
       "    <tr>\n",
       "      <th>1016392</th>\n",
       "      <td>Tyce</td>\n",
       "      <td>2014</td>\n",
       "      <td>M</td>\n",
       "      <td>WY</td>\n",
       "      <td>5</td>\n",
       "    </tr>\n",
       "    <tr>\n",
       "      <th>1016393</th>\n",
       "      <td>Victor</td>\n",
       "      <td>2014</td>\n",
       "      <td>M</td>\n",
       "      <td>WY</td>\n",
       "      <td>5</td>\n",
       "    </tr>\n",
       "    <tr>\n",
       "      <th>1016394</th>\n",
       "      <td>Waylon</td>\n",
       "      <td>2014</td>\n",
       "      <td>M</td>\n",
       "      <td>WY</td>\n",
       "      <td>5</td>\n",
       "    </tr>\n",
       "  </tbody>\n",
       "</table>\n",
       "<p>1016395 rows × 5 columns</p>\n",
       "</div>"
      ],
      "text/plain": [
       "            Name  Year Gender State  Count\n",
       "0           Emma  2004      F    AK     62\n",
       "1        Madison  2004      F    AK     48\n",
       "2         Hannah  2004      F    AK     46\n",
       "3          Grace  2004      F    AK     44\n",
       "4          Emily  2004      F    AK     41\n",
       "...          ...   ...    ...   ...    ...\n",
       "1016390     Seth  2014      M    WY      5\n",
       "1016391  Spencer  2014      M    WY      5\n",
       "1016392     Tyce  2014      M    WY      5\n",
       "1016393   Victor  2014      M    WY      5\n",
       "1016394   Waylon  2014      M    WY      5\n",
       "\n",
       "[1016395 rows x 5 columns]"
      ]
     },
     "execution_count": 9,
     "metadata": {},
     "output_type": "execute_result"
    }
   ],
   "source": [
    "#printing the df to confirm\n",
    "del baby_names['Id']\n",
    "baby_names"
   ]
  },
  {
   "cell_type": "code",
   "execution_count": 10,
   "id": "3d3d4803",
   "metadata": {},
   "outputs": [
    {
     "data": {
      "application/vnd.microsoft.datawrangler.viewer.v0+json": {
       "columns": [
        {
         "name": "Gender",
         "rawType": "object",
         "type": "string"
        },
        {
         "name": "count",
         "rawType": "int64",
         "type": "integer"
        }
       ],
       "ref": "dd8da668-d801-409b-871a-ee49be01effd",
       "rows": [
        [
         "F",
         "558846"
        ],
        [
         "M",
         "457549"
        ]
       ],
       "shape": {
        "columns": 1,
        "rows": 2
       }
      },
      "text/plain": [
       "Gender\n",
       "F    558846\n",
       "M    457549\n",
       "Name: count, dtype: int64"
      ]
     },
     "execution_count": 10,
     "metadata": {},
     "output_type": "execute_result"
    }
   ],
   "source": [
    "#6. Are there more male or female names in the dataset?\n",
    "baby_names.Gender.value_counts()"
   ]
  },
  {
   "cell_type": "code",
   "execution_count": 11,
   "id": "0ea0b314",
   "metadata": {},
   "outputs": [
    {
     "data": {
      "application/vnd.microsoft.datawrangler.viewer.v0+json": {
       "columns": [
        {
         "name": "Name",
         "rawType": "object",
         "type": "string"
        },
        {
         "name": "Gender",
         "rawType": "object",
         "type": "string"
        },
        {
         "name": "State",
         "rawType": "object",
         "type": "string"
        },
        {
         "name": "Count",
         "rawType": "int64",
         "type": "integer"
        }
       ],
       "ref": "f5bc991e-a919-4ec8-a9e0-02c2c6bc1305",
       "rows": [
        [
         "Jacob",
         "MMMMMMMMMMMMMMMMMMMMMMMMMMMMMMMMMMMMMMMMMMMMMMMMMMMMMMMMMMMMMMMMMMMMMMMMMMMMMMMMMMMMMMMMMMMMMMMMMMMMMMMMMMMMMMMMMMMMMMMMMMMMMMMMMMMMMMMMMMMMMMMMMMMMMMMMMMMMMMMMMMMMMMMMMMMMMMMMMMMMMMMMMMMFMMMMMMMMMMMMMMMMMMMMMMMMMMMMMMMMMMMMMMMMMMMMMMMMMMMMMMMMMMMMMMMMMMMMMMMMMMMMMMMMMMMMMMMMMMMMMMMMMMMMMMMMMMMMMMMMMMMMMMMMMMMMMMMMMMMMMMMMMMMMMMMMMMMMMMMMMMMMMMMMMMMMMMMMMMMMMMMMMMMMMMMMMMMFFFMMMMMMMMMMMMMMMMMMMMMMMMMMMMMMMMMMMMMMMMMMMMFMMMMMMMMMMMMMMMMMMMMMMMMMMMMMMMMMMMMMMMMMMMMMMMMMMMMMMMFFMMMMMMMMMMMMMMMMMMMMMMMMMMMMMMMMMMMMMMMMMMMMMMMMMMMMMMMMMMMMMMMMMMMMMMMMMMMMMMMMMMMMMMMM",
         "AKAKAKAKAKAKAKAKAKAKAKALALALALALALALALALALALARARARARARARARARARARARAZAZAZAZAZAZAZAZAZAZAZCACACACACACACACACACACACOCOCOCOCOCOCOCOCOCOCOCTCTCTCTCTCTCTCTCTCTCTDCDCDCDCDCDCDCDCDCDCDCDEDEDEDEDEDEDEDEDEDEDEFLFLFLFLFLFLFLFLFLFLFLGAGAGAGAGAGAGAGAGAGAGAHIHIHIHIHIHIHIHIHIHIHIIAIAIAIAIAIAIAIAIAIAIAIDIDIDIDIDIDIDIDIDIDIDILILILILILILILILILILILINININININININININININKSKSKSKSKSKSKSKSKSKSKSKYKYKYKYKYKYKYKYKYKYKYKYLALALALALALALALALALALAMAMAMAMAMAMAMAMAMAMAMAMDMDMDMDMDMDMDMDMDMDMDMEMEMEMEMEMEMEMEMEMEMEMIMIMIMIMIMIMIMIMIMIMIMNMNMNMNMNMNMNMNMNMNMNMOMOMOMOMOMOMOMOMOMOMOMSMSMSMSMSMSMSMSMSMSMSMTMTMTMTMTMTMTMTMTMTMTNCNCNCNCNCNCNCNCNCNCNCNDNDNDNDNDNDNDNDNDNDNDNENENENENENENENENENENENHNHNHNHNHNHNHNHNHNHNHNJNJNJNJNJNJNJNJNJNJNJNMNMNMNMNMNMNMNMNMNMNMNVNVNVNVNVNVNVNVNVNVNVNYNYNYNYNYNYNYNYNYNYNYNYNYNYOHOHOHOHOHOHOHOHOHOHOHOKOKOKOKOKOKOKOKOKOKOKORORORORORORORORORORORPAPAPAPAPAPAPAPAPAPAPAPARIRIRIRIRIRIRIRIRIRIRISCSCSCSCSCSCSCSCSCSCSCSDSDSDSDSDSDSDSDSDSDSDTNTNTNTNTNTNTNTNTNTNTNTXTXTXTXTXTXTXTXTXTXTXTXTXUTUTUTUTUTUTUTUTUTUTUTVAVAVAVAVAVAVAVAVAVAVAVTVTVTVTVTVTVTVTVTVTVTWAWAWAWAWAWAWAWAWAWAWAWIWIWIWIWIWIWIWIWIWIWIWVWVWVWVWVWVWVWVWVWVWVWYWYWYWYWYWYWYWYWYWYWY",
         "242874"
        ],
        [
         "Emma",
         "FFFFFFFFFFFFFFFFFFFFFFFFFFFFFFFFFFFFFFFFFFFFFFFFFFFFFFFFFFFFFFFFFFFFFFFFFFFFFFFFFFFFFFFFFFFFFFFFFFFFFFFFFFFFFFFFFFFFFFFFFFFFFFFFFFFFFFFFFFFFFFFFFFFFFFFFFFFFFFFFFFFFFFFFFFFFFFFFFFFFFFFFFFFFFFFFFFFFFFMFFFFFFFFFFFFFFFFFFFFFFFFFFFFFFFFFFFFFFFFFFFFFFFFFFFFFFFFFFFFFFFFFFFFFFFFFFFFFFFFFFFFFFFFFFFFFFFFFFFFFFFFFFFFFFFFFFFFFFFFFFFFFFFFFFFFFFFFFFFFFFFFFFFFFFFFFFFFFFFFFFFFFFFFFFFFFFFFFFFFFFFFFFFMFFFFFFFFFFFFFFFFFFFFFFFFFFFFFFFFFFFFFFFFFFFFMMMFFFFFFFFFFFFFFFFFFFFFFFFFFFFFFFFFFFFFFFFFFFFFFFFFFFFFFFFFFFFFFFFFFFFFFFFFFFFFFFFFFFFFFFFFFFFFFFFFFFFFFFFFFFFFFFFFFFFFFFFFFFFFFFFFFFF",
         "AKAKAKAKAKAKAKAKAKAKAKALALALALALALALALALALALARARARARARARARARARARARAZAZAZAZAZAZAZAZAZAZAZCACACACACACACACACACACACOCOCOCOCOCOCOCOCOCOCOCTCTCTCTCTCTCTCTCTCTCTDCDCDCDCDCDCDCDCDCDCDCDEDEDEDEDEDEDEDEDEDEDEFLFLFLFLFLFLFLFLFLFLFLGAGAGAGAGAGAGAGAGAGAGAHIHIHIHIHIHIHIHIHIHIHIIAIAIAIAIAIAIAIAIAIAIAIDIDIDIDIDIDIDIDIDIDIDILILILILILILILILILILILINININININININININININKSKSKSKSKSKSKSKSKSKSKSKYKYKYKYKYKYKYKYKYKYKYKYLALALALALALALALALALALAMAMAMAMAMAMAMAMAMAMAMAMDMDMDMDMDMDMDMDMDMDMDMEMEMEMEMEMEMEMEMEMEMEMIMIMIMIMIMIMIMIMIMIMIMNMNMNMNMNMNMNMNMNMNMNMOMOMOMOMOMOMOMOMOMOMOMSMSMSMSMSMSMSMSMSMSMSMTMTMTMTMTMTMTMTMTMTMTNCNCNCNCNCNCNCNCNCNCNCNDNDNDNDNDNDNDNDNDNDNDNENENENENENENENENENENENHNHNHNHNHNHNHNHNHNHNHNJNJNJNJNJNJNJNJNJNJNJNMNMNMNMNMNMNMNMNMNMNMNVNVNVNVNVNVNVNVNVNVNVNYNYNYNYNYNYNYNYNYNYNYNYOHOHOHOHOHOHOHOHOHOHOHOKOKOKOKOKOKOKOKOKOKOKORORORORORORORORORORORPAPAPAPAPAPAPAPAPAPAPAPAPAPARIRIRIRIRIRIRIRIRIRIRISCSCSCSCSCSCSCSCSCSCSCSDSDSDSDSDSDSDSDSDSDSDTNTNTNTNTNTNTNTNTNTNTNTXTXTXTXTXTXTXTXTXTXTXUTUTUTUTUTUTUTUTUTUTUTVAVAVAVAVAVAVAVAVAVAVAVTVTVTVTVTVTVTVTVTVTVTWAWAWAWAWAWAWAWAWAWAWAWIWIWIWIWIWIWIWIWIWIWIWVWVWVWVWVWVWVWVWVWVWVWYWYWYWYWYWYWYWYWYWYWY",
         "214852"
        ],
        [
         "Michael",
         "MMMMMMMMMMMMMMMMMMMMMMMMMMMMMMMMMMMMMMMMMMMMFFFMMMMMMMMMMMMMMMMMMMMMMMMMMMMMMMMMMMMMMMMMMMMMMMMMMMMMMMFMMMMMMMMMMMFMMMMMMMMMMMMMMMMMMMMMMMMMMMMMMMMMMMMMMMMMMMMFMMMMMMMMMMMMMMMMMMMMMMMMMMMMMMMMMFMMMMMMMMMMMMMMMMMMMMMMMMMMMMMMMMMMMMMMMMMMMMMMMMMMMMMMMFMMMMMMMMMMMMMMMMMMMMMMMMMMMMMMMMMMMMMMMMMMMMMMMMMMMMMMMMMMMMMMMMMMMMMMMMMMMMMMMMMMMMMMMMMMMMMMMMMMMMMMMMMMMMMMMMMMMMMMMMMMMMMMMMMMMMFFFMMMMMMMMMMMFMMMMMMMMMMMMMMMMMMMMMMMMMMMMMMMMMFMMMMMMMMMMMMMMMMMMMMMMMMMMMMMMMMMMMMMMMMMMMMMMMMMMMMMMMFFFFMMMMMMMMMMMMMMMMMMMMMMMMMMMMMMMMMMMMMMMMMMMMMMMMMMMMMMMMMMMMMMMMMMMMMMMMMMMMMMMMMMMMMMMM",
         "AKAKAKAKAKAKAKAKAKAKAKALALALALALALALALALALALARARARARARARARARARARARAZAZAZAZAZAZAZAZAZAZAZCACACACACACACACACACACACACACACOCOCOCOCOCOCOCOCOCOCOCTCTCTCTCTCTCTCTCTCTCTDCDCDCDCDCDCDCDCDCDCDCDEDEDEDEDEDEDEDEDEDEDEFLFLFLFLFLFLFLFLFLFLFLFLGAGAGAGAGAGAGAGAGAGAGAGAHIHIHIHIHIHIHIHIHIHIHIIAIAIAIAIAIAIAIAIAIAIAIDIDIDIDIDIDIDIDIDIDIDILILILILILILILILILILILILINININININININININININKSKSKSKSKSKSKSKSKSKSKSKYKYKYKYKYKYKYKYKYKYKYKYLALALALALALALALALALALAMAMAMAMAMAMAMAMAMAMAMAMDMDMDMDMDMDMDMDMDMDMDMEMEMEMEMEMEMEMEMEMEMEMIMIMIMIMIMIMIMIMIMIMIMIMNMNMNMNMNMNMNMNMNMNMNMOMOMOMOMOMOMOMOMOMOMOMSMSMSMSMSMSMSMSMSMSMSMTMTMTMTMTMTMTMTMTMTMTNCNCNCNCNCNCNCNCNCNCNCNDNDNDNDNDNDNDNDNDNDNDNENENENENENENENENENENENHNHNHNHNHNHNHNHNHNHNHNJNJNJNJNJNJNJNJNJNJNJNMNMNMNMNMNMNMNMNMNMNMNVNVNVNVNVNVNVNVNVNVNVNYNYNYNYNYNYNYNYNYNYNYNYNYNYOHOHOHOHOHOHOHOHOHOHOHOHOKOKOKOKOKOKOKOKOKOKOKORORORORORORORORORORORPAPAPAPAPAPAPAPAPAPAPAPARIRIRIRIRIRIRIRIRIRIRISCSCSCSCSCSCSCSCSCSCSCSDSDSDSDSDSDSDSDSDSDSDTNTNTNTNTNTNTNTNTNTNTNTXTXTXTXTXTXTXTXTXTXTXTXTXTXTXUTUTUTUTUTUTUTUTUTUTUTVAVAVAVAVAVAVAVAVAVAVAVTVTVTVTVTVTVTVTVTVTVTWAWAWAWAWAWAWAWAWAWAWAWIWIWIWIWIWIWIWIWIWIWIWVWVWVWVWVWVWVWVWVWVWVWYWYWYWYWYWYWYWYWYWYWY",
         "214405"
        ],
        [
         "Ethan",
         "MMMMMMMMMMMMMMMMMMMMMMMMMMMMMMMMMMMMMMMMMMMMMMMMMMMMMMMMMMMMMMMMMMMMMMMMMMMMMMMMMMMMMMMMMMMMMMMMMMMMMMMMMMMMMMMMMMMMMMMMMMMMMMMMMMMMMMMMMMMMMMMMMMMMMMMMMMMMMMMMMMMMMMMMMMMMMMMMMMMMMMMMMMMFMMMMMMMMMMMMMMMMMMMMMMMMMMMMMMMMMMMMMMMMMMMMMMMMMMMMMMMMMMMMMMMMMMMMMMMMMMMMMMMMMMMMMMMMMMMMMMMMMMMMMMMMMMMMMMMMMMMMMMMMMMMMMMMMMMMMMMMMMMMMMMMMMMMMMMMMMMMMMMMMMMMMMMMMMMMMMMMMMMMMMMMMMMMFFMMMMMMMMMMMMMMMMMMMMMMMMMMMMMMMMMMMMMMMMMMMMFFFMMMMMMMMMMMMMMMMMMMMMMMMMMMMMMMMMMMMMMMMMMMMMMMMMMMMMMMMMMMMMMMMMMMMMMMMMMMMMMMMMMMMMMMMMMMMMMMMMMMMMMMMMMMMMMMMMMMMMMMMMMMMMMMMMMMMMMMMMMMMMMM",
         "AKAKAKAKAKAKAKAKAKAKAKALALALALALALALALALALALARARARARARARARARARARARAZAZAZAZAZAZAZAZAZAZAZCACACACACACACACACACACACOCOCOCOCOCOCOCOCOCOCOCTCTCTCTCTCTCTCTCTCTCTDCDCDCDCDCDCDCDCDCDCDCDEDEDEDEDEDEDEDEDEDEDEFLFLFLFLFLFLFLFLFLFLFLGAGAGAGAGAGAGAGAGAGAGAHIHIHIHIHIHIHIHIHIHIHIIAIAIAIAIAIAIAIAIAIAIAIDIDIDIDIDIDIDIDIDIDIDILILILILILILILILILILILINININININININININININKSKSKSKSKSKSKSKSKSKSKSKYKYKYKYKYKYKYKYKYKYKYKYLALALALALALALALALALALAMAMAMAMAMAMAMAMAMAMAMAMDMDMDMDMDMDMDMDMDMDMDMEMEMEMEMEMEMEMEMEMEMEMIMIMIMIMIMIMIMIMIMIMIMNMNMNMNMNMNMNMNMNMNMNMOMOMOMOMOMOMOMOMOMOMOMSMSMSMSMSMSMSMSMSMSMSMTMTMTMTMTMTMTMTMTMTMTNCNCNCNCNCNCNCNCNCNCNCNDNDNDNDNDNDNDNDNDNDNDNENENENENENENENENENENENHNHNHNHNHNHNHNHNHNHNHNJNJNJNJNJNJNJNJNJNJNJNMNMNMNMNMNMNMNMNMNMNMNVNVNVNVNVNVNVNVNVNVNVNYNYNYNYNYNYNYNYNYNYNYNYNYOHOHOHOHOHOHOHOHOHOHOHOKOKOKOKOKOKOKOKOKOKOKORORORORORORORORORORORPAPAPAPAPAPAPAPAPAPAPAPAPAPARIRIRIRIRIRIRIRIRIRIRISCSCSCSCSCSCSCSCSCSCSCSDSDSDSDSDSDSDSDSDSDSDTNTNTNTNTNTNTNTNTNTNTNTXTXTXTXTXTXTXTXTXTXTXUTUTUTUTUTUTUTUTUTUTUTVAVAVAVAVAVAVAVAVAVAVAVTVTVTVTVTVTVTVTVTVTVTWAWAWAWAWAWAWAWAWAWAWAWIWIWIWIWIWIWIWIWIWIWIWVWVWVWVWVWVWVWVWVWVWVWYWYWYWYWYWYWYWYWYWYWY",
         "209277"
        ],
        [
         "Isabella",
         "FFFFFFFFFFFFFFFFFFFFFFFFFFFFFFFFFFFFFFFFFFFFFFFFFFFFFFFFFFFFFFFFFFFFFFFFFFFFFFFFFFFFFFFFFFFFFFFFFFFFFFFFFFFFFFFFFFFFFFFFFFFFFFFFFFFFFFFFFFFFFFFFFFFFFFFFFFFFFFFFFFFFFFFFFFFFFFFFFFFFFFFFFFFFFFFFFFFFFFMFFFFFFFFFFFFFFFFFFFFFFFFFFFFFFFFFFFFFFFFFFFFFFFFFFFFFFFFFFFFFFFFFFFFFFFFFFFFFFFFFFFFFFFFFFFFFFFFFFFFFFFFFFFFFFFFFFFFFFFFFFFFFFFFFFFFFFFFFFFFFFFFFFFFFFFFFFFFFFFFFFFFFFFFFFFFFFFFFFFFFFFFFFFMFFFFFFFFFFFFFFFFFFFFFFFFFFFFFFFFFFFFFFFFFFFFMMFFFFFFFFFFFFFFFFFFFFFFFFFFFFFFFFFFFFFFFFFFFFFFFFFFFFFFFMFFFFFFFFFFFFFFFFFFFFFFFFFFFFFFFFFFFFFFFFFFFFFFFFFFFFFFFFFFFFFFFFFFFFFFFFFFFFF",
         "AKAKAKAKAKAKAKAKAKAKAKALALALALALALALALALALALARARARARARARARARARARARAZAZAZAZAZAZAZAZAZAZAZCACACACACACACACACACACACOCOCOCOCOCOCOCOCOCOCOCTCTCTCTCTCTCTCTCTCTCTDCDCDCDCDCDCDCDCDCDCDCDEDEDEDEDEDEDEDEDEDEDEFLFLFLFLFLFLFLFLFLFLFLGAGAGAGAGAGAGAGAGAGAGAHIHIHIHIHIHIHIHIHIHIHIIAIAIAIAIAIAIAIAIAIAIAIDIDIDIDIDIDIDIDIDIDIDILILILILILILILILILILILINININININININININININKSKSKSKSKSKSKSKSKSKSKSKYKYKYKYKYKYKYKYKYKYKYKYLALALALALALALALALALALAMAMAMAMAMAMAMAMAMAMAMAMDMDMDMDMDMDMDMDMDMDMDMEMEMEMEMEMEMEMEMEMEMEMIMIMIMIMIMIMIMIMIMIMIMNMNMNMNMNMNMNMNMNMNMNMOMOMOMOMOMOMOMOMOMOMOMSMSMSMSMSMSMSMSMSMSMSMTMTMTMTMTMTMTMTMTMTMTNCNCNCNCNCNCNCNCNCNCNCNDNDNDNDNDNDNDNDNDNDNDNENENENENENENENENENENENHNHNHNHNHNHNHNHNHNHNHNJNJNJNJNJNJNJNJNJNJNJNMNMNMNMNMNMNMNMNMNMNMNVNVNVNVNVNVNVNVNVNVNVNYNYNYNYNYNYNYNYNYNYNYNYOHOHOHOHOHOHOHOHOHOHOHOKOKOKOKOKOKOKOKOKOKOKORORORORORORORORORORORPAPAPAPAPAPAPAPAPAPAPAPAPARIRIRIRIRIRIRIRIRIRIRISCSCSCSCSCSCSCSCSCSCSCSDSDSDSDSDSDSDSDSDSDSDTNTNTNTNTNTNTNTNTNTNTNTXTXTXTXTXTXTXTXTXTXTXTXUTUTUTUTUTUTUTUTUTUTUTVAVAVAVAVAVAVAVAVAVAVAVTVTVTVTVTVTVTVTVTVTVTWAWAWAWAWAWAWAWAWAWAWAWIWIWIWIWIWIWIWIWIWIWIWVWVWVWVWVWVWVWVWVWVWVWYWYWYWYWYWYWYWYWYWYWY",
         "204798"
        ]
       ],
       "shape": {
        "columns": 3,
        "rows": 5
       }
      },
      "text/html": [
       "<div>\n",
       "<style scoped>\n",
       "    .dataframe tbody tr th:only-of-type {\n",
       "        vertical-align: middle;\n",
       "    }\n",
       "\n",
       "    .dataframe tbody tr th {\n",
       "        vertical-align: top;\n",
       "    }\n",
       "\n",
       "    .dataframe thead th {\n",
       "        text-align: right;\n",
       "    }\n",
       "</style>\n",
       "<table border=\"1\" class=\"dataframe\">\n",
       "  <thead>\n",
       "    <tr style=\"text-align: right;\">\n",
       "      <th></th>\n",
       "      <th>Gender</th>\n",
       "      <th>State</th>\n",
       "      <th>Count</th>\n",
       "    </tr>\n",
       "    <tr>\n",
       "      <th>Name</th>\n",
       "      <th></th>\n",
       "      <th></th>\n",
       "      <th></th>\n",
       "    </tr>\n",
       "  </thead>\n",
       "  <tbody>\n",
       "    <tr>\n",
       "      <th>Jacob</th>\n",
       "      <td>MMMMMMMMMMMMMMMMMMMMMMMMMMMMMMMMMMMMMMMMMMMMMM...</td>\n",
       "      <td>AKAKAKAKAKAKAKAKAKAKAKALALALALALALALALALALALAR...</td>\n",
       "      <td>242874</td>\n",
       "    </tr>\n",
       "    <tr>\n",
       "      <th>Emma</th>\n",
       "      <td>FFFFFFFFFFFFFFFFFFFFFFFFFFFFFFFFFFFFFFFFFFFFFF...</td>\n",
       "      <td>AKAKAKAKAKAKAKAKAKAKAKALALALALALALALALALALALAR...</td>\n",
       "      <td>214852</td>\n",
       "    </tr>\n",
       "    <tr>\n",
       "      <th>Michael</th>\n",
       "      <td>MMMMMMMMMMMMMMMMMMMMMMMMMMMMMMMMMMMMMMMMMMMMFF...</td>\n",
       "      <td>AKAKAKAKAKAKAKAKAKAKAKALALALALALALALALALALALAR...</td>\n",
       "      <td>214405</td>\n",
       "    </tr>\n",
       "    <tr>\n",
       "      <th>Ethan</th>\n",
       "      <td>MMMMMMMMMMMMMMMMMMMMMMMMMMMMMMMMMMMMMMMMMMMMMM...</td>\n",
       "      <td>AKAKAKAKAKAKAKAKAKAKAKALALALALALALALALALALALAR...</td>\n",
       "      <td>209277</td>\n",
       "    </tr>\n",
       "    <tr>\n",
       "      <th>Isabella</th>\n",
       "      <td>FFFFFFFFFFFFFFFFFFFFFFFFFFFFFFFFFFFFFFFFFFFFFF...</td>\n",
       "      <td>AKAKAKAKAKAKAKAKAKAKAKALALALALALALALALALALALAR...</td>\n",
       "      <td>204798</td>\n",
       "    </tr>\n",
       "  </tbody>\n",
       "</table>\n",
       "</div>"
      ],
      "text/plain": [
       "                                                     Gender  \\\n",
       "Name                                                          \n",
       "Jacob     MMMMMMMMMMMMMMMMMMMMMMMMMMMMMMMMMMMMMMMMMMMMMM...   \n",
       "Emma      FFFFFFFFFFFFFFFFFFFFFFFFFFFFFFFFFFFFFFFFFFFFFF...   \n",
       "Michael   MMMMMMMMMMMMMMMMMMMMMMMMMMMMMMMMMMMMMMMMMMMMFF...   \n",
       "Ethan     MMMMMMMMMMMMMMMMMMMMMMMMMMMMMMMMMMMMMMMMMMMMMM...   \n",
       "Isabella  FFFFFFFFFFFFFFFFFFFFFFFFFFFFFFFFFFFFFFFFFFFFFF...   \n",
       "\n",
       "                                                      State   Count  \n",
       "Name                                                                 \n",
       "Jacob     AKAKAKAKAKAKAKAKAKAKAKALALALALALALALALALALALAR...  242874  \n",
       "Emma      AKAKAKAKAKAKAKAKAKAKAKALALALALALALALALALALALAR...  214852  \n",
       "Michael   AKAKAKAKAKAKAKAKAKAKAKALALALALALALALALALALALAR...  214405  \n",
       "Ethan     AKAKAKAKAKAKAKAKAKAKAKALALALALALALALALALALALAR...  209277  \n",
       "Isabella  AKAKAKAKAKAKAKAKAKAKAKALALALALALALALALALALALAR...  204798  "
      ]
     },
     "execution_count": 11,
     "metadata": {},
     "output_type": "execute_result"
    }
   ],
   "source": [
    "#7. Group the dataset by name and assign to names\n",
    "#deleting the year column\n",
    "del baby_names['Year']\n",
    "names = baby_names.groupby('Name').sum()\n",
    "#printing the first 5 observations\n",
    "names.head(5)\n",
    "#printing its size\n",
    "names.shape\n",
    "# sort it from the biggest value to the smallest one\n",
    "names.sort_values(\"Count\", ascending = 0).head()"
   ]
  },
  {
   "cell_type": "code",
   "execution_count": 12,
   "id": "46ef5aa8",
   "metadata": {},
   "outputs": [
    {
     "data": {
      "text/plain": [
       "17632"
      ]
     },
     "execution_count": 12,
     "metadata": {},
     "output_type": "execute_result"
    }
   ],
   "source": [
    "#8. How many different names exist in the dataset?\n",
    "len(names)"
   ]
  },
  {
   "cell_type": "code",
   "execution_count": 13,
   "id": "e881bae6",
   "metadata": {},
   "outputs": [
    {
     "data": {
      "text/plain": [
       "'Jacob'"
      ]
     },
     "execution_count": 13,
     "metadata": {},
     "output_type": "execute_result"
    }
   ],
   "source": [
    "#What is the name with most occurrences?\n",
    "names.Count.idxmax()\n",
    "\n"
   ]
  },
  {
   "cell_type": "code",
   "execution_count": 14,
   "id": "517c58ba",
   "metadata": {},
   "outputs": [
    {
     "data": {
      "text/plain": [
       "2578"
      ]
     },
     "execution_count": 14,
     "metadata": {},
     "output_type": "execute_result"
    }
   ],
   "source": [
    "#10. How many different names have the least occurrences?\n",
    "len(names[names.Count == names.Count.min()])"
   ]
  },
  {
   "cell_type": "code",
   "execution_count": 15,
   "id": "35358759",
   "metadata": {},
   "outputs": [
    {
     "data": {
      "application/vnd.microsoft.datawrangler.viewer.v0+json": {
       "columns": [
        {
         "name": "Name",
         "rawType": "object",
         "type": "string"
        },
        {
         "name": "Gender",
         "rawType": "object",
         "type": "string"
        },
        {
         "name": "State",
         "rawType": "object",
         "type": "string"
        },
        {
         "name": "Count",
         "rawType": "int64",
         "type": "integer"
        }
       ],
       "ref": "6c8cbbfd-3742-4c83-8304-d6fe49b640ad",
       "rows": [
        [
         "Aishani",
         "FFFFFFF",
         "CACACACACAILNJ",
         "49"
        ],
        [
         "Alara",
         "FFFFFFFF",
         "CACACAFLNYNYNYTX",
         "49"
        ],
        [
         "Alysse",
         "FFFFFFFF",
         "CACACAMINYTXTXTX",
         "49"
        ],
        [
         "Ameir",
         "MMMMMMMM",
         "CAMIMIMIMIMINYOH",
         "49"
        ],
        [
         "Anely",
         "FFFFFFFF",
         "CACACACACACACACA",
         "49"
        ],
        [
         "Antonina",
         "FFFFFFFFF",
         "CAILNJNJNYNYNYNYNY",
         "49"
        ],
        [
         "Aveline",
         "FFFFFF",
         "CACACACACAVA",
         "49"
        ],
        [
         "Aziah",
         "FFFFFFMM",
         "GAGANJOHTXTXTXTX",
         "49"
        ],
        [
         "Baily",
         "FFFFFFFF",
         "CACANYNYOKTXTXTX",
         "49"
        ],
        [
         "Caleah",
         "FFFFFFFFF",
         "FLFLFLGAILLANCTNTX",
         "49"
        ],
        [
         "Carlota",
         "FFFFFFF",
         "CAFLFLFLFLFLFL",
         "49"
        ],
        [
         "Cristine",
         "FFFFFFF",
         "CACACACACANYTX",
         "49"
        ],
        [
         "Dahlila",
         "FFFFFFF",
         "CACACACACACATX",
         "49"
        ],
        [
         "Darvin",
         "MMMMMMMM",
         "CACACAFLFLGANYNY",
         "49"
        ],
        [
         "Deante",
         "MMMMMMMMM",
         "CAGAILMIMIMIMSSCTX",
         "49"
        ],
        [
         "Deserae",
         "FFFFFFFFF",
         "CACACATXTXTXTXTXTX",
         "49"
        ],
        [
         "Devean",
         "MMMM",
         "CACACATX",
         "49"
        ],
        [
         "Elizah",
         "FFFFFFFF",
         "CACACACACAFLTXTX",
         "49"
        ],
        [
         "Emmaly",
         "FFFFFFFF",
         "CACACACACATXTXTX",
         "49"
        ],
        [
         "Emmanuela",
         "FFFFFFFFF",
         "FLFLFLNYNYNYNYNYTX",
         "49"
        ],
        [
         "Envy",
         "FFFFFFFF",
         "CACACACACAILNYTX",
         "49"
        ],
        [
         "Esli",
         "FFFFFFFF",
         "CACACACACATXTXTX",
         "49"
        ],
        [
         "Fay",
         "FFFFFFFF",
         "CACACACANYNYNYNY",
         "49"
        ],
        [
         "Gurshaan",
         "MMMMMMM",
         "CACACACACACACA",
         "49"
        ],
        [
         "Hareem",
         "FFFFFFF",
         "CACAILMDNYNYNY",
         "49"
        ],
        [
         "Iven",
         "MMMMMMM",
         "CACACACACACACA",
         "49"
        ],
        [
         "Jaice",
         "MMMMMMMM",
         "CAFLNYTXTXTXTXWA",
         "49"
        ],
        [
         "Jaiyana",
         "FFFFFFF",
         "CANYNYNYNYOHPA",
         "49"
        ],
        [
         "Jamiracle",
         "FFFFFFFFF",
         "ALALALGAGAMSMSMSTN",
         "49"
        ],
        [
         "Jelissa",
         "FFFFFFFF",
         "CAFLNYNYNYNYNYPA",
         "49"
        ],
        [
         "Jeovany",
         "MMMMMMM",
         "CACACACATXTXTX",
         "49"
        ],
        [
         "Jkwon",
         "MMMMMMM",
         "ALFLGAMSPATXVA",
         "49"
        ],
        [
         "Kaedence",
         "FFFFFFFFF",
         "CAMINCOHOKTXTXTXWA",
         "49"
        ],
        [
         "Kaelee",
         "FFFFFFFF",
         "CACACACAINTXTXWA",
         "49"
        ],
        [
         "Kailana",
         "FFFFFFF",
         "CACACACAHIHIHI",
         "49"
        ],
        [
         "Kaio",
         "MMMMMMMM",
         "CAMAMAMAMAMAMAMA",
         "49"
        ],
        [
         "Kyndle",
         "FFFFFFFF",
         "GANCTXTXTXTXTXTX",
         "49"
        ],
        [
         "Kynsley",
         "FFFFFFF",
         "ALLATNTXTXTXTX",
         "49"
        ],
        [
         "Leylanie",
         "FFFFFFFF",
         "CACACACACACACACA",
         "49"
        ],
        [
         "Maisha",
         "FFFFFFF",
         "FLNYNYNYNYNYNY",
         "49"
        ],
        [
         "Malillany",
         "FFFFFFF",
         "CACACACATXTXTX",
         "49"
        ],
        [
         "Mariann",
         "FFFFFFFF",
         "CACACAFLTXTXTXTX",
         "49"
        ],
        [
         "Marquell",
         "MMMMMMMM",
         "FLFLILILILILOHTX",
         "49"
        ],
        [
         "Maurilio",
         "MMMMMMMM",
         "CACACACATXTXTXTX",
         "49"
        ],
        [
         "Mckynzie",
         "FFFFFFF",
         "CATXTXTXTXTXTX",
         "49"
        ],
        [
         "Mehdi",
         "MMMMMMMM",
         "CAFLMINYNYNYNYNY",
         "49"
        ],
        [
         "Nabeel",
         "MMMMMMMMM",
         "CACACAILILNJNYNYTX",
         "49"
        ],
        [
         "Nalleli",
         "FFFFFFFF",
         "CACACACACATXTXTX",
         "49"
        ],
        [
         "Nassir",
         "MMMMMMMM",
         "CACACAGAILNYNYVA",
         "49"
        ],
        [
         "Nazier",
         "MMMMMMMM",
         "NYNYNYNYNYNYPAPA",
         "49"
        ]
       ],
       "shape": {
        "columns": 3,
        "rows": 66
       }
      },
      "text/html": [
       "<div>\n",
       "<style scoped>\n",
       "    .dataframe tbody tr th:only-of-type {\n",
       "        vertical-align: middle;\n",
       "    }\n",
       "\n",
       "    .dataframe tbody tr th {\n",
       "        vertical-align: top;\n",
       "    }\n",
       "\n",
       "    .dataframe thead th {\n",
       "        text-align: right;\n",
       "    }\n",
       "</style>\n",
       "<table border=\"1\" class=\"dataframe\">\n",
       "  <thead>\n",
       "    <tr style=\"text-align: right;\">\n",
       "      <th></th>\n",
       "      <th>Gender</th>\n",
       "      <th>State</th>\n",
       "      <th>Count</th>\n",
       "    </tr>\n",
       "    <tr>\n",
       "      <th>Name</th>\n",
       "      <th></th>\n",
       "      <th></th>\n",
       "      <th></th>\n",
       "    </tr>\n",
       "  </thead>\n",
       "  <tbody>\n",
       "    <tr>\n",
       "      <th>Aishani</th>\n",
       "      <td>FFFFFFF</td>\n",
       "      <td>CACACACACAILNJ</td>\n",
       "      <td>49</td>\n",
       "    </tr>\n",
       "    <tr>\n",
       "      <th>Alara</th>\n",
       "      <td>FFFFFFFF</td>\n",
       "      <td>CACACAFLNYNYNYTX</td>\n",
       "      <td>49</td>\n",
       "    </tr>\n",
       "    <tr>\n",
       "      <th>Alysse</th>\n",
       "      <td>FFFFFFFF</td>\n",
       "      <td>CACACAMINYTXTXTX</td>\n",
       "      <td>49</td>\n",
       "    </tr>\n",
       "    <tr>\n",
       "      <th>Ameir</th>\n",
       "      <td>MMMMMMMM</td>\n",
       "      <td>CAMIMIMIMIMINYOH</td>\n",
       "      <td>49</td>\n",
       "    </tr>\n",
       "    <tr>\n",
       "      <th>Anely</th>\n",
       "      <td>FFFFFFFF</td>\n",
       "      <td>CACACACACACACACA</td>\n",
       "      <td>49</td>\n",
       "    </tr>\n",
       "    <tr>\n",
       "      <th>...</th>\n",
       "      <td>...</td>\n",
       "      <td>...</td>\n",
       "      <td>...</td>\n",
       "    </tr>\n",
       "    <tr>\n",
       "      <th>Sriram</th>\n",
       "      <td>MMMMMMM</td>\n",
       "      <td>CACACACACACATX</td>\n",
       "      <td>49</td>\n",
       "    </tr>\n",
       "    <tr>\n",
       "      <th>Trinton</th>\n",
       "      <td>MMMMMMMM</td>\n",
       "      <td>FLLAOKTXTXTXTXTX</td>\n",
       "      <td>49</td>\n",
       "    </tr>\n",
       "    <tr>\n",
       "      <th>Vita</th>\n",
       "      <td>FFFFFFF</td>\n",
       "      <td>CACACACACANYNY</td>\n",
       "      <td>49</td>\n",
       "    </tr>\n",
       "    <tr>\n",
       "      <th>Yoni</th>\n",
       "      <td>MMMMMMMM</td>\n",
       "      <td>CACACACACACAFLFL</td>\n",
       "      <td>49</td>\n",
       "    </tr>\n",
       "    <tr>\n",
       "      <th>Zuleima</th>\n",
       "      <td>FFFFFFF</td>\n",
       "      <td>AZCACACACACACA</td>\n",
       "      <td>49</td>\n",
       "    </tr>\n",
       "  </tbody>\n",
       "</table>\n",
       "<p>66 rows × 3 columns</p>\n",
       "</div>"
      ],
      "text/plain": [
       "           Gender             State  Count\n",
       "Name                                      \n",
       "Aishani   FFFFFFF    CACACACACAILNJ     49\n",
       "Alara    FFFFFFFF  CACACAFLNYNYNYTX     49\n",
       "Alysse   FFFFFFFF  CACACAMINYTXTXTX     49\n",
       "Ameir    MMMMMMMM  CAMIMIMIMIMINYOH     49\n",
       "Anely    FFFFFFFF  CACACACACACACACA     49\n",
       "...           ...               ...    ...\n",
       "Sriram    MMMMMMM    CACACACACACATX     49\n",
       "Trinton  MMMMMMMM  FLLAOKTXTXTXTXTX     49\n",
       "Vita      FFFFFFF    CACACACACANYNY     49\n",
       "Yoni     MMMMMMMM  CACACACACACAFLFL     49\n",
       "Zuleima   FFFFFFF    AZCACACACACACA     49\n",
       "\n",
       "[66 rows x 3 columns]"
      ]
     },
     "execution_count": 15,
     "metadata": {},
     "output_type": "execute_result"
    }
   ],
   "source": [
    "#11. What is the median name occurrence?\n",
    "names[names.Count == names.Count.median()]"
   ]
  },
  {
   "cell_type": "code",
   "execution_count": 18,
   "id": "5f4ca1f9",
   "metadata": {},
   "outputs": [
    {
     "data": {
      "text/plain": [
       "11006.069467891111"
      ]
     },
     "execution_count": 18,
     "metadata": {},
     "output_type": "execute_result"
    }
   ],
   "source": [
    "#12. What is the standard deviation of names?\n",
    "names.Count.std()"
   ]
  },
  {
   "cell_type": "code",
   "execution_count": 19,
   "id": "2670cc88",
   "metadata": {},
   "outputs": [
    {
     "data": {
      "application/vnd.microsoft.datawrangler.viewer.v0+json": {
       "columns": [
        {
         "name": "index",
         "rawType": "object",
         "type": "string"
        },
        {
         "name": "Count",
         "rawType": "float64",
         "type": "float"
        }
       ],
       "ref": "21ceaf5b-a2ef-49cf-b79c-b1511da69386",
       "rows": [
        [
         "count",
         "17632.0"
        ],
        [
         "mean",
         "2008.932168784029"
        ],
        [
         "std",
         "11006.069467891111"
        ],
        [
         "min",
         "5.0"
        ],
        [
         "25%",
         "11.0"
        ],
        [
         "50%",
         "49.0"
        ],
        [
         "75%",
         "337.0"
        ],
        [
         "max",
         "242874.0"
        ]
       ],
       "shape": {
        "columns": 1,
        "rows": 8
       }
      },
      "text/html": [
       "<div>\n",
       "<style scoped>\n",
       "    .dataframe tbody tr th:only-of-type {\n",
       "        vertical-align: middle;\n",
       "    }\n",
       "\n",
       "    .dataframe tbody tr th {\n",
       "        vertical-align: top;\n",
       "    }\n",
       "\n",
       "    .dataframe thead th {\n",
       "        text-align: right;\n",
       "    }\n",
       "</style>\n",
       "<table border=\"1\" class=\"dataframe\">\n",
       "  <thead>\n",
       "    <tr style=\"text-align: right;\">\n",
       "      <th></th>\n",
       "      <th>Count</th>\n",
       "    </tr>\n",
       "  </thead>\n",
       "  <tbody>\n",
       "    <tr>\n",
       "      <th>count</th>\n",
       "      <td>17632.000000</td>\n",
       "    </tr>\n",
       "    <tr>\n",
       "      <th>mean</th>\n",
       "      <td>2008.932169</td>\n",
       "    </tr>\n",
       "    <tr>\n",
       "      <th>std</th>\n",
       "      <td>11006.069468</td>\n",
       "    </tr>\n",
       "    <tr>\n",
       "      <th>min</th>\n",
       "      <td>5.000000</td>\n",
       "    </tr>\n",
       "    <tr>\n",
       "      <th>25%</th>\n",
       "      <td>11.000000</td>\n",
       "    </tr>\n",
       "    <tr>\n",
       "      <th>50%</th>\n",
       "      <td>49.000000</td>\n",
       "    </tr>\n",
       "    <tr>\n",
       "      <th>75%</th>\n",
       "      <td>337.000000</td>\n",
       "    </tr>\n",
       "    <tr>\n",
       "      <th>max</th>\n",
       "      <td>242874.000000</td>\n",
       "    </tr>\n",
       "  </tbody>\n",
       "</table>\n",
       "</div>"
      ],
      "text/plain": [
       "               Count\n",
       "count   17632.000000\n",
       "mean     2008.932169\n",
       "std     11006.069468\n",
       "min         5.000000\n",
       "25%        11.000000\n",
       "50%        49.000000\n",
       "75%       337.000000\n",
       "max    242874.000000"
      ]
     },
     "execution_count": 19,
     "metadata": {},
     "output_type": "execute_result"
    }
   ],
   "source": [
    "#13. Get a summary with the mean, min, max, std and quartiles.\n",
    "names.describe()"
   ]
  }
 ],
 "metadata": {
  "kernelspec": {
   "display_name": "nazir_tutorial",
   "language": "python",
   "name": "python3"
  },
  "language_info": {
   "codemirror_mode": {
    "name": "ipython",
    "version": 3
   },
   "file_extension": ".py",
   "mimetype": "text/x-python",
   "name": "python",
   "nbconvert_exporter": "python",
   "pygments_lexer": "ipython3",
   "version": "3.10.15"
  }
 },
 "nbformat": 4,
 "nbformat_minor": 5
}
