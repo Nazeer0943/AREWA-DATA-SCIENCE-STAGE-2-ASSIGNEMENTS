{
 "cells": [
  {
   "cell_type": "markdown",
   "id": "04de87f0",
   "metadata": {},
   "source": [
    "__Importing the necessary files__"
   ]
  },
  {
   "cell_type": "code",
   "execution_count": 1,
   "id": "9f3fd38f",
   "metadata": {},
   "outputs": [],
   "source": [
    "import pandas as pd \n",
    "import numpy as np"
   ]
  },
  {
   "cell_type": "code",
   "execution_count": 2,
   "id": "a7d0819d",
   "metadata": {},
   "outputs": [
    {
     "data": {
      "application/vnd.microsoft.datawrangler.viewer.v0+json": {
       "columns": [
        {
         "name": "index",
         "rawType": "int64",
         "type": "integer"
        },
        {
         "name": "Year",
         "rawType": "int64",
         "type": "integer"
        },
        {
         "name": "Population",
         "rawType": "int64",
         "type": "integer"
        },
        {
         "name": "Total",
         "rawType": "int64",
         "type": "integer"
        },
        {
         "name": "Violent",
         "rawType": "int64",
         "type": "integer"
        },
        {
         "name": "Property",
         "rawType": "int64",
         "type": "integer"
        },
        {
         "name": "Murder",
         "rawType": "int64",
         "type": "integer"
        },
        {
         "name": "Forcible_Rape",
         "rawType": "int64",
         "type": "integer"
        },
        {
         "name": "Robbery",
         "rawType": "int64",
         "type": "integer"
        },
        {
         "name": "Aggravated_assault",
         "rawType": "int64",
         "type": "integer"
        },
        {
         "name": "Burglary",
         "rawType": "int64",
         "type": "integer"
        },
        {
         "name": "Larceny_Theft",
         "rawType": "int64",
         "type": "integer"
        },
        {
         "name": "Vehicle_Theft",
         "rawType": "int64",
         "type": "integer"
        }
       ],
       "ref": "c8997e57-3542-428d-8b13-7c2ade0c55e8",
       "rows": [
        [
         "0",
         "1960",
         "179323175",
         "3384200",
         "288460",
         "3095700",
         "9110",
         "17190",
         "107840",
         "154320",
         "912100",
         "1855400",
         "328200"
        ],
        [
         "1",
         "1961",
         "182992000",
         "3488000",
         "289390",
         "3198600",
         "8740",
         "17220",
         "106670",
         "156760",
         "949600",
         "1913000",
         "336000"
        ],
        [
         "2",
         "1962",
         "185771000",
         "3752200",
         "301510",
         "3450700",
         "8530",
         "17550",
         "110860",
         "164570",
         "994300",
         "2089600",
         "366800"
        ],
        [
         "3",
         "1963",
         "188483000",
         "4109500",
         "316970",
         "3792500",
         "8640",
         "17650",
         "116470",
         "174210",
         "1086400",
         "2297800",
         "408300"
        ],
        [
         "4",
         "1964",
         "191141000",
         "4564600",
         "364220",
         "4200400",
         "9360",
         "21420",
         "130390",
         "203050",
         "1213200",
         "2514400",
         "472800"
        ]
       ],
       "shape": {
        "columns": 12,
        "rows": 5
       }
      },
      "text/html": [
       "<div>\n",
       "<style scoped>\n",
       "    .dataframe tbody tr th:only-of-type {\n",
       "        vertical-align: middle;\n",
       "    }\n",
       "\n",
       "    .dataframe tbody tr th {\n",
       "        vertical-align: top;\n",
       "    }\n",
       "\n",
       "    .dataframe thead th {\n",
       "        text-align: right;\n",
       "    }\n",
       "</style>\n",
       "<table border=\"1\" class=\"dataframe\">\n",
       "  <thead>\n",
       "    <tr style=\"text-align: right;\">\n",
       "      <th></th>\n",
       "      <th>Year</th>\n",
       "      <th>Population</th>\n",
       "      <th>Total</th>\n",
       "      <th>Violent</th>\n",
       "      <th>Property</th>\n",
       "      <th>Murder</th>\n",
       "      <th>Forcible_Rape</th>\n",
       "      <th>Robbery</th>\n",
       "      <th>Aggravated_assault</th>\n",
       "      <th>Burglary</th>\n",
       "      <th>Larceny_Theft</th>\n",
       "      <th>Vehicle_Theft</th>\n",
       "    </tr>\n",
       "  </thead>\n",
       "  <tbody>\n",
       "    <tr>\n",
       "      <th>0</th>\n",
       "      <td>1960</td>\n",
       "      <td>179323175</td>\n",
       "      <td>3384200</td>\n",
       "      <td>288460</td>\n",
       "      <td>3095700</td>\n",
       "      <td>9110</td>\n",
       "      <td>17190</td>\n",
       "      <td>107840</td>\n",
       "      <td>154320</td>\n",
       "      <td>912100</td>\n",
       "      <td>1855400</td>\n",
       "      <td>328200</td>\n",
       "    </tr>\n",
       "    <tr>\n",
       "      <th>1</th>\n",
       "      <td>1961</td>\n",
       "      <td>182992000</td>\n",
       "      <td>3488000</td>\n",
       "      <td>289390</td>\n",
       "      <td>3198600</td>\n",
       "      <td>8740</td>\n",
       "      <td>17220</td>\n",
       "      <td>106670</td>\n",
       "      <td>156760</td>\n",
       "      <td>949600</td>\n",
       "      <td>1913000</td>\n",
       "      <td>336000</td>\n",
       "    </tr>\n",
       "    <tr>\n",
       "      <th>2</th>\n",
       "      <td>1962</td>\n",
       "      <td>185771000</td>\n",
       "      <td>3752200</td>\n",
       "      <td>301510</td>\n",
       "      <td>3450700</td>\n",
       "      <td>8530</td>\n",
       "      <td>17550</td>\n",
       "      <td>110860</td>\n",
       "      <td>164570</td>\n",
       "      <td>994300</td>\n",
       "      <td>2089600</td>\n",
       "      <td>366800</td>\n",
       "    </tr>\n",
       "    <tr>\n",
       "      <th>3</th>\n",
       "      <td>1963</td>\n",
       "      <td>188483000</td>\n",
       "      <td>4109500</td>\n",
       "      <td>316970</td>\n",
       "      <td>3792500</td>\n",
       "      <td>8640</td>\n",
       "      <td>17650</td>\n",
       "      <td>116470</td>\n",
       "      <td>174210</td>\n",
       "      <td>1086400</td>\n",
       "      <td>2297800</td>\n",
       "      <td>408300</td>\n",
       "    </tr>\n",
       "    <tr>\n",
       "      <th>4</th>\n",
       "      <td>1964</td>\n",
       "      <td>191141000</td>\n",
       "      <td>4564600</td>\n",
       "      <td>364220</td>\n",
       "      <td>4200400</td>\n",
       "      <td>9360</td>\n",
       "      <td>21420</td>\n",
       "      <td>130390</td>\n",
       "      <td>203050</td>\n",
       "      <td>1213200</td>\n",
       "      <td>2514400</td>\n",
       "      <td>472800</td>\n",
       "    </tr>\n",
       "  </tbody>\n",
       "</table>\n",
       "</div>"
      ],
      "text/plain": [
       "   Year  Population    Total  Violent  Property  Murder  Forcible_Rape  \\\n",
       "0  1960   179323175  3384200   288460   3095700    9110          17190   \n",
       "1  1961   182992000  3488000   289390   3198600    8740          17220   \n",
       "2  1962   185771000  3752200   301510   3450700    8530          17550   \n",
       "3  1963   188483000  4109500   316970   3792500    8640          17650   \n",
       "4  1964   191141000  4564600   364220   4200400    9360          21420   \n",
       "\n",
       "   Robbery  Aggravated_assault  Burglary  Larceny_Theft  Vehicle_Theft  \n",
       "0   107840              154320    912100        1855400         328200  \n",
       "1   106670              156760    949600        1913000         336000  \n",
       "2   110860              164570    994300        2089600         366800  \n",
       "3   116470              174210   1086400        2297800         408300  \n",
       "4   130390              203050   1213200        2514400         472800  "
      ]
     },
     "execution_count": 2,
     "metadata": {},
     "output_type": "execute_result"
    }
   ],
   "source": [
    "#Impoting the dataset and assigning it to a variable\n",
    "url = \"https://raw.githubusercontent.com/guipsamora/pandas_exercises/master/04_Apply/US_Crime_Rates/US_Crime_Rates_1960_2014.csv\"\n",
    "crime = pd.read_csv(url)\n",
    "crime.head()"
   ]
  },
  {
   "cell_type": "code",
   "execution_count": 3,
   "id": "bc9ec2af",
   "metadata": {},
   "outputs": [
    {
     "name": "stdout",
     "output_type": "stream",
     "text": [
      "<class 'pandas.core.frame.DataFrame'>\n",
      "RangeIndex: 55 entries, 0 to 54\n",
      "Data columns (total 12 columns):\n",
      " #   Column              Non-Null Count  Dtype\n",
      "---  ------              --------------  -----\n",
      " 0   Year                55 non-null     int64\n",
      " 1   Population          55 non-null     int64\n",
      " 2   Total               55 non-null     int64\n",
      " 3   Violent             55 non-null     int64\n",
      " 4   Property            55 non-null     int64\n",
      " 5   Murder              55 non-null     int64\n",
      " 6   Forcible_Rape       55 non-null     int64\n",
      " 7   Robbery             55 non-null     int64\n",
      " 8   Aggravated_assault  55 non-null     int64\n",
      " 9   Burglary            55 non-null     int64\n",
      " 10  Larceny_Theft       55 non-null     int64\n",
      " 11  Vehicle_Theft       55 non-null     int64\n",
      "dtypes: int64(12)\n",
      "memory usage: 5.3 KB\n"
     ]
    }
   ],
   "source": [
    "#Step 4. What is the type of the columns?\n",
    "crime.info()"
   ]
  },
  {
   "cell_type": "code",
   "execution_count": 4,
   "id": "3babb359",
   "metadata": {},
   "outputs": [
    {
     "name": "stdout",
     "output_type": "stream",
     "text": [
      "<class 'pandas.core.frame.DataFrame'>\n",
      "RangeIndex: 55 entries, 0 to 54\n",
      "Data columns (total 12 columns):\n",
      " #   Column              Non-Null Count  Dtype         \n",
      "---  ------              --------------  -----         \n",
      " 0   Year                55 non-null     datetime64[ns]\n",
      " 1   Population          55 non-null     int64         \n",
      " 2   Total               55 non-null     int64         \n",
      " 3   Violent             55 non-null     int64         \n",
      " 4   Property            55 non-null     int64         \n",
      " 5   Murder              55 non-null     int64         \n",
      " 6   Forcible_Rape       55 non-null     int64         \n",
      " 7   Robbery             55 non-null     int64         \n",
      " 8   Aggravated_assault  55 non-null     int64         \n",
      " 9   Burglary            55 non-null     int64         \n",
      " 10  Larceny_Theft       55 non-null     int64         \n",
      " 11  Vehicle_Theft       55 non-null     int64         \n",
      "dtypes: datetime64[ns](1), int64(11)\n",
      "memory usage: 5.3 KB\n"
     ]
    }
   ],
   "source": [
    "#5. Convert the type of the column Year to datetime64\n",
    "crime[\"Year\"] = pd.to_datetime(crime[\"Year\"], format='%Y')\n",
    "crime.info()"
   ]
  },
  {
   "cell_type": "code",
   "execution_count": 17,
   "id": "3aba1ede",
   "metadata": {},
   "outputs": [],
   "source": [
    "#7. Delete the Total column\n",
    "del crime['Total']\n"
   ]
  },
  {
   "cell_type": "code",
   "execution_count": 18,
   "id": "170c1817",
   "metadata": {},
   "outputs": [
    {
     "name": "stderr",
     "output_type": "stream",
     "text": [
      "C:\\Users\\ak\\AppData\\Local\\Temp\\ipykernel_17616\\4052617165.py:3: FutureWarning: 'AS' is deprecated and will be removed in a future version, please use 'YS' instead.\n",
      "  crimes = crime.resample('10AS').sum()\n",
      "C:\\Users\\ak\\AppData\\Local\\Temp\\ipykernel_17616\\4052617165.py:6: FutureWarning: 'AS' is deprecated and will be removed in a future version, please use 'YS' instead.\n",
      "  population = crime['Population'].resample('10AS').max()\n"
     ]
    },
    {
     "data": {
      "application/vnd.microsoft.datawrangler.viewer.v0+json": {
       "columns": [
        {
         "name": "Year",
         "rawType": "datetime64[ns]",
         "type": "datetime"
        },
        {
         "name": "Population",
         "rawType": "int64",
         "type": "integer"
        },
        {
         "name": "Violent",
         "rawType": "int64",
         "type": "integer"
        },
        {
         "name": "Property",
         "rawType": "int64",
         "type": "integer"
        },
        {
         "name": "Murder",
         "rawType": "int64",
         "type": "integer"
        },
        {
         "name": "Forcible_Rape",
         "rawType": "int64",
         "type": "integer"
        },
        {
         "name": "Robbery",
         "rawType": "int64",
         "type": "integer"
        },
        {
         "name": "Aggravated_assault",
         "rawType": "int64",
         "type": "integer"
        },
        {
         "name": "Burglary",
         "rawType": "int64",
         "type": "integer"
        },
        {
         "name": "Larceny_Theft",
         "rawType": "int64",
         "type": "integer"
        },
        {
         "name": "Vehicle_Theft",
         "rawType": "int64",
         "type": "integer"
        }
       ],
       "ref": "e78b7998-462b-471f-8565-9deb3e56293c",
       "rows": [
        [
         "1960-01-01 00:00:00",
         "201385000",
         "4134930",
         "45160900",
         "106180",
         "236720",
         "1633510",
         "2158520",
         "13321100",
         "26547700",
         "5292100"
        ],
        [
         "1970-01-01 00:00:00",
         "220099000",
         "9607930",
         "91383800",
         "192230",
         "554570",
         "4159020",
         "4702120",
         "28486000",
         "53157800",
         "9739900"
        ],
        [
         "1980-01-01 00:00:00",
         "248239000",
         "14074328",
         "117048900",
         "206439",
         "865639",
         "5383109",
         "7619130",
         "33073494",
         "72040253",
         "11935411"
        ],
        [
         "1990-01-01 00:00:00",
         "272690813",
         "17527048",
         "119053499",
         "211664",
         "998827",
         "5748930",
         "10568963",
         "26750015",
         "77679366",
         "14624418"
        ],
        [
         "2000-01-01 00:00:00",
         "307006550",
         "13968056",
         "100944369",
         "163068",
         "922499",
         "4230366",
         "8652124",
         "21565176",
         "67970291",
         "11412834"
        ],
        [
         "2010-01-01 00:00:00",
         "318857056",
         "6072017",
         "44095950",
         "72867",
         "421059",
         "1749809",
         "3764142",
         "10125170",
         "30401698",
         "3569080"
        ]
       ],
       "shape": {
        "columns": 10,
        "rows": 6
       }
      },
      "text/html": [
       "<div>\n",
       "<style scoped>\n",
       "    .dataframe tbody tr th:only-of-type {\n",
       "        vertical-align: middle;\n",
       "    }\n",
       "\n",
       "    .dataframe tbody tr th {\n",
       "        vertical-align: top;\n",
       "    }\n",
       "\n",
       "    .dataframe thead th {\n",
       "        text-align: right;\n",
       "    }\n",
       "</style>\n",
       "<table border=\"1\" class=\"dataframe\">\n",
       "  <thead>\n",
       "    <tr style=\"text-align: right;\">\n",
       "      <th></th>\n",
       "      <th>Population</th>\n",
       "      <th>Violent</th>\n",
       "      <th>Property</th>\n",
       "      <th>Murder</th>\n",
       "      <th>Forcible_Rape</th>\n",
       "      <th>Robbery</th>\n",
       "      <th>Aggravated_assault</th>\n",
       "      <th>Burglary</th>\n",
       "      <th>Larceny_Theft</th>\n",
       "      <th>Vehicle_Theft</th>\n",
       "    </tr>\n",
       "    <tr>\n",
       "      <th>Year</th>\n",
       "      <th></th>\n",
       "      <th></th>\n",
       "      <th></th>\n",
       "      <th></th>\n",
       "      <th></th>\n",
       "      <th></th>\n",
       "      <th></th>\n",
       "      <th></th>\n",
       "      <th></th>\n",
       "      <th></th>\n",
       "    </tr>\n",
       "  </thead>\n",
       "  <tbody>\n",
       "    <tr>\n",
       "      <th>1960-01-01</th>\n",
       "      <td>201385000</td>\n",
       "      <td>4134930</td>\n",
       "      <td>45160900</td>\n",
       "      <td>106180</td>\n",
       "      <td>236720</td>\n",
       "      <td>1633510</td>\n",
       "      <td>2158520</td>\n",
       "      <td>13321100</td>\n",
       "      <td>26547700</td>\n",
       "      <td>5292100</td>\n",
       "    </tr>\n",
       "    <tr>\n",
       "      <th>1970-01-01</th>\n",
       "      <td>220099000</td>\n",
       "      <td>9607930</td>\n",
       "      <td>91383800</td>\n",
       "      <td>192230</td>\n",
       "      <td>554570</td>\n",
       "      <td>4159020</td>\n",
       "      <td>4702120</td>\n",
       "      <td>28486000</td>\n",
       "      <td>53157800</td>\n",
       "      <td>9739900</td>\n",
       "    </tr>\n",
       "    <tr>\n",
       "      <th>1980-01-01</th>\n",
       "      <td>248239000</td>\n",
       "      <td>14074328</td>\n",
       "      <td>117048900</td>\n",
       "      <td>206439</td>\n",
       "      <td>865639</td>\n",
       "      <td>5383109</td>\n",
       "      <td>7619130</td>\n",
       "      <td>33073494</td>\n",
       "      <td>72040253</td>\n",
       "      <td>11935411</td>\n",
       "    </tr>\n",
       "    <tr>\n",
       "      <th>1990-01-01</th>\n",
       "      <td>272690813</td>\n",
       "      <td>17527048</td>\n",
       "      <td>119053499</td>\n",
       "      <td>211664</td>\n",
       "      <td>998827</td>\n",
       "      <td>5748930</td>\n",
       "      <td>10568963</td>\n",
       "      <td>26750015</td>\n",
       "      <td>77679366</td>\n",
       "      <td>14624418</td>\n",
       "    </tr>\n",
       "    <tr>\n",
       "      <th>2000-01-01</th>\n",
       "      <td>307006550</td>\n",
       "      <td>13968056</td>\n",
       "      <td>100944369</td>\n",
       "      <td>163068</td>\n",
       "      <td>922499</td>\n",
       "      <td>4230366</td>\n",
       "      <td>8652124</td>\n",
       "      <td>21565176</td>\n",
       "      <td>67970291</td>\n",
       "      <td>11412834</td>\n",
       "    </tr>\n",
       "    <tr>\n",
       "      <th>2010-01-01</th>\n",
       "      <td>318857056</td>\n",
       "      <td>6072017</td>\n",
       "      <td>44095950</td>\n",
       "      <td>72867</td>\n",
       "      <td>421059</td>\n",
       "      <td>1749809</td>\n",
       "      <td>3764142</td>\n",
       "      <td>10125170</td>\n",
       "      <td>30401698</td>\n",
       "      <td>3569080</td>\n",
       "    </tr>\n",
       "  </tbody>\n",
       "</table>\n",
       "</div>"
      ],
      "text/plain": [
       "            Population   Violent   Property  Murder  Forcible_Rape  Robbery  \\\n",
       "Year                                                                          \n",
       "1960-01-01   201385000   4134930   45160900  106180         236720  1633510   \n",
       "1970-01-01   220099000   9607930   91383800  192230         554570  4159020   \n",
       "1980-01-01   248239000  14074328  117048900  206439         865639  5383109   \n",
       "1990-01-01   272690813  17527048  119053499  211664         998827  5748930   \n",
       "2000-01-01   307006550  13968056  100944369  163068         922499  4230366   \n",
       "2010-01-01   318857056   6072017   44095950   72867         421059  1749809   \n",
       "\n",
       "            Aggravated_assault  Burglary  Larceny_Theft  Vehicle_Theft  \n",
       "Year                                                                    \n",
       "1960-01-01             2158520  13321100       26547700        5292100  \n",
       "1970-01-01             4702120  28486000       53157800        9739900  \n",
       "1980-01-01             7619130  33073494       72040253       11935411  \n",
       "1990-01-01            10568963  26750015       77679366       14624418  \n",
       "2000-01-01             8652124  21565176       67970291       11412834  \n",
       "2010-01-01             3764142  10125170       30401698        3569080  "
      ]
     },
     "execution_count": 18,
     "metadata": {},
     "output_type": "execute_result"
    }
   ],
   "source": [
    "#8. Group the year by decades and sum the values\n",
    "# Uses resample to sum each decade\n",
    "crimes = crime.resample('10AS').sum()\n",
    "\n",
    "# Uses resample to get the max value only for the \"Population\" column\n",
    "population = crime['Population'].resample('10AS').max()\n",
    "\n",
    "# Updating the \"Population\" column\n",
    "crimes['Population'] = population\n",
    "\n",
    "crimes"
   ]
  }
 ],
 "metadata": {
  "kernelspec": {
   "display_name": "nazir_tutorial",
   "language": "python",
   "name": "python3"
  },
  "language_info": {
   "codemirror_mode": {
    "name": "ipython",
    "version": 3
   },
   "file_extension": ".py",
   "mimetype": "text/x-python",
   "name": "python",
   "nbconvert_exporter": "python",
   "pygments_lexer": "ipython3",
   "version": "3.10.15"
  }
 },
 "nbformat": 4,
 "nbformat_minor": 5
}
