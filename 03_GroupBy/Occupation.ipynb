{
 "cells": [
  {
   "cell_type": "markdown",
   "id": "9794b666",
   "metadata": {},
   "source": [
    "__Importing the necessary library and getting ur datasets__"
   ]
  },
  {
   "cell_type": "code",
   "execution_count": 1,
   "id": "30b5e122",
   "metadata": {},
   "outputs": [
    {
     "data": {
      "application/vnd.microsoft.datawrangler.viewer.v0+json": {
       "columns": [
        {
         "name": "user_id",
         "rawType": "int64",
         "type": "integer"
        },
        {
         "name": "age",
         "rawType": "int64",
         "type": "integer"
        },
        {
         "name": "gender",
         "rawType": "object",
         "type": "string"
        },
        {
         "name": "occupation",
         "rawType": "object",
         "type": "string"
        },
        {
         "name": "zip_code",
         "rawType": "object",
         "type": "string"
        }
       ],
       "ref": "eaf595e6-1a4b-4402-8c99-fdf1c4148e15",
       "rows": [
        [
         "1",
         "24",
         "M",
         "technician",
         "85711"
        ],
        [
         "2",
         "53",
         "F",
         "other",
         "94043"
        ],
        [
         "3",
         "23",
         "M",
         "writer",
         "32067"
        ],
        [
         "4",
         "24",
         "M",
         "technician",
         "43537"
        ],
        [
         "5",
         "33",
         "F",
         "other",
         "15213"
        ]
       ],
       "shape": {
        "columns": 4,
        "rows": 5
       }
      },
      "text/html": [
       "<div>\n",
       "<style scoped>\n",
       "    .dataframe tbody tr th:only-of-type {\n",
       "        vertical-align: middle;\n",
       "    }\n",
       "\n",
       "    .dataframe tbody tr th {\n",
       "        vertical-align: top;\n",
       "    }\n",
       "\n",
       "    .dataframe thead th {\n",
       "        text-align: right;\n",
       "    }\n",
       "</style>\n",
       "<table border=\"1\" class=\"dataframe\">\n",
       "  <thead>\n",
       "    <tr style=\"text-align: right;\">\n",
       "      <th></th>\n",
       "      <th>age</th>\n",
       "      <th>gender</th>\n",
       "      <th>occupation</th>\n",
       "      <th>zip_code</th>\n",
       "    </tr>\n",
       "    <tr>\n",
       "      <th>user_id</th>\n",
       "      <th></th>\n",
       "      <th></th>\n",
       "      <th></th>\n",
       "      <th></th>\n",
       "    </tr>\n",
       "  </thead>\n",
       "  <tbody>\n",
       "    <tr>\n",
       "      <th>1</th>\n",
       "      <td>24</td>\n",
       "      <td>M</td>\n",
       "      <td>technician</td>\n",
       "      <td>85711</td>\n",
       "    </tr>\n",
       "    <tr>\n",
       "      <th>2</th>\n",
       "      <td>53</td>\n",
       "      <td>F</td>\n",
       "      <td>other</td>\n",
       "      <td>94043</td>\n",
       "    </tr>\n",
       "    <tr>\n",
       "      <th>3</th>\n",
       "      <td>23</td>\n",
       "      <td>M</td>\n",
       "      <td>writer</td>\n",
       "      <td>32067</td>\n",
       "    </tr>\n",
       "    <tr>\n",
       "      <th>4</th>\n",
       "      <td>24</td>\n",
       "      <td>M</td>\n",
       "      <td>technician</td>\n",
       "      <td>43537</td>\n",
       "    </tr>\n",
       "    <tr>\n",
       "      <th>5</th>\n",
       "      <td>33</td>\n",
       "      <td>F</td>\n",
       "      <td>other</td>\n",
       "      <td>15213</td>\n",
       "    </tr>\n",
       "  </tbody>\n",
       "</table>\n",
       "</div>"
      ],
      "text/plain": [
       "         age gender  occupation zip_code\n",
       "user_id                                 \n",
       "1         24      M  technician    85711\n",
       "2         53      F       other    94043\n",
       "3         23      M      writer    32067\n",
       "4         24      M  technician    43537\n",
       "5         33      F       other    15213"
      ]
     },
     "execution_count": 1,
     "metadata": {},
     "output_type": "execute_result"
    }
   ],
   "source": [
    "import pandas as pd \n",
    "users = pd.read_table('https://raw.githubusercontent.com/justmarkham/DAT8/master/data/u.user', \n",
    "                      sep='|', index_col='user_id')\n",
    "users.head()"
   ]
  },
  {
   "cell_type": "code",
   "execution_count": 3,
   "id": "ace9f26e",
   "metadata": {},
   "outputs": [
    {
     "data": {
      "application/vnd.microsoft.datawrangler.viewer.v0+json": {
       "columns": [
        {
         "name": "occupation",
         "rawType": "object",
         "type": "string"
        },
        {
         "name": "age",
         "rawType": "float64",
         "type": "float"
        }
       ],
       "ref": "b35aa0e6-ab91-4e9c-b10d-93e3e1842cac",
       "rows": [
        [
         "administrator",
         "38.74683544303797"
        ],
        [
         "artist",
         "31.392857142857142"
        ],
        [
         "doctor",
         "43.57142857142857"
        ],
        [
         "educator",
         "42.01052631578948"
        ],
        [
         "engineer",
         "36.38805970149254"
        ],
        [
         "entertainment",
         "29.22222222222222"
        ],
        [
         "executive",
         "38.71875"
        ],
        [
         "healthcare",
         "41.5625"
        ],
        [
         "homemaker",
         "32.57142857142857"
        ],
        [
         "lawyer",
         "36.75"
        ],
        [
         "librarian",
         "40.0"
        ],
        [
         "marketing",
         "37.61538461538461"
        ],
        [
         "none",
         "26.555555555555557"
        ],
        [
         "other",
         "34.523809523809526"
        ],
        [
         "programmer",
         "33.121212121212125"
        ],
        [
         "retired",
         "63.07142857142857"
        ],
        [
         "salesman",
         "35.666666666666664"
        ],
        [
         "scientist",
         "35.54838709677419"
        ],
        [
         "student",
         "22.081632653061224"
        ],
        [
         "technician",
         "33.148148148148145"
        ],
        [
         "writer",
         "36.31111111111111"
        ]
       ],
       "shape": {
        "columns": 1,
        "rows": 21
       }
      },
      "text/plain": [
       "occupation\n",
       "administrator    38.746835\n",
       "artist           31.392857\n",
       "doctor           43.571429\n",
       "educator         42.010526\n",
       "engineer         36.388060\n",
       "entertainment    29.222222\n",
       "executive        38.718750\n",
       "healthcare       41.562500\n",
       "homemaker        32.571429\n",
       "lawyer           36.750000\n",
       "librarian        40.000000\n",
       "marketing        37.615385\n",
       "none             26.555556\n",
       "other            34.523810\n",
       "programmer       33.121212\n",
       "retired          63.071429\n",
       "salesman         35.666667\n",
       "scientist        35.548387\n",
       "student          22.081633\n",
       "technician       33.148148\n",
       "writer           36.311111\n",
       "Name: age, dtype: float64"
      ]
     },
     "execution_count": 3,
     "metadata": {},
     "output_type": "execute_result"
    }
   ],
   "source": [
    "#4. Discover what is the mean age per occupation\n",
    "users.groupby(\"occupation\")['age'].mean()"
   ]
  },
  {
   "cell_type": "code",
   "execution_count": 6,
   "id": "37c3e816",
   "metadata": {},
   "outputs": [
    {
     "data": {
      "application/vnd.microsoft.datawrangler.viewer.v0+json": {
       "columns": [
        {
         "name": "occupation",
         "rawType": "object",
         "type": "string"
        },
        {
         "name": "0",
         "rawType": "float64",
         "type": "float"
        }
       ],
       "ref": "70476c88-693a-4931-88fa-666585216b06",
       "rows": [
        [
         "homemaker",
         "14.285714285714285"
        ],
        [
         "healthcare",
         "31.25"
        ],
        [
         "librarian",
         "43.13725490196079"
        ],
        [
         "artist",
         "53.57142857142857"
        ],
        [
         "administrator",
         "54.43037974683544"
        ],
        [
         "none",
         "55.55555555555556"
        ],
        [
         "writer",
         "57.77777777777777"
        ],
        [
         "marketing",
         "61.53846153846154"
        ],
        [
         "other",
         "65.71428571428571"
        ],
        [
         "student",
         "69.38775510204081"
        ],
        [
         "educator",
         "72.63157894736842"
        ],
        [
         "salesman",
         "75.0"
        ],
        [
         "lawyer",
         "83.33333333333334"
        ],
        [
         "entertainment",
         "88.88888888888889"
        ],
        [
         "scientist",
         "90.32258064516128"
        ],
        [
         "executive",
         "90.625"
        ],
        [
         "programmer",
         "90.9090909090909"
        ],
        [
         "retired",
         "92.85714285714286"
        ],
        [
         "technician",
         "96.29629629629629"
        ],
        [
         "engineer",
         "97.01492537313433"
        ],
        [
         "doctor",
         "100.0"
        ]
       ],
       "shape": {
        "columns": 1,
        "rows": 21
       }
      },
      "text/plain": [
       "occupation\n",
       "homemaker         14.285714\n",
       "healthcare        31.250000\n",
       "librarian         43.137255\n",
       "artist            53.571429\n",
       "administrator     54.430380\n",
       "none              55.555556\n",
       "writer            57.777778\n",
       "marketing         61.538462\n",
       "other             65.714286\n",
       "student           69.387755\n",
       "educator          72.631579\n",
       "salesman          75.000000\n",
       "lawyer            83.333333\n",
       "entertainment     88.888889\n",
       "scientist         90.322581\n",
       "executive         90.625000\n",
       "programmer        90.909091\n",
       "retired           92.857143\n",
       "technician        96.296296\n",
       "engineer          97.014925\n",
       "doctor           100.000000\n",
       "dtype: float64"
      ]
     },
     "execution_count": 6,
     "metadata": {},
     "output_type": "execute_result"
    }
   ],
   "source": [
    "#5. Discover the Male ratio per occupation and sort it from the most to the least\n",
    "#creating a function to appy to our gender columns\n",
    "def gender_to_numeric(x):\n",
    "    if x == 'M':\n",
    "        return 1\n",
    "    if x == 'F':\n",
    "        return 0\n",
    "#applying the func\n",
    "users['gender_num'] = users['gender'].apply(gender_to_numeric)\n",
    "a = users.groupby(\"occupation\").gender_num.sum() / users.occupation.value_counts() * 100\n",
    "#sorting the values\n",
    "a.sort_values(ascending = True)"
   ]
  },
  {
   "cell_type": "code",
   "execution_count": 10,
   "id": "817916fc",
   "metadata": {},
   "outputs": [
    {
     "data": {
      "application/vnd.microsoft.datawrangler.viewer.v0+json": {
       "columns": [
        {
         "name": "occupation",
         "rawType": "object",
         "type": "string"
        },
        {
         "name": "min",
         "rawType": "int64",
         "type": "integer"
        },
        {
         "name": "max",
         "rawType": "int64",
         "type": "integer"
        }
       ],
       "ref": "ae13b80d-92d5-4d3e-a86e-510076d38696",
       "rows": [
        [
         "administrator",
         "21",
         "70"
        ],
        [
         "artist",
         "19",
         "48"
        ],
        [
         "doctor",
         "28",
         "64"
        ],
        [
         "educator",
         "23",
         "63"
        ],
        [
         "engineer",
         "22",
         "70"
        ],
        [
         "entertainment",
         "15",
         "50"
        ],
        [
         "executive",
         "22",
         "69"
        ],
        [
         "healthcare",
         "22",
         "62"
        ],
        [
         "homemaker",
         "20",
         "50"
        ],
        [
         "lawyer",
         "21",
         "53"
        ],
        [
         "librarian",
         "23",
         "69"
        ],
        [
         "marketing",
         "24",
         "55"
        ],
        [
         "none",
         "11",
         "55"
        ],
        [
         "other",
         "13",
         "64"
        ],
        [
         "programmer",
         "20",
         "63"
        ],
        [
         "retired",
         "51",
         "73"
        ],
        [
         "salesman",
         "18",
         "66"
        ],
        [
         "scientist",
         "23",
         "55"
        ],
        [
         "student",
         "7",
         "42"
        ],
        [
         "technician",
         "21",
         "55"
        ],
        [
         "writer",
         "18",
         "60"
        ]
       ],
       "shape": {
        "columns": 2,
        "rows": 21
       }
      },
      "text/html": [
       "<div>\n",
       "<style scoped>\n",
       "    .dataframe tbody tr th:only-of-type {\n",
       "        vertical-align: middle;\n",
       "    }\n",
       "\n",
       "    .dataframe tbody tr th {\n",
       "        vertical-align: top;\n",
       "    }\n",
       "\n",
       "    .dataframe thead th {\n",
       "        text-align: right;\n",
       "    }\n",
       "</style>\n",
       "<table border=\"1\" class=\"dataframe\">\n",
       "  <thead>\n",
       "    <tr style=\"text-align: right;\">\n",
       "      <th></th>\n",
       "      <th>min</th>\n",
       "      <th>max</th>\n",
       "    </tr>\n",
       "    <tr>\n",
       "      <th>occupation</th>\n",
       "      <th></th>\n",
       "      <th></th>\n",
       "    </tr>\n",
       "  </thead>\n",
       "  <tbody>\n",
       "    <tr>\n",
       "      <th>administrator</th>\n",
       "      <td>21</td>\n",
       "      <td>70</td>\n",
       "    </tr>\n",
       "    <tr>\n",
       "      <th>artist</th>\n",
       "      <td>19</td>\n",
       "      <td>48</td>\n",
       "    </tr>\n",
       "    <tr>\n",
       "      <th>doctor</th>\n",
       "      <td>28</td>\n",
       "      <td>64</td>\n",
       "    </tr>\n",
       "    <tr>\n",
       "      <th>educator</th>\n",
       "      <td>23</td>\n",
       "      <td>63</td>\n",
       "    </tr>\n",
       "    <tr>\n",
       "      <th>engineer</th>\n",
       "      <td>22</td>\n",
       "      <td>70</td>\n",
       "    </tr>\n",
       "    <tr>\n",
       "      <th>entertainment</th>\n",
       "      <td>15</td>\n",
       "      <td>50</td>\n",
       "    </tr>\n",
       "    <tr>\n",
       "      <th>executive</th>\n",
       "      <td>22</td>\n",
       "      <td>69</td>\n",
       "    </tr>\n",
       "    <tr>\n",
       "      <th>healthcare</th>\n",
       "      <td>22</td>\n",
       "      <td>62</td>\n",
       "    </tr>\n",
       "    <tr>\n",
       "      <th>homemaker</th>\n",
       "      <td>20</td>\n",
       "      <td>50</td>\n",
       "    </tr>\n",
       "    <tr>\n",
       "      <th>lawyer</th>\n",
       "      <td>21</td>\n",
       "      <td>53</td>\n",
       "    </tr>\n",
       "    <tr>\n",
       "      <th>librarian</th>\n",
       "      <td>23</td>\n",
       "      <td>69</td>\n",
       "    </tr>\n",
       "    <tr>\n",
       "      <th>marketing</th>\n",
       "      <td>24</td>\n",
       "      <td>55</td>\n",
       "    </tr>\n",
       "    <tr>\n",
       "      <th>none</th>\n",
       "      <td>11</td>\n",
       "      <td>55</td>\n",
       "    </tr>\n",
       "    <tr>\n",
       "      <th>other</th>\n",
       "      <td>13</td>\n",
       "      <td>64</td>\n",
       "    </tr>\n",
       "    <tr>\n",
       "      <th>programmer</th>\n",
       "      <td>20</td>\n",
       "      <td>63</td>\n",
       "    </tr>\n",
       "    <tr>\n",
       "      <th>retired</th>\n",
       "      <td>51</td>\n",
       "      <td>73</td>\n",
       "    </tr>\n",
       "    <tr>\n",
       "      <th>salesman</th>\n",
       "      <td>18</td>\n",
       "      <td>66</td>\n",
       "    </tr>\n",
       "    <tr>\n",
       "      <th>scientist</th>\n",
       "      <td>23</td>\n",
       "      <td>55</td>\n",
       "    </tr>\n",
       "    <tr>\n",
       "      <th>student</th>\n",
       "      <td>7</td>\n",
       "      <td>42</td>\n",
       "    </tr>\n",
       "    <tr>\n",
       "      <th>technician</th>\n",
       "      <td>21</td>\n",
       "      <td>55</td>\n",
       "    </tr>\n",
       "    <tr>\n",
       "      <th>writer</th>\n",
       "      <td>18</td>\n",
       "      <td>60</td>\n",
       "    </tr>\n",
       "  </tbody>\n",
       "</table>\n",
       "</div>"
      ],
      "text/plain": [
       "               min  max\n",
       "occupation             \n",
       "administrator   21   70\n",
       "artist          19   48\n",
       "doctor          28   64\n",
       "educator        23   63\n",
       "engineer        22   70\n",
       "entertainment   15   50\n",
       "executive       22   69\n",
       "healthcare      22   62\n",
       "homemaker       20   50\n",
       "lawyer          21   53\n",
       "librarian       23   69\n",
       "marketing       24   55\n",
       "none            11   55\n",
       "other           13   64\n",
       "programmer      20   63\n",
       "retired         51   73\n",
       "salesman        18   66\n",
       "scientist       23   55\n",
       "student          7   42\n",
       "technician      21   55\n",
       "writer          18   60"
      ]
     },
     "execution_count": 10,
     "metadata": {},
     "output_type": "execute_result"
    }
   ],
   "source": [
    "#For each occupation, calculate the minimum and maximum ages\n",
    "users.groupby(\"occupation\")['age'].agg(['min', 'max'])"
   ]
  },
  {
   "cell_type": "code",
   "execution_count": 11,
   "id": "1a9d801c",
   "metadata": {},
   "outputs": [
    {
     "data": {
      "application/vnd.microsoft.datawrangler.viewer.v0+json": {
       "columns": [
        {
         "name": "('occupation', 'gender')",
         "rawType": "object",
         "type": "unknown"
        },
        {
         "name": "age",
         "rawType": "float64",
         "type": "float"
        }
       ],
       "ref": "1f1dd9a8-6279-4c5c-87c4-08070ea02839",
       "rows": [
        [
         "('administrator', 'F')",
         "40.638888888888886"
        ],
        [
         "('administrator', 'M')",
         "37.16279069767442"
        ],
        [
         "('artist', 'F')",
         "30.307692307692307"
        ],
        [
         "('artist', 'M')",
         "32.333333333333336"
        ],
        [
         "('doctor', 'M')",
         "43.57142857142857"
        ],
        [
         "('educator', 'F')",
         "39.11538461538461"
        ],
        [
         "('educator', 'M')",
         "43.10144927536232"
        ],
        [
         "('engineer', 'F')",
         "29.5"
        ],
        [
         "('engineer', 'M')",
         "36.6"
        ],
        [
         "('entertainment', 'F')",
         "31.0"
        ],
        [
         "('entertainment', 'M')",
         "29.0"
        ],
        [
         "('executive', 'F')",
         "44.0"
        ],
        [
         "('executive', 'M')",
         "38.172413793103445"
        ],
        [
         "('healthcare', 'F')",
         "39.81818181818182"
        ],
        [
         "('healthcare', 'M')",
         "45.4"
        ],
        [
         "('homemaker', 'F')",
         "34.166666666666664"
        ],
        [
         "('homemaker', 'M')",
         "23.0"
        ],
        [
         "('lawyer', 'F')",
         "39.5"
        ],
        [
         "('lawyer', 'M')",
         "36.2"
        ],
        [
         "('librarian', 'F')",
         "40.0"
        ],
        [
         "('librarian', 'M')",
         "40.0"
        ],
        [
         "('marketing', 'F')",
         "37.2"
        ],
        [
         "('marketing', 'M')",
         "37.875"
        ],
        [
         "('none', 'F')",
         "36.5"
        ],
        [
         "('none', 'M')",
         "18.6"
        ],
        [
         "('other', 'F')",
         "35.47222222222222"
        ],
        [
         "('other', 'M')",
         "34.028985507246375"
        ],
        [
         "('programmer', 'F')",
         "32.166666666666664"
        ],
        [
         "('programmer', 'M')",
         "33.21666666666667"
        ],
        [
         "('retired', 'F')",
         "70.0"
        ],
        [
         "('retired', 'M')",
         "62.53846153846154"
        ],
        [
         "('salesman', 'F')",
         "27.0"
        ],
        [
         "('salesman', 'M')",
         "38.55555555555556"
        ],
        [
         "('scientist', 'F')",
         "28.333333333333332"
        ],
        [
         "('scientist', 'M')",
         "36.32142857142857"
        ],
        [
         "('student', 'F')",
         "20.75"
        ],
        [
         "('student', 'M')",
         "22.669117647058822"
        ],
        [
         "('technician', 'F')",
         "38.0"
        ],
        [
         "('technician', 'M')",
         "32.96153846153846"
        ],
        [
         "('writer', 'F')",
         "37.63157894736842"
        ],
        [
         "('writer', 'M')",
         "35.34615384615385"
        ]
       ],
       "shape": {
        "columns": 1,
        "rows": 41
       }
      },
      "text/plain": [
       "occupation     gender\n",
       "administrator  F         40.638889\n",
       "               M         37.162791\n",
       "artist         F         30.307692\n",
       "               M         32.333333\n",
       "doctor         M         43.571429\n",
       "educator       F         39.115385\n",
       "               M         43.101449\n",
       "engineer       F         29.500000\n",
       "               M         36.600000\n",
       "entertainment  F         31.000000\n",
       "               M         29.000000\n",
       "executive      F         44.000000\n",
       "               M         38.172414\n",
       "healthcare     F         39.818182\n",
       "               M         45.400000\n",
       "homemaker      F         34.166667\n",
       "               M         23.000000\n",
       "lawyer         F         39.500000\n",
       "               M         36.200000\n",
       "librarian      F         40.000000\n",
       "               M         40.000000\n",
       "marketing      F         37.200000\n",
       "               M         37.875000\n",
       "none           F         36.500000\n",
       "               M         18.600000\n",
       "other          F         35.472222\n",
       "               M         34.028986\n",
       "programmer     F         32.166667\n",
       "               M         33.216667\n",
       "retired        F         70.000000\n",
       "               M         62.538462\n",
       "salesman       F         27.000000\n",
       "               M         38.555556\n",
       "scientist      F         28.333333\n",
       "               M         36.321429\n",
       "student        F         20.750000\n",
       "               M         22.669118\n",
       "technician     F         38.000000\n",
       "               M         32.961538\n",
       "writer         F         37.631579\n",
       "               M         35.346154\n",
       "Name: age, dtype: float64"
      ]
     },
     "execution_count": 11,
     "metadata": {},
     "output_type": "execute_result"
    }
   ],
   "source": [
    "#7. For each combination of occupation and gender, calculate the mean age\n",
    "users.groupby([\"occupation\", \"gender\"])['age'].mean()"
   ]
  },
  {
   "cell_type": "code",
   "execution_count": 13,
   "id": "12f8161b",
   "metadata": {},
   "outputs": [
    {
     "data": {
      "application/vnd.microsoft.datawrangler.viewer.v0+json": {
       "columns": [
        {
         "name": "('occupation', 'gender')",
         "rawType": "object",
         "type": "unknown"
        },
        {
         "name": "gender",
         "rawType": "float64",
         "type": "float"
        }
       ],
       "ref": "e2f6abef-ff20-450f-9712-68df6e53c6d6",
       "rows": [
        [
         "('administrator', 'F')",
         "45.56962025316456"
        ],
        [
         "('administrator', 'M')",
         "54.43037974683544"
        ],
        [
         "('artist', 'F')",
         "46.42857142857143"
        ],
        [
         "('artist', 'M')",
         "53.57142857142857"
        ],
        [
         "('doctor', 'M')",
         "100.0"
        ],
        [
         "('educator', 'F')",
         "27.368421052631582"
        ],
        [
         "('educator', 'M')",
         "72.63157894736842"
        ],
        [
         "('engineer', 'F')",
         "2.9850746268656714"
        ],
        [
         "('engineer', 'M')",
         "97.01492537313433"
        ],
        [
         "('entertainment', 'F')",
         "11.11111111111111"
        ],
        [
         "('entertainment', 'M')",
         "88.88888888888889"
        ],
        [
         "('executive', 'F')",
         "9.375"
        ],
        [
         "('executive', 'M')",
         "90.625"
        ],
        [
         "('healthcare', 'F')",
         "68.75"
        ],
        [
         "('healthcare', 'M')",
         "31.25"
        ],
        [
         "('homemaker', 'F')",
         "85.71428571428571"
        ],
        [
         "('homemaker', 'M')",
         "14.285714285714285"
        ],
        [
         "('lawyer', 'F')",
         "16.666666666666664"
        ],
        [
         "('lawyer', 'M')",
         "83.33333333333334"
        ],
        [
         "('librarian', 'F')",
         "56.86274509803921"
        ],
        [
         "('librarian', 'M')",
         "43.13725490196079"
        ],
        [
         "('marketing', 'F')",
         "38.46153846153847"
        ],
        [
         "('marketing', 'M')",
         "61.53846153846154"
        ],
        [
         "('none', 'F')",
         "44.44444444444444"
        ],
        [
         "('none', 'M')",
         "55.55555555555556"
        ],
        [
         "('other', 'F')",
         "34.285714285714285"
        ],
        [
         "('other', 'M')",
         "65.71428571428571"
        ],
        [
         "('programmer', 'F')",
         "9.090909090909092"
        ],
        [
         "('programmer', 'M')",
         "90.9090909090909"
        ],
        [
         "('retired', 'F')",
         "7.142857142857142"
        ],
        [
         "('retired', 'M')",
         "92.85714285714286"
        ],
        [
         "('salesman', 'F')",
         "25.0"
        ],
        [
         "('salesman', 'M')",
         "75.0"
        ],
        [
         "('scientist', 'F')",
         "9.67741935483871"
        ],
        [
         "('scientist', 'M')",
         "90.32258064516128"
        ],
        [
         "('student', 'F')",
         "30.612244897959183"
        ],
        [
         "('student', 'M')",
         "69.38775510204081"
        ],
        [
         "('technician', 'F')",
         "3.7037037037037033"
        ],
        [
         "('technician', 'M')",
         "96.29629629629629"
        ],
        [
         "('writer', 'F')",
         "42.22222222222222"
        ],
        [
         "('writer', 'M')",
         "57.77777777777777"
        ]
       ],
       "shape": {
        "columns": 1,
        "rows": 41
       }
      },
      "text/plain": [
       "occupation     gender\n",
       "administrator  F          45.569620\n",
       "               M          54.430380\n",
       "artist         F          46.428571\n",
       "               M          53.571429\n",
       "doctor         M         100.000000\n",
       "educator       F          27.368421\n",
       "               M          72.631579\n",
       "engineer       F           2.985075\n",
       "               M          97.014925\n",
       "entertainment  F          11.111111\n",
       "               M          88.888889\n",
       "executive      F           9.375000\n",
       "               M          90.625000\n",
       "healthcare     F          68.750000\n",
       "               M          31.250000\n",
       "homemaker      F          85.714286\n",
       "               M          14.285714\n",
       "lawyer         F          16.666667\n",
       "               M          83.333333\n",
       "librarian      F          56.862745\n",
       "               M          43.137255\n",
       "marketing      F          38.461538\n",
       "               M          61.538462\n",
       "none           F          44.444444\n",
       "               M          55.555556\n",
       "other          F          34.285714\n",
       "               M          65.714286\n",
       "programmer     F           9.090909\n",
       "               M          90.909091\n",
       "retired        F           7.142857\n",
       "               M          92.857143\n",
       "salesman       F          25.000000\n",
       "               M          75.000000\n",
       "scientist      F           9.677419\n",
       "               M          90.322581\n",
       "student        F          30.612245\n",
       "               M          69.387755\n",
       "technician     F           3.703704\n",
       "               M          96.296296\n",
       "writer         F          42.222222\n",
       "               M          57.777778\n",
       "Name: gender, dtype: float64"
      ]
     },
     "execution_count": 13,
     "metadata": {},
     "output_type": "execute_result"
    }
   ],
   "source": [
    "#8. For each occupation present the percentage of women and men\n",
    "## creating a data frame and applying count to gender\n",
    "gender_ocup = users.groupby([\"occupation\", \"gender\"]).agg({'gender': \"count\"})\n",
    "# create a DataFrame and apply count for each occupation\n",
    "occup_count = users.groupby(['occupation']).agg('count')\n",
    "# divide the gender_ocup per the occup_count and multiply per 100\n",
    "occup_gender = gender_ocup.div(occup_count, level = \"occupation\") * 100\n",
    "\n",
    "# present all rows from the 'gender column'\n",
    "occup_gender.loc[: , 'gender']"
   ]
  }
 ],
 "metadata": {
  "kernelspec": {
   "display_name": "nazir_tutorial",
   "language": "python",
   "name": "python3"
  },
  "language_info": {
   "codemirror_mode": {
    "name": "ipython",
    "version": 3
   },
   "file_extension": ".py",
   "mimetype": "text/x-python",
   "name": "python",
   "nbconvert_exporter": "python",
   "pygments_lexer": "ipython3",
   "version": "3.10.15"
  }
 },
 "nbformat": 4,
 "nbformat_minor": 5
}
